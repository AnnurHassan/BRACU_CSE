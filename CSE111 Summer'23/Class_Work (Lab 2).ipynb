{
  "nbformat": 4,
  "nbformat_minor": 0,
  "metadata": {
    "colab": {
      "provenance": []
    },
    "kernelspec": {
      "name": "python3",
      "display_name": "Python 3"
    },
    "language_info": {
      "name": "python"
    }
  },
  "cells": [
    {
      "cell_type": "code",
      "execution_count": null,
      "metadata": {
        "colab": {
          "base_uri": "https://localhost:8080/"
        },
        "id": "3CytOXg0LfRL",
        "outputId": "21d409a0-8009-4573-caa4-af0e763fb34e"
      },
      "outputs": [
        {
          "output_type": "stream",
          "name": "stdout",
          "text": [
            "Score is 31.3. You are Obese\n"
          ]
        }
      ],
      "source": [
        "#Task 1\n",
        "\n",
        "def BMI(height, weight):\n",
        "    height = height / 100\n",
        "    height = height * height\n",
        "    bmi_score = round((weight / height), 1)\n",
        "    if bmi_score < 18.5:\n",
        "        condition = \"Underweight\"\n",
        "    elif 18.5 <= bmi_score <= 24.9:\n",
        "        condition = \"Normal\"\n",
        "    elif 25 <= bmi_score <= 30:\n",
        "        condition = \"Overweight\"\n",
        "    elif bmi_score > 30:\n",
        "        condition = \"Obese\"\n",
        "    return (f'Score is {bmi_score}. You are {condition}')\n",
        "\n",
        "print(BMI(175,96))"
      ]
    },
    {
      "cell_type": "code",
      "source": [
        "#Task 2\n",
        "def calculate_price(item, location = \"Mohakhali\"):\n",
        "    price_list = {\"BBQ Chicken Cheese Burger\": 250, \"Beef Burger\": 170, \"Naga Drums\": 200}\n",
        "    price = price_list[item]\n",
        "    tax = price * (8/100)\n",
        "    if location != \"Mohakhali\":\n",
        "        total_price = price + tax + 60\n",
        "        return total_price\n",
        "    else:\n",
        "        total_price = price + tax + 40\n",
        "        return total_price\n",
        "\n",
        "print(calculate_price(\"Beef Burger\"))\n"
      ],
      "metadata": {
        "colab": {
          "base_uri": "https://localhost:8080/"
        },
        "id": "WzB6N9f9O0OQ",
        "outputId": "a5fd2a8a-e763-44f7-a198-5ca0f0ec5a0d"
      },
      "execution_count": null,
      "outputs": [
        {
          "output_type": "stream",
          "name": "stdout",
          "text": [
            "223.6\n"
          ]
        }
      ]
    },
    {
      "cell_type": "code",
      "source": [
        "#Task 3\n",
        "\n",
        "def replace_domain(email, new_domain, old_domain = \"\"):\n",
        "    email_list = (email.split(\"@\"))\n",
        "    if old_domain == \"\":\n",
        "        if email_list[-1] == new_domain:\n",
        "            new_email = email\n",
        "            return(f'Unchanged: {new_email}')\n",
        "        else:\n",
        "            new_email = email_list[0] + '@' + new_domain\n",
        "            return(f'Changed: {new_email}')\n",
        "\n",
        "    elif email_list[-1] == old_domain:\n",
        "        new_email = email_list[0] + '@' + new_domain\n",
        "        return(f'Changed: {new_email}')\n",
        "\n",
        "print(replace_domain('alice@sheba.xyz', 'sheba.xyz'))\n"
      ],
      "metadata": {
        "colab": {
          "base_uri": "https://localhost:8080/"
        },
        "id": "FzPvkF9OVe4F",
        "outputId": "ed908053-0825-4295-9e57-64e840cd0d2e"
      },
      "execution_count": null,
      "outputs": [
        {
          "output_type": "stream",
          "name": "stdout",
          "text": [
            "Unchanged: alice@sheba.xyz\n"
          ]
        }
      ]
    },
    {
      "cell_type": "code",
      "source": [
        "#Task 4\n",
        "\n",
        "def check_palindrome(string):\n",
        "    new_string = \"\"\n",
        "    for i in string:\n",
        "        if i == \" \":\n",
        "            continue\n",
        "        else:\n",
        "            new_string += i\n",
        "\n",
        "    if new_string == new_string[::-1]:\n",
        "        return \"Palindrome\"\n",
        "    else:\n",
        "        return \"Not a palindrome\"\n",
        "\n",
        "print(check_palindrome(\"nurses run\"))\n"
      ],
      "metadata": {
        "colab": {
          "base_uri": "https://localhost:8080/"
        },
        "id": "T5DGzlTIcV6Q",
        "outputId": "2d58b730-1f39-44ec-bc15-c6ceb7eca532"
      },
      "execution_count": null,
      "outputs": [
        {
          "output_type": "stream",
          "name": "stdout",
          "text": [
            "Palindrome\n"
          ]
        }
      ]
    },
    {
      "cell_type": "code",
      "source": [
        "#Task 5\n",
        "\n",
        "def time(num):\n",
        "    year = num // 365\n",
        "    remaining_days = num - (year * 365)\n",
        "    months = remaining_days // 30\n",
        "    remaining_days = remaining_days - (months * 30)\n",
        "    return (f'{year} years, {months} months and {remaining_days} days')\n",
        "\n",
        "print(time(4320))\n"
      ],
      "metadata": {
        "colab": {
          "base_uri": "https://localhost:8080/"
        },
        "id": "W9_FsbImt4pw",
        "outputId": "5711908c-e638-45e0-a4e1-27976ef04ab8"
      },
      "execution_count": null,
      "outputs": [
        {
          "output_type": "stream",
          "name": "stdout",
          "text": [
            "11 years, 10 months and 5 days\n"
          ]
        }
      ]
    },
    {
      "cell_type": "code",
      "source": [
        "#Task 6\n",
        "\n",
        "def capitalize(string):\n",
        "    if 97 <= ord(string[0]) <= 122:\n",
        "        new_string = chr(ord(string[0])-32)\n",
        "    else:\n",
        "        new_string = string[0]\n",
        "    i = 1\n",
        "    while i <= len(string):\n",
        "        if i == len(string)-1:\n",
        "            new_string += string[i]\n",
        "            break\n",
        "        else:\n",
        "            if string[i] in \".!?\":\n",
        "                if 97 <= ord(string[i+2]) <= 122:\n",
        "                    new_string += \". \" + chr(ord(string[i+2])-32)\n",
        "                else:\n",
        "                    new_string += \". \" + string[i+2]\n",
        "                i += 3\n",
        "            elif string[i] == \" i \":\n",
        "                new_string += chr(ord(string[i])-32)\n",
        "                i += 3\n",
        "            else:\n",
        "                new_string += string[i]\n",
        "                i += 1\n",
        "    return new_string\n",
        "\n",
        "print(capitalize(\"my favourite animal is a dog. a dog has sharp teeth so that it can eat flesh very easily. Do you know my pet dog's name? I love my pet very much.\"))"
      ],
      "metadata": {
        "colab": {
          "base_uri": "https://localhost:8080/"
        },
        "id": "9dO3wUHYdDJP",
        "outputId": "3b58a8c0-61b9-4992-eaca-8b9003e221d8"
      },
      "execution_count": null,
      "outputs": [
        {
          "output_type": "stream",
          "name": "stdout",
          "text": [
            "My favourite animal is a dog. A dog has sharp teeth so that it can eat flesh very easily. Do you know my pet dog's name. I love my pet very much.\n"
          ]
        }
      ]
    }
  ]
}