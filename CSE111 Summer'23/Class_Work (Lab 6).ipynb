{
 "cells": [
  {
   "cell_type": "code",
   "execution_count": null,
   "metadata": {},
   "outputs": [],
   "source": [
    "# Task 1\n",
    "\n",
    "class NikeBangladesh:\n",
    "    def __init__(self, location):\n",
    "        self.location = location\n",
    "\n",
    "    def status(self):\n",
    "        print(f'')\n",
    "\n",
    "print(\"xxxxxxxxxxxxxx1xxxxxxxxxxxxxxxx\")\n",
    "NikeBangladesh.status()\n",
    "dhaka = NikeBangladesh(\"Dhaka Banani\")\n",
    "chittagong = NikeBangladesh(\"Chittagong GEC\")\n",
    "print(\"xxxxxxxxxxxxxx2xxxxxxxxxxxxxxxx\")\n",
    "dhaka.details()\n",
    "print(\"xxxxxxxxxxxxxx3xxxxxxxxxxxxxxxx\")\n",
    "chittagong.details()\n",
    "print(\"xxxxxxxxxxxxxx4xxxxxxxxxxxxxxxx\")\n",
    "dhaka.restockProducts(\n",
    "{\"Air Jordan\":1200,\"Cortez\":200,\"Zoom Kobe\":200})\n",
    "chittagong.restockProducts(\n",
    "{\"Air Jordan\":1000,\"Cortez\":250,\"Zoom Kobe\":100})\n",
    "print(\"xxxxxxxxxxxxxx5xxxxxxxxxxxxxxxx\")\n",
    "NikeBangladesh.status()\n",
    "print(\"xxxxxxxxxxxxxx6xxxxxxxxxxxxxxxx\")\n",
    "dhaka.productSold({\"Air Jordan\":760,\"Cortez\":90})\n",
    "chittagong.productSold({\"Air Jordan\":520,\"Zoom Kobe\":70})\n",
    "print(\"xxxxxxxxxxxxxx7xxxxxxxxxxxxxxxx\")\n",
    "NikeBangladesh.status()\n"
   ]
  }
 ],
 "metadata": {
  "kernelspec": {
   "display_name": "Python 3",
   "language": "python",
   "name": "python3"
  },
  "language_info": {
   "codemirror_mode": {
    "name": "ipython",
    "version": 3
   },
   "file_extension": ".py",
   "mimetype": "text/x-python",
   "name": "python",
   "nbconvert_exporter": "python",
   "pygments_lexer": "ipython3",
   "version": "3.11.3"
  },
  "orig_nbformat": 4
 },
 "nbformat": 4,
 "nbformat_minor": 2
}
