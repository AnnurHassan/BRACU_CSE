{
  "cells": [
    {
      "cell_type": "code",
      "execution_count": null,
      "metadata": {
        "colab": {
          "base_uri": "https://localhost:8080/"
        },
        "id": "DAioaRc6NzRU",
        "outputId": "e1858af4-341b-484d-eeca-c5f39240b93a"
      },
      "outputs": [
        {
          "name": "stdout",
          "output_type": "stream",
          "text": [
            "=====================================\n",
            "User Name: Bilbo\n",
            "Balance: 1.0\n",
            "Account Type: Savings\n",
            "=====================================\n",
            "User Name: Frodo\n",
            "Balance: 1.0\n",
            "Account Type: Business\n",
            "=====================================\n",
            "New account balance of Bilbo is 15.75\n",
            "New account balance of Frodo is 700.5\n"
          ]
        }
      ],
      "source": [
        "#Task 1\n",
        "\n",
        "class BankAccount:\n",
        "    def __init__(self, name, actype):\n",
        "        self.user_name = name\n",
        "        self.balance = 1.0\n",
        "        self.account_type = actype\n",
        "\n",
        "account1 = BankAccount(\"Bilbo\", \"Savings\")\n",
        "print(\"=====================================\")\n",
        "print(f\"User Name: {account1.user_name}\")\n",
        "print(f\"Balance: {account1.balance}\")\n",
        "print(f\"Account Type:\", account1.account_type)\n",
        "print(\"=====================================\")\n",
        "account2 = BankAccount(\"Frodo\", \"Business\")\n",
        "print(f\"User Name: {account2.user_name}\")\n",
        "print(f\"Balance: {account2.balance}\")\n",
        "print(f\"Account Type: {account2.account_type}\")\n",
        "print(\"=====================================\")\n",
        "account1.balance = 15.75\n",
        "account2.balance = 700.50\n",
        "print(f'New account balance of Bilbo is {account1.balance}')\n",
        "print(f'New account balance of Frodo is {account2.balance}')"
      ]
    },
    {
      "cell_type": "code",
      "execution_count": null,
      "metadata": {
        "colab": {
          "base_uri": "https://localhost:8080/"
        },
        "id": "LX9Hin9LSWvb",
        "outputId": "4d07bdde-2d27-434d-9751-ea55be30d07a"
      },
      "outputs": [
        {
          "name": "stdout",
          "output_type": "stream",
          "text": [
            "=====================================\n",
            "Mango Tree Details:\n",
            "Variety: Gopalbhog\n",
            "Height: 1 meter(s)\n",
            "Number of mangoes on the tree: 0\n",
            "=====================================\n",
            "Mango Tree Details:\n",
            "Variety: Amrapali\n",
            "Height: 1 meter(s)\n",
            "Number of mangoes on the tree: 0\n",
            "=====================================\n",
            "Updated details after 5 years\n",
            "=====================================\n",
            "Variety: Gopalbhog\n",
            "Height: 16 meter(s)\n",
            "Number of mangoes on the tree: 160\n",
            "=====================================\n",
            "Variety: Amrapali\n",
            "Height: 16 meter(s)\n",
            "Number of mangoes on the tree: 240\n"
          ]
        }
      ],
      "source": [
        "#Task 2\n",
        "\n",
        "class MangoTree:\n",
        "    def __init__(self, name):\n",
        "        self.variety = name\n",
        "        self.height = 1\n",
        "        self.number_of_mangoes = 0\n",
        "\n",
        "mangoTree1= MangoTree(\"Gopalbhog\")\n",
        "# Display the details of the mango tree\n",
        "print(\"=====================================\")\n",
        "print(\"Mango Tree Details:\")\n",
        "print(f\"Variety: {mangoTree1.variety}\")\n",
        "print(f\"Height: {mangoTree1.height} meter(s)\")\n",
        "print(f\"Number of mangoes on the tree: {mangoTree1.number_of_mangoes}\")\n",
        "print(\"=====================================\")\n",
        "mangoTree2= MangoTree(\"Amrapali\")\n",
        "# Display the details of the mango tree\n",
        "print(\"Mango Tree Details:\")\n",
        "print(f\"Variety: {mangoTree2.variety}\")\n",
        "print(f\"Height: {mangoTree2.height} meter(s)\")\n",
        "print(f\"Number of mangoes on the tree: {mangoTree2.number_of_mangoes}\")\n",
        "print(\"=====================================\")\n",
        "\n",
        "mangoTree1.height = mangoTree1.height + 3*5\n",
        "mangoTree1.number_of_mangoes = mangoTree1.height * 10\n",
        "mangoTree2.height = mangoTree2.height + 3*5\n",
        "mangoTree2.number_of_mangoes = mangoTree2.height * 15\n",
        "print(\"Updated details after 5 years\")\n",
        "print(\"=====================================\")\n",
        "print(f\"Variety: {mangoTree1.variety}\")\n",
        "print(f\"Height: {mangoTree1.height} meter(s)\")\n",
        "print(f\"Number of mangoes on the tree: {mangoTree1.number_of_mangoes}\")\n",
        "print(\"=====================================\")\n",
        "print(f\"Variety: {mangoTree2.variety}\")\n",
        "print(f\"Height: {mangoTree2.height} meter(s)\")\n",
        "print(f\"Number of mangoes on the tree: {mangoTree2.number_of_mangoes}\")\n"
      ]
    },
    {
      "cell_type": "code",
      "execution_count": null,
      "metadata": {
        "colab": {
          "base_uri": "https://localhost:8080/"
        },
        "id": "tsPMSr24WglI",
        "outputId": "86d8fc2c-080a-40bf-84da-46c021431c22"
      },
      "outputs": [
        {
          "name": "stdout",
          "output_type": "stream",
          "text": [
            "Contact cannot be saved. Length Mismatch!\n",
            "Saved Contacts: {}\n",
            "---------------------------------------------\n",
            "Contacts saved Successfully.\n",
            "Saved Contacts: {'Emergency': '999', 'Father': '01xx23', 'Bestie': '01xx87', 'Mother': '01xx65'}\n"
          ]
        }
      ],
      "source": [
        "#Task 3\n",
        "\n",
        "class Contacts:\n",
        "    def __init__(self, name, num):\n",
        "        self.contactDict = {}\n",
        "        if len(name) == len(num):\n",
        "            print(\"Contacts saved Successfully.\")\n",
        "            for i in range(len(name)):\n",
        "                self.contactDict[name[i]] = num[i]\n",
        "        else:\n",
        "            print(\"Contact cannot be saved. Length Mismatch!\")\n",
        "\n",
        "\n",
        "names = [\"Emergency\", \"Father\", \"Bestie\"]\n",
        "numbers = [\"999\", \"01xx23\", \"01xx87\", \"01xx65\", \"01xx43\"]\n",
        "\n",
        "m1 = Contacts(names, numbers)\n",
        "print(\"Saved Contacts:\", m1.contactDict)\n",
        "print(\"---------------------------------------------\")\n",
        "\n",
        "names.append(\"Mother\")\n",
        "numbers.pop()\n",
        "\n",
        "m2 = Contacts(names, numbers)\n",
        "print(\"Saved Contacts:\", m2.contactDict)\n",
        "\n"
      ]
    },
    {
      "cell_type": "code",
      "execution_count": null,
      "metadata": {
        "colab": {
          "base_uri": "https://localhost:8080/"
        },
        "id": "nXcM6eYZgWzm",
        "outputId": "8f07d95d-9bb7-4d53-cee1-a7c39dbec433"
      },
      "outputs": [
        {
          "name": "stdout",
          "output_type": "stream",
          "text": [
            "Contact cannot be saved. Length Mismatch!\n",
            "Saved Contacts: {}\n",
            "---------------------------------------------\n",
            "Contacts saved Successfully.\n",
            "Saved Contacts: {'Emergency': '999', 'Father': '01xx23', 'Bestie': '01xx87', 'Mother': '01xx65'}\n"
          ]
        }
      ],
      "source": [
        "#Task 3 (2)\n",
        "\n",
        "class Contacts:\n",
        "    def __init__(self, name, num):\n",
        "        self.contactDict = {}\n",
        "        if len(name) == len(num):\n",
        "            print(\"Contacts saved Successfully.\")\n",
        "            for elem in name:\n",
        "                index = name.index(elem)\n",
        "                self.contactDict[elem] = num[index]\n",
        "        else:\n",
        "            print(\"Contact cannot be saved. Length Mismatch!\")\n",
        "\n",
        "\n",
        "names = [\"Emergency\", \"Father\", \"Bestie\"]\n",
        "numbers = [\"999\", \"01xx23\", \"01xx87\", \"01xx65\", \"01xx43\"]\n",
        "\n",
        "m1 = Contacts(names, numbers)\n",
        "print(\"Saved Contacts:\", m1.contactDict)\n",
        "print(\"---------------------------------------------\")\n",
        "\n",
        "names.append(\"Mother\")\n",
        "numbers.pop()\n",
        "\n",
        "m2 = Contacts(names, numbers)\n",
        "print(\"Saved Contacts:\", m2.contactDict)"
      ]
    },
    {
      "cell_type": "code",
      "execution_count": null,
      "metadata": {
        "colab": {
          "base_uri": "https://localhost:8080/"
        },
        "id": "AcqVyc_iXoK_",
        "outputId": "dee12d71-cda6-465e-8c48-6a7e28b1003b"
      },
      "outputs": [
        {
          "name": "stdout",
          "output_type": "stream",
          "text": [
            "All the best, Clark, for the upcoming semester.\n",
            "Name: Clark\n",
            "CGPA: 3.45\n",
            "Courses Taken: 4\n",
            "Student Status: Regular\n",
            "Advising Status: Approved\n",
            "--------------------------------------------------------------------------------\n",
            "Study hard this time, Barry.\n",
            "Name: Barry\n",
            "Student Status: Probation\n",
            "Advising Status: Approved\n",
            "--------------------------------------------------------------------------------\n",
            "Hello Diana, You are a regular student and have to take between 3 to 5 courses.\n",
            "Advising Status: Denied\n",
            "Courses Taken: 0\n",
            "--------------------------------------------------------------------------------\n",
            "Sorry, Bruce, you are on probation and cannot take more than 2 courses.\n",
            "Advising Status: Denied\n",
            "Courses Taken: 0\n"
          ]
        }
      ],
      "source": [
        "#Task 4\n",
        "\n",
        "class Student:\n",
        "    def __init__(self, n, cgpa, num):\n",
        "        self.name = n\n",
        "        self.cgpa = cgpa\n",
        "        self.courses_taken = num\n",
        "        if self.cgpa < 2.00:\n",
        "            self.student_status = \"Probation\"\n",
        "            if 1 <= self.courses_taken <= 2:\n",
        "                print(f'Study hard this time, {self.name}.')\n",
        "                self.advising_status = \"Approved\"\n",
        "            else:\n",
        "                print(f'Sorry, {self.name}, you are on probation and cannot take more than 2 courses.')\n",
        "                self.advising_status = \"Denied\"\n",
        "                self.courses_taken = 0\n",
        "        elif self.cgpa >= 2.00:\n",
        "            self.student_status = \"Regular\"\n",
        "            if 3 <= self.courses_taken <= 5:\n",
        "                print(f'All the best, {self.name}, for the upcoming semester.')\n",
        "                self.advising_status = \"Approved\"\n",
        "            else:\n",
        "                print(f'Hello {self.name}, You are a regular student and have to take between 3 to 5 courses.')\n",
        "                self.advising_status = \"Denied\"\n",
        "                self.courses_taken = 0\n",
        "\n",
        "s1 = Student(\"Clark\", 3.45, 4)\n",
        "print(f\"Name: {s1.name}\\nCGPA: {s1.cgpa}\\nCourses Taken: {s1.courses_taken}\")\n",
        "print(f\"Student Status: {s1.student_status}\\nAdvising Status: {s1.advising_status}\")\n",
        "print(\"--------------------------------------------------------------------------------\")\n",
        "s2 = Student(\"Barry\", 1.93, 2)\n",
        "print(f\"Name: {s2.name}\")\n",
        "print(f\"Student Status: {s2.student_status}\\nAdvising Status: {s2.advising_status}\")\n",
        "print(\"--------------------------------------------------------------------------------\")\n",
        "s3 = Student(\"Diana\", 2.91, 2)\n",
        "print(f\"Advising Status: {s3.advising_status}\\nCourses Taken: {s3.courses_taken}\")\n",
        "print(\"--------------------------------------------------------------------------------\")\n",
        "s4 = Student(\"Bruce\", 1.52, 5)\n",
        "print(f\"Advising Status: {s4.advising_status}\\nCourses Taken: {s4.courses_taken}\")\n"
      ]
    },
    {
      "cell_type": "code",
      "execution_count": null,
      "metadata": {
        "colab": {
          "base_uri": "https://localhost:8080/"
        },
        "id": "fdg8NffWkyPy",
        "outputId": "309604ab-3cb8-4056-a634-eeede2a8a2ee"
      },
      "outputs": [
        {
          "name": "stdout",
          "output_type": "stream",
          "text": [
            "Ferguson wrote the book 'The Act'.\n",
            "This book was published in 1924.\n",
            "This book is The book is Rejected. The book is not antique enough.\n",
            "-------------------------------------\n",
            "Nolan wrote the book 'Flame'.\n",
            "This book was published in 1932.\n",
            "This book is The book is Rejected. The book is not antique enough.\n",
            "-------------------------------------\n",
            "Alfred wrote the book 'Norms'.\n",
            "This book was published in 1832.\n",
            "This book is The book is Accepted. The book is stored on floor 0\n",
            "-------------------------------------\n",
            "Samson wrote the book 'Apex'.\n",
            "This book was published in 1923.\n",
            "This book is The book is Accepted. The book is stored on floor 0\n",
            "-------------------------------------\n",
            "Eden wrote the book 'Habitat'.\n",
            "This book was published in 1723.\n",
            "This book is The book is Accepted. The book is stored on floor 1\n",
            "-------------------------------------\n",
            "Menez wrote the book 'Apocalypto'.\n",
            "This book was published in 1603.\n",
            "This book is The book is Accepted. The book is stored on floor 2\n"
          ]
        }
      ],
      "source": [
        "#Task 5\n",
        "\n",
        "import datetime\n",
        "\n",
        "class Book:\n",
        "    def __init__(self, name, author, book_year):\n",
        "        today = datetime.date.today()\n",
        "        year = today.year\n",
        "        self.name = name\n",
        "        self.author = author\n",
        "        self.year_of_publication = book_year\n",
        "        check = year - self.year_of_publication\n",
        "        floor = check // 200\n",
        "        if check >= 100:\n",
        "            if floor <= 2:\n",
        "                self.status = f'The book is Accepted. The book is stored on floor {floor}'\n",
        "            else:\n",
        "                self.status = f'The book is Accepted. The book is stored on floor {2}'\n",
        "        else:\n",
        "            self.status = \"The book is Rejected. The book is not antique enough.\"\n",
        "\n",
        "\n",
        "\n",
        "book1= Book('The Act', 'Ferguson', 1924)\n",
        "print(f\"{book1.author} wrote the book '{book1.name}'.\")\n",
        "print(f\"This book was published in {book1.year_of_publication}.\")\n",
        "print(f\"This book is {book1.status}\")\n",
        "print(\"-------------------------------------\")\n",
        "book2= Book('Flame', 'Nolan', 1932)\n",
        "print(f\"{book2.author} wrote the book '{book2.name}'.\")\n",
        "print(f\"This book was published in {book2.year_of_publication}.\")\n",
        "print(f\"This book is {book2.status}\")\n",
        "print(\"-------------------------------------\")\n",
        "book3= Book('Norms', 'Alfred', 1832)\n",
        "print(f\"{book3.author} wrote the book '{book3.name}'.\")\n",
        "print(f\"This book was published in {book3.year_of_publication}.\")\n",
        "print(f\"This book is {book3.status}\")\n",
        "print(\"-------------------------------------\")\n",
        "book4= Book('Apex', 'Samson', 1923)\n",
        "print(f\"{book4.author} wrote the book '{book4.name}'.\")\n",
        "print(f\"This book was published in {book4.year_of_publication}.\")\n",
        "print(f\"This book is {book4.status}\")\n",
        "print(\"-------------------------------------\")\n",
        "book5= Book('Habitat', 'Eden', 1723)\n",
        "print(f\"{book5.author} wrote the book '{book5.name}'.\")\n",
        "print(f\"This book was published in {book5.year_of_publication}.\")\n",
        "print(f\"This book is {book5.status}\")\n",
        "print(\"-------------------------------------\")\n",
        "book6= Book('Apocalypto', 'Menez', 1603)\n",
        "print(f\"{book6.author} wrote the book '{book6.name}'.\")\n",
        "print(f\"This book was published in {book6.year_of_publication}.\")\n",
        "print(f\"This book is {book6.status}\")\n"
      ]
    },
    {
      "cell_type": "code",
      "execution_count": null,
      "metadata": {},
      "outputs": [],
      "source": []
    }
  ],
  "metadata": {
    "colab": {
      "provenance": []
    },
    "kernelspec": {
      "display_name": "Python 3",
      "name": "python3"
    },
    "language_info": {
      "name": "python"
    }
  },
  "nbformat": 4,
  "nbformat_minor": 0
}
