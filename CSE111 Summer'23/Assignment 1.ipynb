{
 "cells": [
  {
   "attachments": {},
   "cell_type": "markdown",
   "metadata": {},
   "source": [
    "# String"
   ]
  },
  {
   "cell_type": "code",
   "execution_count": 43,
   "metadata": {},
   "outputs": [
    {
     "name": "stdout",
     "output_type": "stream",
     "text": [
      "apple\n"
     ]
    }
   ],
   "source": [
    "#Task 1\n",
    "\n",
    "string = input(\"Input: \")\n",
    "uppercase_count = 0\n",
    "lowercase_count = 0\n",
    "\n",
    "for i in string:\n",
    "  if 97 <= ord(i) <= 122:\n",
    "    lowercase_count += 1\n",
    "  else:\n",
    "    uppercase_count += 1\n",
    "\n",
    "if lowercase_count >= uppercase_count:\n",
    "    for i in string:\n",
    "        if 97 <= ord(i) <= 122:\n",
    "            print(i, end=\"\")\n",
    "        else:\n",
    "            print(chr(ord(i)+32), end=\"\")\n",
    "else:\n",
    "    for i in string:\n",
    "        if 65 <= ord(i) <= 90:\n",
    "            print(i, end=\"\")\n",
    "        else:\n",
    "            print(chr(ord(i)-32), end=\"\")"
   ]
  },
  {
   "cell_type": "code",
   "execution_count": 3,
   "metadata": {},
   "outputs": [
    {
     "name": "stdout",
     "output_type": "stream",
     "text": [
      "WORD\n"
     ]
    }
   ],
   "source": [
    "#Task 2\n",
    "\n",
    "string = input(\"Input: \")\n",
    "if ord(string[0]) in range(48,58):\n",
    "    \n",
    "    for i in string:\n",
    "        if ord(i) in range(48,58):\n",
    "            result = \"NUMBERS\"\n",
    "        else:\n",
    "            result = \"MIXED\"\n",
    "            break\n",
    "else:\n",
    "    for i in string:\n",
    "        if ord(i) in range(65,91):\n",
    "            result = \"WORD\"\n",
    "        elif ord(i) in range(97,123):\n",
    "            result = \"WORD\"\n",
    "        else:\n",
    "            result = \"MIXED\"\n",
    "            break\n",
    "\n",
    "print(result)"
   ]
  },
  {
   "cell_type": "code",
   "execution_count": 12,
   "metadata": {},
   "outputs": [
    {
     "name": "stdout",
     "output_type": "stream",
     "text": [
      "BLANK\n"
     ]
    }
   ],
   "source": [
    "#Task 3\n",
    "\n",
    "string = input(\"Input: \")\n",
    "range_list = []\n",
    "\n",
    "for i in range(len(string)):\n",
    "    if 65 <= ord(string[i]) <= 90:\n",
    "        range_list.append(i)\n",
    "\n",
    "start,stop = range_list\n",
    "\n",
    "if len(string[start+1:stop]) < 1:\n",
    "    print(\"BLANK\")\n",
    "else:\n",
    "    print(string[start+1:stop])"
   ]
  },
  {
   "cell_type": "code",
   "execution_count": 1,
   "metadata": {},
   "outputs": [
    {
     "name": "stdout",
     "output_type": "stream",
     "text": [
      "hrrhr\n"
     ]
    }
   ],
   "source": [
    "#Task 4\n",
    "\n",
    "string = input(\"Input: \").strip().split(\",\")\n",
    "s1,s2 = string\n",
    "new_string = \"\"\n",
    "\n",
    "for i in s1:\n",
    "    if i in s2:\n",
    "        new_string += i\n",
    "\n",
    "for i in s2:\n",
    "    if i in s1:\n",
    "        new_string += i\n",
    "\n",
    "if new_string:\n",
    "    print(new_string)\n",
    "else:\n",
    "    print(\"Nothing in common.\")\n",
    "\n"
   ]
  },
  {
   "cell_type": "code",
   "execution_count": 6,
   "metadata": {},
   "outputs": [
    {
     "name": "stdout",
     "output_type": "stream",
     "text": [
      "Digit missing\n"
     ]
    }
   ],
   "source": [
    "#Task 5\n",
    "\n",
    "string = input(\"Input: \").strip()\n",
    "uppercase = \"Uppercase character missing,\"\n",
    "lowercase = \"Lowercase character missing,\"\n",
    "digit = \"Digit missing,\"\n",
    "special = \"Special character missing,\"\n",
    "\n",
    "for i in string:\n",
    "    if ord(i) in range(65,91):\n",
    "        uppercase = \"\"\n",
    "    \n",
    "    if ord(i) in range(97,123):\n",
    "        lowercase = \"\"\n",
    "    \n",
    "    if ord(i) in range(48,58):\n",
    "        digit = \"\"\n",
    "    \n",
    "    if i in \"_$#@\":\n",
    "        special = \"\" \n",
    "\n",
    "output = \"\"\n",
    "if uppercase != \"\":\n",
    "    output += uppercase\n",
    "if lowercase != \"\":\n",
    "    output += lowercase\n",
    "if digit != \"\":\n",
    "    output += digit\n",
    "if special != \"\":\n",
    "    output += special\n",
    "if output == \"\":\n",
    "    print(\"OK\")\n",
    "else:\n",
    "    print(output[:-1])"
   ]
  },
  {
   "attachments": {},
   "cell_type": "markdown",
   "metadata": {},
   "source": [
    "# List"
   ]
  },
  {
   "cell_type": "code",
   "execution_count": 9,
   "metadata": {},
   "outputs": [
    {
     "name": "stdout",
     "output_type": "stream",
     "text": [
      "10 - 2 times\n",
      "20 - 2 times\n",
      "30 - 1 times\n",
      "50 - 1 times\n",
      "90 - 1 times\n"
     ]
    }
   ],
   "source": [
    "# Task 1\n",
    "\n",
    "num_list_1 = []\n",
    "num_list_2 = []\n",
    "while True:\n",
    "    num = input(\"Input: \").strip()\n",
    "    if num == \"STOP\":\n",
    "        break\n",
    "\n",
    "    else:\n",
    "        num_list_1.append(num)\n",
    "        if num in num_list_2:\n",
    "            continue\n",
    "        else:\n",
    "            num_list_2.append(num)\n",
    "\n",
    "for i in num_list_2:\n",
    "    count = 0\n",
    "    for j in num_list_1:\n",
    "        if i == j:\n",
    "            count += 1\n",
    "        else:\n",
    "            continue\n",
    "    print(f'{int(i)} - {count} times')"
   ]
  },
  {
   "cell_type": "code",
   "execution_count": 12,
   "metadata": {},
   "outputs": [
    {
     "name": "stdout",
     "output_type": "stream",
     "text": [
      "33\n",
      "[10, 11, 12]\n"
     ]
    }
   ],
   "source": [
    "# Task 2 \n",
    "\n",
    "n = int(input(\"Please enter the number of list: \"))\n",
    "max = 0\n",
    "max_list = []\n",
    "for i in range(n):\n",
    "    sum = 0\n",
    "    string = input(\"Please enter the list of numbers: \").strip().split(\" \")\n",
    "    num_list = [int(i) for i in string]\n",
    "\n",
    "    for i in num_list:\n",
    "        sum += i\n",
    "    \n",
    "    if sum > max:\n",
    "        max = sum\n",
    "        max_list = num_list\n",
    "\n",
    "print(max)\n",
    "print(max_list)\n"
   ]
  },
  {
   "cell_type": "code",
   "execution_count": 14,
   "metadata": {},
   "outputs": [
    {
     "name": "stdout",
     "output_type": "stream",
     "text": [
      "[6, 8, 10, 9, 12, 15, 18, 24, 30]\n"
     ]
    }
   ],
   "source": [
    "#Task 3\n",
    "\n",
    "list_1 = [int(i) for i in (input(\"Input: \")).strip().split(\" \")]\n",
    "list_2 = [int(i) for i in (input(\"Input: \")).strip().split(\" \")]\n",
    "new_list = []\n",
    "for i in list_1:\n",
    "    for j in list_2:\n",
    "        new_list.append(i*j)\n",
    "\n",
    "print(new_list)"
   ]
  },
  {
   "cell_type": "code",
   "execution_count": 15,
   "metadata": {},
   "outputs": [
    {
     "name": "stdout",
     "output_type": "stream",
     "text": [
      "UB Jumper\n",
      "UB Jumper\n",
      "Not UB Jumper\n"
     ]
    }
   ],
   "source": [
    "# Task 4\n",
    "\n",
    "while True:\n",
    "    string = input(\"Input: \").strip()\n",
    "    if string == \"STOP\":\n",
    "        break\n",
    "    else:\n",
    "        num_list = [int(i) for i in string.split(\" \")]\n",
    "        n = len(num_list)\n",
    "        \n",
    "        for i in range(n-1):\n",
    "            differnce = abs(num_list[i] - num_list[i+1])\n",
    "            if 1 <= (differnce) <= (n - 1):\n",
    "                flag = True\n",
    "            else:\n",
    "                flag = False\n",
    "                break\n",
    "\n",
    "        if flag:\n",
    "            print(\"UB Jumper\")\n",
    "        else:\n",
    "            print(\"Not UB Jumper\")\n"
   ]
  },
  {
   "cell_type": "code",
   "execution_count": 18,
   "metadata": {},
   "outputs": [
    {
     "name": "stdout",
     "output_type": "stream",
     "text": [
      "2\n"
     ]
    }
   ],
   "source": [
    "# Task 5\n",
    "\n",
    "n,k = [int(i) for i in (input(\"Input: \").strip().split(\" \"))]\n",
    "string = [int(i) for i in (input(\"Input: \").strip().split(\" \"))]\n",
    "num_of_participants = 0\n",
    "\n",
    "for i in string:\n",
    "    if (5 - i) >= k:\n",
    "        num_of_participants += 1\n",
    "num_of_teams = num_of_participants // 3\n",
    "print(num_of_teams)\n"
   ]
  },
  {
   "attachments": {},
   "cell_type": "markdown",
   "metadata": {},
   "source": [
    "# Dictionary & Tuple"
   ]
  },
  {
   "cell_type": "code",
   "execution_count": 32,
   "metadata": {},
   "outputs": [
    {
     "name": "stdout",
     "output_type": "stream",
     "text": [
      "{'a': 400, ' b': 300, ' c': 200, ' d': 700, ' e': 200}\n",
      "Values: (200, 300, 400, 700)\n"
     ]
    }
   ],
   "source": [
    "#Task 1\n",
    "\n",
    "string_1 = input(\"Input: \").strip().split(\",\")\n",
    "string_2 = input(\"Input: \").strip().split(\",\")\n",
    "new_dict = {}\n",
    "value_list = []\n",
    "for i in string_1:\n",
    "    i = i.split(\":\")\n",
    "    key, value = i\n",
    "    new_dict[key] = int(value)\n",
    "\n",
    "for i in string_2:\n",
    "    i = i.split(\":\")\n",
    "    key, value = i\n",
    "    if key in new_dict.keys():\n",
    "        new_dict[key] += int(value)\n",
    "    else:\n",
    "        new_dict[key] = int(value)\n",
    "\n",
    "for i in new_dict.values():\n",
    "    if i in value_list:\n",
    "        continue\n",
    "    else:\n",
    "        value_list.append(i)\n",
    "\n",
    "for i in range(len(value_list)):\n",
    "    for j in range(i+1,len(value_list)):\n",
    "        if value_list[i] > value_list[j]:\n",
    "            rem = value_list[i]\n",
    "            value_list[i] = value_list[j]\n",
    "            value_list[j] = rem\n",
    "\n",
    "print(new_dict)\n",
    "print(f'Values: {tuple(value_list)}')"
   ]
  },
  {
   "cell_type": "code",
   "execution_count": 25,
   "metadata": {},
   "outputs": [
    {
     "name": "stdout",
     "output_type": "stream",
     "text": [
      "10 - 2 times\n",
      "20 - 2 times\n",
      "30 - 1 times\n",
      "50 - 1 times\n",
      "90 - 1 times\n"
     ]
    }
   ],
   "source": [
    "#Task 2\n",
    "\n",
    "num_list = []\n",
    "new_dict = {}\n",
    "while True:\n",
    "    num = input(\"Input: \").strip()\n",
    "    if num == \"STOP\":\n",
    "        break\n",
    "    else:\n",
    "        num_list.append((int(num)))\n",
    "\n",
    "for i in num_list:\n",
    "    if i in new_dict:\n",
    "        new_dict[i] += 1\n",
    "    else:\n",
    "        new_dict[i] = 1\n",
    "\n",
    "for key,value in new_dict.items():\n",
    "    print(f'{key} - {value} times')"
   ]
  },
  {
   "cell_type": "code",
   "execution_count": 27,
   "metadata": {},
   "outputs": [
    {
     "name": "stdout",
     "output_type": "stream",
     "text": [
      "{' value1': ['key1 ', ' key3 '], ' value2': [' key2 ']}\n"
     ]
    }
   ],
   "source": [
    "#Task 3\n",
    "\n",
    "string = input(\"Input: \").strip().split(\",\")\n",
    "new_dict = {}\n",
    "inverted_dict = {}\n",
    "for i in string:\n",
    "    i = i.split(\":\")\n",
    "    key, value = i\n",
    "    new_dict[key] = value\n",
    "\n",
    "for key,value in new_dict.items():\n",
    "    if value in inverted_dict.keys():\n",
    "        inverted_dict[value].append(key)\n",
    "    else:\n",
    "        inverted_dict[value] = [key]\n",
    "    \n",
    "print(inverted_dict)"
   ]
  },
  {
   "cell_type": "code",
   "execution_count": 35,
   "metadata": {},
   "outputs": [
    {
     "name": "stdout",
     "output_type": "stream",
     "text": [
      "2666688777"
     ]
    }
   ],
   "source": [
    "#Task 4\n",
    "\n",
    "dict_1 = {0: ' ', 1: '.,?!:', 2: 'ABC', 3: 'DEF', 4: 'GHI', 5: 'JKL', 6: 'MNO', 7: 'PQRS', 8: 'TUV', 9: 'WXYZ'}\n",
    "string = input(\"Input: \").strip()\n",
    "for i in string:\n",
    "    if ord(i) in range(97,123):\n",
    "        i = chr(ord(i)-32)\n",
    "    for key,value in dict_1.items():\n",
    "        for j in range(len(value)):\n",
    "            if i == value[j]:\n",
    "                no_of_press = j+1\n",
    "                press_key = str(key)        \n",
    "\n",
    "    print((press_key * no_of_press), end=\"\")\n"
   ]
  }
 ],
 "metadata": {
  "kernelspec": {
   "display_name": "Python 3",
   "language": "python",
   "name": "python3"
  },
  "language_info": {
   "codemirror_mode": {
    "name": "ipython",
    "version": 3
   },
   "file_extension": ".py",
   "mimetype": "text/x-python",
   "name": "python",
   "nbconvert_exporter": "python",
   "pygments_lexer": "ipython3",
   "version": "3.11.3"
  },
  "orig_nbformat": 4
 },
 "nbformat": 4,
 "nbformat_minor": 2
}
