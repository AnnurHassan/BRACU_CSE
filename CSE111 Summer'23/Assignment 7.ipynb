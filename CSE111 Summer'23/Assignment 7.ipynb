{
 "cells": [
  {
   "cell_type": "code",
   "execution_count": null,
   "metadata": {},
   "outputs": [],
   "source": [
    "#Task 1\n",
    "\n",
    "class Employee:\n",
    "    employee_count = {}\n",
    "\n",
    "    def __init__(self, name, jd, wexp, wwh):\n",
    "        self.name = name\n",
    "        self.joining_date = jd\n",
    "        self.work_experience = wexp\n",
    "        if wwh > 60:\n",
    "            self.weekly_work_hour = 40\n",
    "            print(\"Weekly work hours cannot exceed 60 hours.\")\n",
    "\n",
    "        else:\n",
    "            self.weekly_work_hour = wwh\n",
    "\n",
    "    @classmethod\n",
    "    def showDetails(cls):\n",
    "        ...\n",
    "\n",
    "\n",
    "class Programmer(Employee):\n",
    "    designation_list =  [\"Junior Software Engineer\", \"Software Engineer\", \"Senior Software Engineer\", \"Technical Lead\"]\n",
    "\n",
    "    "
   ]
  }
 ],
 "metadata": {
  "language_info": {
   "name": "python"
  },
  "orig_nbformat": 4
 },
 "nbformat": 4,
 "nbformat_minor": 2
}
