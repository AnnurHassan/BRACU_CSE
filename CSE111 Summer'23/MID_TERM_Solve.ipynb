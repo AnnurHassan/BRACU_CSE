{
 "cells": [
  {
   "cell_type": "markdown",
   "metadata": {},
   "source": [
    "# Summer'22 "
   ]
  },
  {
   "cell_type": "code",
   "execution_count": 1,
   "metadata": {},
   "outputs": [
    {
     "name": "stdout",
     "output_type": "stream",
     "text": [
      "Exam Type: Midterm\n",
      "Number of questions: 2\n",
      "Marks per questions: 10\n",
      "Total Marks: 20\n",
      "===========================\n",
      "Exam Type: Final\n",
      "Number of questions: 3\n",
      "Marks per questions: 10\n",
      "Total Marks: 30\n"
     ]
    }
   ],
   "source": [
    "# Question 1\n",
    "\n",
    "class Exam:\n",
    "    def __init__(self, name, noq, mpq):\n",
    "        self.exam_name = name\n",
    "        self.no_of_ques = noq\n",
    "        self.marks_per_ques = mpq\n",
    "\n",
    "    def detail(self):\n",
    "        return f'Exam Type: {self.exam_name}\\nNumber of questions: {self.no_of_ques}\\nMarks per questions: {self.marks_per_ques}\\nTotal Marks: {self.no_of_ques * self. marks_per_ques}'\n",
    "\n",
    "e1 = Exam('Midterm', 2, 10)\n",
    "print(e1.detail())\n",
    "print(\"===========================\")\n",
    "e2 = Exam('Final', 3, 10)\n",
    "print(e2.detail())"
   ]
  },
  {
   "cell_type": "code",
   "execution_count": 2,
   "metadata": {},
   "outputs": [
    {
     "name": "stdout",
     "output_type": "stream",
     "text": [
      "16 7 21\n",
      "3 8 26\n"
     ]
    }
   ],
   "source": [
    "# Question 2 \n",
    "\n",
    "class MidA:\n",
    "    def __init__(self):\n",
    "        self.x = 3\n",
    "        self.y = 7\n",
    "        self.sum = 0\n",
    "\n",
    "    def methodA(self, x):\n",
    "        self.y = x + self.sum + self.x\n",
    "        self.sum = x + self.y\n",
    "        z = MidA()\n",
    "        z.sum = self.sum + self.y\n",
    "        self.methodB(z)\n",
    "        print(self.x, self.y, self.sum)\n",
    "    \n",
    "    def methodB(self, a):\n",
    "        y = 3\n",
    "        a.x = self.x + self.sum\n",
    "        self.sum = a.x + a.y + y\n",
    "        print(a.x, a.y, a.sum)\n",
    "\n",
    "a = MidA()\n",
    "a.methodA(5)"
   ]
  },
  {
   "cell_type": "code",
   "execution_count": 3,
   "metadata": {},
   "outputs": [
    {
     "name": "stdout",
     "output_type": "stream",
     "text": [
      "1.############################\n",
      "ID Cable Box Status: \n",
      "Cable Box is: ON\n",
      "Channel: 0\n",
      "Volume: 3\n",
      "2.############################\n",
      "ID Cable Box Status: \n",
      "Cable Box is: ON\n",
      "Channel: 2\n",
      "Volume: 4\n",
      "3.############################\n",
      "ID Cable Box Status: \n",
      "Cable Box is: OFF\n",
      "4.############################\n",
      "ID Cable Box Status: \n",
      "Cable Box is: ON\n",
      "Channel: 3\n",
      "Volume: 8\n",
      "5.############################\n",
      "ID Cable Box Status: \n",
      "Cable Box is: ON\n",
      "Channel: 3\n",
      "Volume: 6\n",
      "6.############################\n",
      "Power is turned off. Cannot change channel.\n",
      "Power is turned off. Cannot change volume.\n",
      "ID Cable Box Status: \n",
      "Cable Box is: OFF\n",
      "7.############################\n",
      "TV Channel does not exist.\n",
      "ID Cable Box Status: \n",
      "Cable Box is: ON\n",
      "Channel: 3\n",
      "Volume: 6\n"
     ]
    }
   ],
   "source": [
    "# Question 3\n",
    "\n",
    "class RickMote:\n",
    "    def __init__(self):\n",
    "        self.channel_list = [0,2,3,6,7,9]\n",
    "        self.power_status = \"OFF\"\n",
    "        self.volume = 3\n",
    "        self.channel_num = 0\n",
    "\n",
    "    def power(self):\n",
    "        if self.power_status == \"ON\":\n",
    "            self.power_status = \"OFF\"\n",
    "\n",
    "        else:\n",
    "            self.power_status = \"ON\"\n",
    "\n",
    "    def changeVolumeLevel(self, num = 1):\n",
    "        if self.power_status == \"ON\":\n",
    "            self.volume += num\n",
    "        else:\n",
    "            print(\"Power is turned off. Cannot change volume.\")\n",
    "\n",
    "    def changeChannel(self, num = None):\n",
    "        if self.power_status == \"ON\":\n",
    "\n",
    "            if num in self.channel_list:\n",
    "                self.channel_num = num\n",
    "\n",
    "            elif num == None:\n",
    "\n",
    "                for i in range(len(self.channel_list)):\n",
    "                    channel = self.channel_list[i]\n",
    "\n",
    "                    if channel == self.channel_num:\n",
    "                        self.channel_num = self.channel_list[i + 1]\n",
    "                        break\n",
    "            else:\n",
    "                print(\"TV Channel does not exist.\")\n",
    "\n",
    "        else:\n",
    "            print(\"Power is turned off. Cannot change channel.\")\n",
    "\n",
    "    def showInfo(self):\n",
    "        if self.power_status == \"ON\":\n",
    "            print(\"ID Cable Box Status: \")\n",
    "            print(f'Cable Box is: {self.power_status}')\n",
    "            print(f'Channel: {self.channel_num}')\n",
    "            print(f'Volume: {self.volume}')\n",
    "        \n",
    "        else:\n",
    "            print(\"ID Cable Box Status: \")\n",
    "            print(f'Cable Box is: {self.power_status}')\n",
    "\n",
    "oTV = RickMote()\n",
    "oTV.power()\n",
    "print(\"1.############################\")\n",
    "oTV.showInfo()\n",
    "print(\"2.############################\")\n",
    "oTV.changeChannel()\n",
    "oTV.changeVolumeLevel()\n",
    "oTV.showInfo()\n",
    "print(\"3.############################\")\n",
    "oTV.power()\n",
    "oTV.showInfo()\n",
    "print(\"4.############################\")\n",
    "oTV.power()\n",
    "oTV.changeVolumeLevel(4)\n",
    "oTV.changeChannel(3) \n",
    "oTV.showInfo()\n",
    "print(\"5.############################\")\n",
    "oTV.changeVolumeLevel(-2)\n",
    "oTV.showInfo()\n",
    "print(\"6.############################\")\n",
    "oTV.power()\n",
    "oTV.changeChannel(9)\n",
    "oTV.changeVolumeLevel(-1)\n",
    "oTV.showInfo()\n",
    "print(\"7.############################\")\n",
    "oTV.power()\n",
    "oTV.changeChannel(11)\n",
    "oTV.showInfo()"
   ]
  },
  {
   "cell_type": "markdown",
   "metadata": {},
   "source": [
    "# Fall'22"
   ]
  },
  {
   "cell_type": "code",
   "execution_count": 4,
   "metadata": {},
   "outputs": [
    {
     "name": "stdout",
     "output_type": "stream",
     "text": [
      "Genre: Heavy Metal\n",
      "Song list: This Fire Burns, Here I Am\n"
     ]
    }
   ],
   "source": [
    "# Question 1\n",
    "\n",
    "class Spotify:\n",
    "    def __init__(self, g, s1, s2):\n",
    "        self.genre = g\n",
    "        self.song_1 = s1\n",
    "        self.song_2 = s2\n",
    "\n",
    "    def show_playlist(self):\n",
    "        return f\"Genre: {self.genre}\\nSong list: {self.song_1}, {self.song_2}\"\n",
    "\n",
    "rock = Spotify(\"Heavy Metal\", \"This Fire Burns\", \"Here I Am\")\n",
    "print(rock.show_playlist())"
   ]
  },
  {
   "cell_type": "code",
   "execution_count": 5,
   "metadata": {},
   "outputs": [
    {
     "name": "stdout",
     "output_type": "stream",
     "text": [
      "19 1 3\n",
      "4 11 23\n",
      "27 11 41\n"
     ]
    }
   ],
   "source": [
    "# Question 2\n",
    "\n",
    "class MidA:\n",
    "    def __init__(self):\n",
    "        self.x = 4\n",
    "        self.y = 1\n",
    "        self.sum = 3\n",
    "\n",
    "    def methodA(self, x):\n",
    "        self.y = self.sum + self.x + x\n",
    "        self.sum = x + self.y\n",
    "        d = MidA()\n",
    "        d.sum = self.sum + self.methodB(d)\n",
    "        print(self.x, self.y, self.sum)\n",
    "\n",
    "    def methodB(self, t, z=0):\n",
    "        y = 3\n",
    "        t.x = self.x + self.sum\n",
    "        self.sum = t.x + t.y + y\n",
    "        print(t.x, t.y, t.sum)\n",
    "\n",
    "        if z == 0:\n",
    "            return t.sum\n",
    "    \n",
    "a = MidA()\n",
    "a.methodA(4)\n",
    "a.methodB(a, 99)"
   ]
  },
  {
   "cell_type": "code",
   "execution_count": 6,
   "metadata": {},
   "outputs": [
    {
     "name": "stdout",
     "output_type": "stream",
     "text": [
      "1################################# \n",
      "Your 6 Hot spicy Regular Pizza is ready with Cheese,Pepperoni toppings. Enjoy!\n",
      "2================================\n",
      "3#################################\n",
      "No toppings specified! Can't bake pizza.\n",
      "4================================\n",
      "5#################################\n",
      "Your 12 Regular spicy Chicken Blast Pizza is ready with Mushroom toppings. Enjoy!\n",
      "6================================\n",
      "7#################################\n",
      "Sprry! Spice level not allowed. Can't bake pizza.\n",
      "8================================\n"
     ]
    }
   ],
   "source": [
    "# Question 3\n",
    "\n",
    "class PizzaMachine:\n",
    "    def __init__(self, name=\"Regular\", size=6):\n",
    "        self.pizza_name = name\n",
    "        self.size = size\n",
    "\n",
    "    def customizePizza(self, topping_list=None, spice=\"Regular\"):\n",
    "        if type(topping_list) == list:\n",
    "            self.topping_list = topping_list\n",
    "            self.spicy_level = spice\n",
    "\n",
    "            if self.spicy_level not in [\"Regular\", \"Hot\", \"Super Naga\"]:\n",
    "                return \"Sprry! Spice level not allowed. Can't bake pizza.\"\n",
    "\n",
    "            else:\n",
    "                return f'Your {self.size} {self.spicy_level} spicy {self.pizza_name} Pizza is ready with {\",\".join(self.topping_list)} toppings. Enjoy!'\n",
    "\n",
    "        else:\n",
    "            self.spicy_level = topping_list\n",
    "            return \"No toppings specified! Can't bake pizza.\"\n",
    "\n",
    "pizza1 = PizzaMachine()\n",
    "order1 = pizza1.customizePizza([\"Cheese\", \"Pepperoni\"], \"Hot\")\n",
    "print(\"1################################# \")\n",
    "print(order1)\n",
    "print(\"2================================\")\n",
    "pizza2 = PizzaMachine(\"Vege\")\n",
    "order2 = pizza2.customizePizza(\"Super Naga\")\n",
    "print(\"3#################################\")\n",
    "print(order2)\n",
    "print(\"4================================\")\n",
    "pizza3 = PizzaMachine(\"Chicken Blast\", 12)\n",
    "order3 = pizza3.customizePizza([\"Mushroom\"])\n",
    "print(\"5#################################\")\n",
    "print(order3)\n",
    "print(\"6================================\")\n",
    "pizza4 = PizzaMachine(\"Beef Bonanza\", 16)\n",
    "order4 = pizza4.customizePizza([\"Cheese\", \"Beef kalabhuna\"], \"Mild\")\n",
    "print(\"7#################################\")\n",
    "print(order4)\n",
    "print(\"8================================\")"
   ]
  },
  {
   "cell_type": "markdown",
   "metadata": {},
   "source": [
    "# Spring'23\n"
   ]
  },
  {
   "cell_type": "code",
   "execution_count": 7,
   "metadata": {},
   "outputs": [
    {
     "name": "stdout",
     "output_type": "stream",
     "text": [
      "Brand Name: Miyako\n",
      "Ingredients: Coffee beans, Milk, Sugar\n"
     ]
    }
   ],
   "source": [
    "#Question 1\n",
    "\n",
    "class CoffeeMachine:\n",
    "    def __init__(self, name):\n",
    "        self.name = name\n",
    "    \n",
    "    def insertIngredients(self, i1, i2, i3):\n",
    "        self.i1 = i1\n",
    "        self.i2 = i2\n",
    "        self.i3 = i3\n",
    "    \n",
    "    def getDetails(self):\n",
    "        return f'Brand Name: {self.name}\\nIngredients: {self.i1}, {self.i2}, {self.i3}'\n",
    "    \n",
    "cm1 = CoffeeMachine(\"Miyako\")\n",
    "cm1.insertIngredients(\"Coffee beans\", \"Milk\", \"Sugar\")\n",
    "print(cm1.getDetails())"
   ]
  },
  {
   "cell_type": "code",
   "execution_count": 8,
   "metadata": {},
   "outputs": [
    {
     "name": "stdout",
     "output_type": "stream",
     "text": [
      "35 8 42\n",
      "40 15 97\n",
      "25 37 84\n"
     ]
    }
   ],
   "source": [
    "#Question 2\n",
    "\n",
    "class MidA:\n",
    "    def __init__(self):\n",
    "        self.y,self.z,self.sum = 2,3,-1\n",
    "    \n",
    "    def m1(self, mg2, mg1=2):\n",
    "        x = 0\n",
    "        self.y = self.y + mg2[0]\n",
    "        x += 33 + mg1\n",
    "        self.sum += x + self.y\n",
    "        mg2[0] = self.y + mg1\n",
    "        mg1 = mg1 + x + 2\n",
    "        print(x, self.y, self.sum)\n",
    "    \n",
    "    def m2(self, y=3):\n",
    "        mid = [0]\n",
    "        mid[0] = 7\n",
    "        self.m1(mid, mid[0])\n",
    "        z = y + mid[0]\n",
    "        y = self.y + mid[0]\n",
    "        self.sum = z + y + mid[0]\n",
    "        print(z, y, self.sum)\n",
    "\n",
    "a = MidA()\n",
    "a.m1([6])\n",
    "a.m2()"
   ]
  },
  {
   "cell_type": "code",
   "execution_count": 9,
   "metadata": {},
   "outputs": [
    {
     "name": "stdout",
     "output_type": "stream",
     "text": [
      "1***************\n",
      "Sphere ID: Sphere 1\n",
      "Color: White\n",
      "Volume: 4.1888\n",
      "2***************\n",
      "3***************\n",
      "Sphere ID: Sphere 2\n",
      "Color: White\n",
      "Volume: 113.09759999999999\n",
      "4***************\n",
      "5***************\n",
      "Sphere ID: Sphere 3\n",
      "Color: White\n",
      "Volume: 33.5104\n",
      "6***************\n",
      "Spheres are being merged\n",
      "7***************\n",
      "Sphere ID: Sphere 3\n",
      "Color: White\n",
      "Volume: 150.7968\n",
      "8***************\n",
      "9***************\n",
      "Spheres are being merged\n",
      "10***************\n",
      "Sphere ID: Sphere 4\n",
      "Color: Mixed Color\n",
      "Volume: 674.3967999999999\n"
     ]
    }
   ],
   "source": [
    "# Question 3\n",
    "\n",
    "class Sphere:\n",
    "    def __init__(self, name, radius = 1, color = \"White\"):\n",
    "        self.name = name\n",
    "        self.radius = radius\n",
    "        self.color = color\n",
    "        self.volume = (4/3) * 3.1416 * pow(self.radius, 3)\n",
    "\n",
    "    def merge_sphere(self, *num):\n",
    "        print(\"Spheres are being merged\")\n",
    "        for i in num:\n",
    "            self.volume += i.volume\n",
    "\n",
    "            if self.color != i.color:\n",
    "                self.color = \"Mixed Color\"\n",
    "    \n",
    "    def printDetails(self):\n",
    "        print(f'Sphere ID: {self.name}')\n",
    "        print(f'Color: {self.color}')\n",
    "        print(f'Volume: {self.volume}')\n",
    "\n",
    "sphere1 = Sphere(\"Sphere 1\")\n",
    "print(\"1***************\")\n",
    "sphere1.printDetails()\n",
    "print(\"2***************\")\n",
    "sphere2 = Sphere(\"Sphere 2\", 3)\n",
    "print(\"3***************\")\n",
    "sphere2.printDetails()\n",
    "print(\"4***************\")\n",
    "sphere3 = Sphere(\"Sphere 3\", 2)\n",
    "print(\"5***************\")\n",
    "sphere3.printDetails()\n",
    "print(\"6***************\")\n",
    "sphere3.merge_sphere(sphere1,sphere2)\n",
    "print(\"7***************\")\n",
    "sphere3.printDetails()\n",
    "print(\"8***************\")\n",
    "sphere4 = Sphere(\"Sphere 4\", 5, \"Purple\")\n",
    "print(\"9***************\")\n",
    "sphere4.merge_sphere(sphere3)\n",
    "print(\"10***************\")\n",
    "sphere4.printDetails()"
   ]
  }
 ],
 "metadata": {
  "kernelspec": {
   "display_name": "Python 3",
   "language": "python",
   "name": "python3"
  },
  "language_info": {
   "codemirror_mode": {
    "name": "ipython",
    "version": 3
   },
   "file_extension": ".py",
   "mimetype": "text/x-python",
   "name": "python",
   "nbconvert_exporter": "python",
   "pygments_lexer": "ipython3",
   "version": "3.11.3"
  },
  "orig_nbformat": 4
 },
 "nbformat": 4,
 "nbformat_minor": 2
}
