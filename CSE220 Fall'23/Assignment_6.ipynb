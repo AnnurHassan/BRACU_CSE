{
  "cells": [
    {
      "cell_type": "code",
      "execution_count": 2,
      "metadata": {
        "id": "Gl_dGSpFeho1"
      },
      "outputs": [
        {
          "name": "stdout",
          "output_type": "stream",
          "text": [
            "Requirement already satisfied: fhm-unittest in c:\\users\\annur hassan\\appdata\\local\\programs\\python\\python311\\lib\\site-packages (1.0.1)\n",
            "Requirement already satisfied: fuzzywuzzy in c:\\users\\annur hassan\\appdata\\local\\programs\\python\\python311\\lib\\site-packages (0.18.0)\n"
          ]
        },
        {
          "name": "stderr",
          "output_type": "stream",
          "text": [
            "c:\\Users\\Annur Hassan\\AppData\\Local\\Programs\\Python\\Python311\\Lib\\site-packages\\fuzzywuzzy\\fuzz.py:11: UserWarning: Using slow pure-python SequenceMatcher. Install python-Levenshtein to remove this warning\n",
            "  warnings.warn('Using slow pure-python SequenceMatcher. Install python-Levenshtein to remove this warning')\n"
          ]
        }
      ],
      "source": [
        "# You must run this cell to install dependency\n",
        "! pip3 install fhm-unittest\n",
        "! pip3 install fuzzywuzzy\n",
        "import fhm_unittest as unittest\n",
        "import numpy as np"
      ]
    },
    {
      "cell_type": "markdown",
      "metadata": {
        "id": "KM0LWTXLe11v"
      },
      "source": [
        "#Very Easy"
      ]
    },
    {
      "cell_type": "code",
      "execution_count": 13,
      "metadata": {
        "id": "hJuxwibMSnPz"
      },
      "outputs": [],
      "source": [
        "import math\n",
        "\n",
        "\n",
        "class Node:\n",
        "    def __init__(self, elem, next=None):\n",
        "        self.elem = elem\n",
        "        self.next = next\n",
        "\n",
        "\n",
        "def create_linked_list(arr):\n",
        "    head = Node(arr[0])\n",
        "    tail = head\n",
        "    for i in arr[1:]:\n",
        "        new_node = Node(i)\n",
        "        tail.next = new_node\n",
        "        tail = new_node\n",
        "    return head"
      ]
    },
    {
      "cell_type": "code",
      "execution_count": 4,
      "metadata": {
        "id": "gGxKAROSej5y"
      },
      "outputs": [
        {
          "name": "stdout",
          "output_type": "stream",
          "text": [
            "Sum of an array: 36\n",
            "Accepted\n"
          ]
        }
      ],
      "source": [
        "# 1\n",
        "\n",
        "def recursive_sum(arr, n=0):\n",
        "    if n == len(arr):\n",
        "        return 0\n",
        "\n",
        "    else:\n",
        "        return arr[n] + recursive_sum(arr, n + 1)\n",
        "\n",
        "\n",
        "arr1 = np.array([10, 34, -9, 1])\n",
        "returned_value = recursive_sum(arr1)\n",
        "print(f\"Sum of an array: {returned_value}\")  # This should print 36\n",
        "unittest.output_test(returned_value, 36)"
      ]
    },
    {
      "cell_type": "code",
      "execution_count": 5,
      "metadata": {
        "id": "2pqZG0e6eqby"
      },
      "outputs": [
        {
          "name": "stdout",
          "output_type": "stream",
          "text": [
            "========1========\n",
            "9C6: 84\n",
            "Accepted\n",
            "========2========\n",
            "8C2: 28\n",
            "Accepted\n",
            "========3========\n",
            "48C1: 48\n",
            "Accepted\n"
          ]
        }
      ],
      "source": [
        "# 2\n",
        "\n",
        "def nCr(n, r):\n",
        "    return fact(n) // (fact(r) * fact(n - r))\n",
        "\n",
        "def fact(n):\n",
        "    if n == 0 or n == 1:\n",
        "        return 1\n",
        "    \n",
        "    else:\n",
        "        return n * fact(n - 1)\n",
        "\n",
        "print(\"========1========\")\n",
        "returned_value = nCr(9, 6)\n",
        "print(f\"9C6: {returned_value}\")  # This should print 84\n",
        "unittest.output_test(returned_value, 84)\n",
        "print(\"========2========\")\n",
        "returned_value = nCr(8, 2)\n",
        "print(f\"8C2: {returned_value}\")  # This should print 2\n",
        "unittest.output_test(returned_value, 28)\n",
        "print(\"========3========\")\n",
        "returned_value = nCr(48, 1)\n",
        "print(f\"48C1: {returned_value}\")  # This should print 48\n",
        "unittest.output_test(returned_value, 48)"
      ]
    },
    {
      "cell_type": "code",
      "execution_count": 6,
      "metadata": {
        "id": "XtBEwczoet2O"
      },
      "outputs": [
        {
          "name": "stdout",
          "output_type": "stream",
          "text": [
            "Number of Digits: 4\n",
            "Accepted\n"
          ]
        }
      ],
      "source": [
        "# 3\n",
        "\n",
        "def count_digit_recursive(num):\n",
        "    if num // 10 == 0:\n",
        "        return 1\n",
        "\n",
        "    else:\n",
        "        return 1 + count_digit_recursive(num // 10)\n",
        "\n",
        "\n",
        "returned_value = count_digit_recursive(7508)\n",
        "print(f\"Number of Digits: {returned_value}\")  # This should print 4\n",
        "unittest.output_test(returned_value, 4)"
      ]
    },
    {
      "cell_type": "code",
      "execution_count": 7,
      "metadata": {
        "id": "vLvXNEtleufk"
      },
      "outputs": [
        {
          "name": "stdout",
          "output_type": "stream",
          "text": [
            "========1========\n",
            "Prime: True\n",
            "Accepted\n",
            "========2========\n",
            "Prime: False\n",
            "Accepted\n"
          ]
        }
      ],
      "source": [
        "# 4\n",
        "\n",
        "def check_prime_recursive(num, i = 2):\n",
        "    if num == i:\n",
        "        return True\n",
        "    \n",
        "    elif num % i == 0:\n",
        "        return False\n",
        "    \n",
        "    else:\n",
        "        return check_prime_recursive(num, i + 1)\n",
        "    \n",
        "\n",
        "\n",
        "print(\"========1========\")\n",
        "returned_value = check_prime_recursive(79)\n",
        "print(f\"Prime: {returned_value}\")  # This should print True\n",
        "unittest.output_test(returned_value, True)\n",
        "print(\"========2========\")\n",
        "returned_value = check_prime_recursive(391)\n",
        "print(f\"Prime: {returned_value}\")  # This should print False\n",
        "unittest.output_test(returned_value, False)"
      ]
    },
    {
      "cell_type": "markdown",
      "metadata": {
        "id": "-v81hGhKe3qv"
      },
      "source": [
        "#Easy"
      ]
    },
    {
      "cell_type": "code",
      "execution_count": 8,
      "metadata": {
        "id": "P8mJClese7KD"
      },
      "outputs": [
        {
          "name": "stdout",
          "output_type": "stream",
          "text": [
            "Use of encoding function\n",
            "Hexadecimal Number: 7\n",
            "Hexadecimal Number: D\n",
            "========1========\n",
            "Hexadecimal Number: 4CE\n",
            "Accepted\n",
            "========2========\n",
            "Hexadecimal Number: 258\n",
            "Accepted\n"
          ]
        }
      ],
      "source": [
        "# you may use this for decimal to hexadecimal mapping of 0-15\n",
        "def encoding(dec_number):  # 0<=dec_number<=15\n",
        "    return \"0123456789ABCDEF\"[dec_number]\n",
        "\n",
        "def dec_to_hexa_recursive(num):\n",
        "    if num == 0:\n",
        "        return \"\"\n",
        "    \n",
        "    else:\n",
        "        return (dec_to_hexa_recursive(num // 16)) + encoding(num % 16)\n",
        "    \n",
        "\n",
        "# 1\n",
        "print(\"Use of encoding function\")\n",
        "decimal_number = 7\n",
        "print(f\"Hexadecimal Number: {encoding(decimal_number)}\")\n",
        "decimal_number = 13\n",
        "print(f\"Hexadecimal Number: {encoding(decimal_number)}\")\n",
        "\n",
        "print(\"========1========\")\n",
        "returned_value = dec_to_hexa_recursive(1230)\n",
        "print(f\"Hexadecimal Number: {returned_value}\")  # This should print 4CE\n",
        "unittest.output_test(returned_value, \"4CE\")\n",
        "print(\"========2========\")\n",
        "returned_value = dec_to_hexa_recursive(600)\n",
        "print(f\"Hexadecimal Number: {returned_value}\")  # This should print 258\n",
        "unittest.output_test(returned_value, \"258\")"
      ]
    },
    {
      "cell_type": "code",
      "execution_count": 9,
      "metadata": {
        "id": "3cQ4WTupfJsf"
      },
      "outputs": [
        {
          "name": "stdout",
          "output_type": "stream",
          "text": [
            "========1========\n",
            "Same: True\n",
            "Accepted\n",
            "========2========\n",
            "Same: False\n",
            "Accepted\n"
          ]
        }
      ],
      "source": [
        "# 2\n",
        "\n",
        "def compare_recursive(head, array, index = 0):\n",
        "    if head == None:\n",
        "        return True\n",
        "    \n",
        "    elif array[index] == head.elem:\n",
        "        return compare_recursive(head.next, array, index + 1)\n",
        "    \n",
        "    else:\n",
        "        return False\n",
        "\n",
        "\n",
        "print(\"========1========\")\n",
        "array = np.array([10, 11, 12, 13, 14])\n",
        "head = create_linked_list(np.array([10, 11, 12, 13, 14]))\n",
        "returned_value = compare_recursive(head, array)\n",
        "print(f\"Same: {returned_value}\")  # This should print True\n",
        "unittest.output_test(returned_value, True)\n",
        "print(\"========2========\")\n",
        "array = np.array([10, 11, 12, 13, 14])\n",
        "head = create_linked_list(np.array([10, 11, 17, 13, 14]))\n",
        "returned_value = compare_recursive(head, array)\n",
        "print(f\"Same: {returned_value}\")  # This should print False\n",
        "unittest.output_test(returned_value, False)"
      ]
    },
    {
      "cell_type": "code",
      "execution_count": 29,
      "metadata": {
        "id": "zFGiCbScfNJ0"
      },
      "outputs": [
        {
          "name": "stdout",
          "output_type": "stream",
          "text": [
            "e a u i u l f t b "
          ]
        }
      ],
      "source": [
        "# 3\n",
        "\n",
        "def print_alphabets_recursive(head):\n",
        "    if head == None:\n",
        "        print(end = \"\")\n",
        "\n",
        "    elif head.elem in \"aeiou\":\n",
        "        print(head.elem, end = \" \")\n",
        "        print_alphabets_recursive(head.next)\n",
        "    \n",
        "    else:\n",
        "        print_alphabets_recursive(head.next)\n",
        "        print(head.elem, end = \" \")\n",
        "\n",
        "\n",
        "\n",
        "head = create_linked_list(np.array([\"b\", \"e\", \"a\", \"u\", \"t\", \"i\", \"f\", \"u\", \"l\"]))\n",
        "print_alphabets_recursive(head)  # This will print e a u i u l f t b"
      ]
    },
    {
      "cell_type": "markdown",
      "metadata": {
        "id": "CaRQ_tSTgkZI"
      },
      "source": [
        "#Medium"
      ]
    },
    {
      "cell_type": "code",
      "execution_count": 54,
      "metadata": {
        "id": "KufwSw-_gnBO"
      },
      "outputs": [
        {
          "name": "stdout",
          "output_type": "stream",
          "text": [
            "Height = 0\n",
            "Cards Required: 0\n",
            "==================\n",
            "Height = 1\n",
            "Cards Required: 8\n",
            "==================\n",
            "Height = 2\n",
            "Cards Required: 13\n",
            "==================\n",
            "Height = 3\n",
            "Cards Required: 18\n",
            "==================\n"
          ]
        }
      ],
      "source": [
        "def hocBuilder(height):\n",
        "    if height == 1:\n",
        "        return 8\n",
        "    \n",
        "    elif height == 0:\n",
        "        return 0\n",
        "    \n",
        "    else:\n",
        "        return 5 + hocBuilder(height - 1)\n",
        "    \n",
        "    \n",
        "print(\"Height =\", 0)\n",
        "returned_value = hocBuilder(0)\n",
        "print(f\"Cards Required: {returned_value}\")\n",
        "print(\"==================\")\n",
        "print(\"Height =\", 1)\n",
        "returned_value = hocBuilder(1)\n",
        "print(f\"Cards Required: {returned_value}\")\n",
        "print(\"==================\")\n",
        "print(\"Height =\", 2)\n",
        "returned_value = hocBuilder(2)\n",
        "print(f\"Cards Required: {returned_value}\")\n",
        "print(\"==================\")\n",
        "print(\"Height =\", 3)\n",
        "returned_value = hocBuilder(3)\n",
        "print(f\"Cards Required: {returned_value}\")\n",
        "print(\"==================\")"
      ]
    },
    {
      "cell_type": "code",
      "execution_count": 42,
      "metadata": {
        "id": "GsEHYQPHfQbY"
      },
      "outputs": [
        {
          "name": "stdout",
          "output_type": "stream",
          "text": [
            "========1========\n",
            "Maximum: 25\n",
            "Accepted\n",
            "========2========\n",
            "Maximum: -1\n",
            "Accepted\n"
          ]
        }
      ],
      "source": [
        "def max_recursive(array, index = 0, max = 0):\n",
        "    if index == 0:\n",
        "        max = array[0]\n",
        "        return max_recursive(array,index + 1, max)\n",
        "\n",
        "    elif index == len(array):\n",
        "        return max\n",
        "    \n",
        "    elif array[index] > max:\n",
        "        max = array[index]\n",
        "        return max_recursive(array, index + 1, max)\n",
        "\n",
        "    else:\n",
        "        return max_recursive(array, index + 1, max)\n",
        "    \n",
        "\n",
        "#2\n",
        "print('========1========')\n",
        "array = np.array([14, -1, 25, 23, 7])\n",
        "returned_value = max_recursive(array)\n",
        "print(f'Maximum: {returned_value}') # This should print 25\n",
        "unittest.output_test(returned_value, 25)\n",
        "print('========2========')\n",
        "array = np.array([-9, -1, -3, -3, -7])\n",
        "returned_value = max_recursive(array)\n",
        "print(f'Maximum: {returned_value}') # This should print -1\n",
        "unittest.output_test(returned_value, -1)"
      ]
    },
    {
      "cell_type": "markdown",
      "metadata": {
        "id": "FJZjAYFwhhJE"
      },
      "source": [
        "#Hard"
      ]
    },
    {
      "cell_type": "code",
      "execution_count": 34,
      "metadata": {
        "colab": {
          "base_uri": "https://localhost:8080/"
        },
        "id": "4Xdjz5pUgr0K",
        "outputId": "c1f83342-f73f-43f0-b539-b74bd112d2da"
      },
      "outputs": [
        {
          "name": "stdout",
          "output_type": "stream",
          "text": [
            "========1========\n",
            "1 \n",
            "1 2 \n",
            "1 2 3 \n",
            "1 2 3 4 \n",
            "1 2 3 4 5 \n",
            "========1========\n",
            "1 \n",
            "1 2 \n",
            "1 2 3 \n",
            "1 2 3 4 \n",
            "1 2 3 4 5 \n",
            "1 2 3 4 5 6 \n",
            "1 2 3 4 5 6 7 \n"
          ]
        }
      ],
      "source": [
        "def print_num(n, i = 1):\n",
        "    if n == 0:\n",
        "        print(\"\")\n",
        "\n",
        "    else:\n",
        "        print(i, end = \" \")\n",
        "        print_num(n-1, i + 1)\n",
        "        \n",
        "\n",
        "def print_pattern(n):\n",
        "    if n == 0:\n",
        "        pass\n",
        "    \n",
        "    else:\n",
        "        print_pattern(n - 1)\n",
        "        print_num(n)\n",
        "\n",
        "#1\n",
        "print('========1========')\n",
        "n = 5\n",
        "print_pattern(n)\n",
        "print('========1========')\n",
        "n = 7\n",
        "print_pattern(n)"
      ]
    },
    {
      "cell_type": "code",
      "execution_count": 32,
      "metadata": {
        "colab": {
          "base_uri": "https://localhost:8080/"
        },
        "id": "uvbbPe8xhe-r",
        "outputId": "c4bccbf7-2b40-46d7-af14-d7d0a0cd0cfa"
      },
      "outputs": [
        {
          "name": "stdout",
          "output_type": "stream",
          "text": [
            "========1========\n",
            "1 2 3 4 5 \n",
            "3 5 7 9 \n",
            "5 9 13 \n",
            "7 15 \n",
            "9 \n",
            "========2========\n",
            "1 2 3 4 5 6 \n",
            "3 5 7 9 11 \n",
            "5 9 13 17 \n",
            "7 15 23 \n",
            "9 25 \n",
            "11 \n"
          ]
        }
      ],
      "source": [
        "def print_num(n, s, d):\n",
        "    if n == 0:\n",
        "        print()\n",
        "\n",
        "    else:\n",
        "        print(s, end = \" \")\n",
        "        print_num(n - 1, s + d, d)\n",
        "        \n",
        "\n",
        "def print_pattern_2(n, i = 1):\n",
        "    if n == 0:\n",
        "        pass\n",
        "\n",
        "    else:\n",
        "        start = (i * 2) - 1\n",
        "        diff =  2 ** (i - 1) \n",
        "        print_num(n, start, diff)\n",
        "        print_pattern_2(n - 1, i + 1)\n",
        "        \n",
        "\n",
        "\n",
        "#2\n",
        "print('========1========')\n",
        "n = 5\n",
        "print_pattern_2(n)\n",
        "print('========2========')\n",
        "n = 6\n",
        "print_pattern_2(n)\n"
      ]
    },
    {
      "cell_type": "markdown",
      "metadata": {
        "id": "v-CxHGqZm9WB"
      },
      "source": [
        "#Very Hard"
      ]
    },
    {
      "cell_type": "code",
      "execution_count": 83,
      "metadata": {
        "id": "RKQnhkyOjwQ2"
      },
      "outputs": [
        {
          "name": "stdout",
          "output_type": "stream",
          "text": [
            "[1, 2, 3, 4, 5, 6, 7, 8, 9, 10, 11, 12, 13, 14, 15, 16, 17]\n"
          ]
        }
      ],
      "source": [
        "def flattenList(given_list, output_list, i = 1):\n",
        "    if not(given_list):\n",
        "        return output_list\n",
        "    \n",
        "    elif type(given_list[0]) == int:\n",
        "        output_list.append(given_list[0])\n",
        "\n",
        "    elif type(given_list[0]) == list:\n",
        "        flattenList(given_list[0], output_list)\n",
        "\n",
        "    flattenList(given_list[1:], output_list)\n",
        "    return output_list\n",
        "\n",
        "\n",
        "given_list = [1, [2, [3, [4], 5], 6], 7, 8, [9, [[10, 11], 12], 13], 14, [15, [16, [17]]]]\n",
        "output_list = flattenList(given_list, []) # Initial empty list is sent for update\n",
        "print(output_list)\n",
        "#output_list = [1, 2, 3, 4, 5, 6, 7, 8, 9, 10, 11, 12, 13, 14, 15, 16, 17]"
      ]
    }
  ],
  "metadata": {
    "colab": {
      "provenance": []
    },
    "kernelspec": {
      "display_name": "Python 3",
      "name": "python3"
    },
    "language_info": {
      "codemirror_mode": {
        "name": "ipython",
        "version": 3
      },
      "file_extension": ".py",
      "mimetype": "text/x-python",
      "name": "python",
      "nbconvert_exporter": "python",
      "pygments_lexer": "ipython3",
      "version": "3.11.3"
    }
  },
  "nbformat": 4,
  "nbformat_minor": 0
}
