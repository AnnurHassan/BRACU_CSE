{
 "cells": [
  {
   "cell_type": "code",
   "execution_count": 1,
   "metadata": {},
   "outputs": [
    {
     "name": "stdout",
     "output_type": "stream",
     "text": [
      "9\n",
      "13\n",
      "3\n"
     ]
    }
   ],
   "source": [
    "# Question 1\n",
    "\n",
    "def sumDigits(num):\n",
    "    if num == 0:\n",
    "        return 0\n",
    "    \n",
    "    else:\n",
    "        return (num % 10) + sumDigits(num // 10)\n",
    "\n",
    "\n",
    "num = 126\n",
    "returned_value = sumDigits(num)\n",
    "print(returned_value) \n",
    "\n",
    "num = 49\n",
    "returned_value = sumDigits(num) \n",
    "print(returned_value) \n",
    "\n",
    "num = 12\n",
    "returned_value = sumDigits(num) \n",
    "print(returned_value) "
   ]
  },
  {
   "cell_type": "code",
   "execution_count": 2,
   "metadata": {},
   "outputs": [
    {
     "name": "stdout",
     "output_type": "stream",
     "text": [
      "0\n",
      "2\n",
      "5\n"
     ]
    }
   ],
   "source": [
    "# Question 2\n",
    "\n",
    "def bunnyEars2(num):\n",
    "    if num == 0:\n",
    "        return 0\n",
    "    \n",
    "    else:\n",
    "        if num % 2 == 0:\n",
    "            return 3 + bunnyEars2(num - 1)\n",
    "        \n",
    "        else:\n",
    "            return 2 + bunnyEars2(num - 1)\n",
    "        \n",
    "\n",
    "num = 0\n",
    "returned_value = bunnyEars2(num)\n",
    "print(returned_value) \n",
    "\n",
    "num = 1\n",
    "returned_value = bunnyEars2(num) \n",
    "print(returned_value) \n",
    "\n",
    "num = 2\n",
    "returned_value = bunnyEars2(num) \n",
    "print(returned_value) "
   ]
  },
  {
   "cell_type": "code",
   "execution_count": 4,
   "metadata": {},
   "outputs": [
    {
     "name": "stdout",
     "output_type": "stream",
     "text": [
      "2\n",
      "1\n",
      "0\n"
     ]
    }
   ],
   "source": [
    "# Question 3\n",
    "\n",
    "def count(num):\n",
    "    if num == 0:\n",
    "        return 0\n",
    "    \n",
    "    else:\n",
    "        if num % 10 == 7:\n",
    "            return 1 + count(num // 10)\n",
    "\n",
    "        else:\n",
    "            return count(num // 10)\n",
    "        \n",
    "\n",
    "num = 717\n",
    "returned_value = count(num)\n",
    "print(returned_value) \n",
    "\n",
    "num = 7\n",
    "returned_value = count(num) \n",
    "print(returned_value) \n",
    "\n",
    "num = 123\n",
    "returned_value = count(num) \n",
    "print(returned_value) "
   ]
  },
  {
   "cell_type": "code",
   "execution_count": 6,
   "metadata": {},
   "outputs": [
    {
     "name": "stdout",
     "output_type": "stream",
     "text": [
      "4\n",
      "3\n",
      "0\n"
     ]
    }
   ],
   "source": [
    "# Question 4 (Slicing)\n",
    "\n",
    "def countX(string):\n",
    "    if not(string):\n",
    "        return 0\n",
    "    \n",
    "    else:\n",
    "        if string[0] == \"x\":\n",
    "            return 1 + countX(string[1:])\n",
    "        \n",
    "        else:\n",
    "            return countX(string[1:])\n",
    "\n",
    "\n",
    "string = \"xxhixx\"\n",
    "returned_value = countX(string)\n",
    "print(returned_value) \n",
    "\n",
    "string = \"xhixhix\"\n",
    "returned_value = countX(string) \n",
    "print(returned_value) \n",
    "\n",
    "string = \"hi\"\n",
    "returned_value = countX(string) \n",
    "print(returned_value) "
   ]
  },
  {
   "cell_type": "code",
   "execution_count": 7,
   "metadata": {},
   "outputs": [
    {
     "name": "stdout",
     "output_type": "stream",
     "text": [
      "4\n",
      "3\n",
      "0\n"
     ]
    }
   ],
   "source": [
    "# Question 4 (indexing)\n",
    "\n",
    "def countX(string, i = 0):\n",
    "    if i == len(string):\n",
    "        return 0\n",
    "    \n",
    "    else:\n",
    "        if string[i] == \"x\":\n",
    "            return 1 + countX(string, i + 1)\n",
    "        \n",
    "        else:\n",
    "            return countX(string, i + 1)\n",
    "\n",
    "\n",
    "string = \"xxhixx\"\n",
    "returned_value = countX(string)\n",
    "print(returned_value) \n",
    "\n",
    "string = \"xhixhix\"\n",
    "returned_value = countX(string) \n",
    "print(returned_value) \n",
    "\n",
    "string = \"hi\"\n",
    "returned_value = countX(string) \n",
    "print(returned_value) "
   ]
  },
  {
   "cell_type": "code",
   "execution_count": 4,
   "metadata": {},
   "outputs": [
    {
     "name": "stdout",
     "output_type": "stream",
     "text": [
      "x3.14x\n",
      "3.143.14\n",
      "3.14p\n"
     ]
    }
   ],
   "source": [
    "# Question 5\n",
    "\n",
    "def change(string, i = 0):\n",
    "    if i == len(string) - 1:\n",
    "        return string\n",
    "\n",
    "    else:\n",
    "        if string[i] + string[i + 1] == \"pi\":\n",
    "            string = string[:i] + \"3.14\" + string[i+2:]\n",
    "            return change(string, i + 1)\n",
    "        \n",
    "        else:\n",
    "            return change(string, i + 1)\n",
    "        \n",
    "\n",
    "string = \"xpix\"\n",
    "returned_value = change(string)\n",
    "print(returned_value) \n",
    "\n",
    "string = \"pipi\"\n",
    "returned_value = change(string) \n",
    "print(returned_value) \n",
    "\n",
    "string = \"pip\"\n",
    "returned_value = change(string) \n",
    "print(returned_value) "
   ]
  },
  {
   "cell_type": "code",
   "execution_count": 16,
   "metadata": {},
   "outputs": [
    {
     "name": "stdout",
     "output_type": "stream",
     "text": [
      "1\n",
      "2\n",
      "0\n"
     ]
    }
   ],
   "source": [
    "# Question 6\n",
    "\n",
    "def array11(arr, i):\n",
    "    if i == len(arr):\n",
    "        return 0\n",
    "    \n",
    "    else:\n",
    "        if arr[i] == 11:\n",
    "            return 1 + array11(arr, i + 1)\n",
    "\n",
    "        else:\n",
    "            return array11(arr, i + 1)\n",
    "        \n",
    "array = [1, 2, 11]\n",
    "returned_value = array11(array, 0)\n",
    "print(returned_value) \n",
    "\n",
    "array = [11, 11]\n",
    "returned_value = array11(array, 0) \n",
    "print(returned_value) \n",
    "\n",
    "array = [1, 2, 3, 4]\n",
    "returned_value = array11(array, 0) \n",
    "print(returned_value) "
   ]
  },
  {
   "cell_type": "code",
   "execution_count": 17,
   "metadata": {},
   "outputs": [
    {
     "name": "stdout",
     "output_type": "stream",
     "text": [
      "hel*lo\n",
      "x*xy*y\n",
      "a*a*a*a\n"
     ]
    }
   ],
   "source": [
    "# Question 7\n",
    "\n",
    "def pairStar(string, i = 0):\n",
    "    if i == len(string) - 1:\n",
    "        return string\n",
    "\n",
    "    else:\n",
    "        if string[i] == string[i + 1]:\n",
    "            string = string[:i+1] + \"*\" + string[i+1:]\n",
    "            return pairStar(string, i + 1)\n",
    "        \n",
    "        else:\n",
    "            return pairStar(string, i + 1)\n",
    "        \n",
    "\n",
    "string = \"hello\"\n",
    "returned_value = pairStar(string)\n",
    "print(returned_value) \n",
    "\n",
    "string = \"xxyy\"\n",
    "returned_value = pairStar(string) \n",
    "print(returned_value) \n",
    "\n",
    "string = \"aaaa\"\n",
    "returned_value = pairStar(string) \n",
    "print(returned_value) "
   ]
  },
  {
   "cell_type": "code",
   "execution_count": 20,
   "metadata": {},
   "outputs": [
    {
     "name": "stdout",
     "output_type": "stream",
     "text": [
      "1\n",
      "2\n",
      "2\n"
     ]
    }
   ],
   "source": [
    "# Question 8 (Slicing)\n",
    "\n",
    "def countAbc(string):\n",
    "    if not(string):\n",
    "        return 0\n",
    "    \n",
    "    else:\n",
    "        if (string[:3] == \"abc\") or (string[:3] ==\"aba\"):\n",
    "            return 1 + countAbc(string[1:])\n",
    "        \n",
    "        else:\n",
    "            return countAbc(string[1:])\n",
    "        \n",
    "\n",
    "string = \"abc\"\n",
    "returned_value = countAbc(string)\n",
    "print(returned_value) \n",
    "\n",
    "string = \"abcxxabc\"\n",
    "returned_value = countAbc(string) \n",
    "print(returned_value) \n",
    "\n",
    "string = \"abaxxaba\"\n",
    "returned_value = countAbc(string) \n",
    "print(returned_value) "
   ]
  },
  {
   "cell_type": "code",
   "execution_count": 24,
   "metadata": {},
   "outputs": [
    {
     "name": "stdout",
     "output_type": "stream",
     "text": [
      "1\n",
      "2\n",
      "2\n"
     ]
    }
   ],
   "source": [
    "# Question 8 (indexing)\n",
    "\n",
    "def countAbc(string, i = 0):\n",
    "    if i == len(string) - 2:\n",
    "        return 0\n",
    "    \n",
    "    else:\n",
    "        if (string[i] + string[i + 1] + string[i + 2] == \"abc\") or (string[i] + string[i + 1] + string[i + 2] ==\"aba\"):\n",
    "            return 1 + countAbc(string, i + 1)\n",
    "        \n",
    "        else:\n",
    "            return countAbc(string, i + 1)\n",
    "        \n",
    "\n",
    "string = \"abc\"\n",
    "returned_value = countAbc(string)\n",
    "print(returned_value) \n",
    "\n",
    "string = \"abcxxabc\"\n",
    "returned_value = countAbc(string) \n",
    "print(returned_value) \n",
    "\n",
    "string = \"abaxxaba\"\n",
    "returned_value = countAbc(string) \n",
    "print(returned_value) "
   ]
  },
  {
   "cell_type": "code",
   "execution_count": 25,
   "metadata": {},
   "outputs": [
    {
     "name": "stdout",
     "output_type": "stream",
     "text": [
      "1\n",
      "2\n",
      "0\n"
     ]
    }
   ],
   "source": [
    "# Question 9\n",
    "\n",
    "def countHi2(string, i = 0):\n",
    "    if i == len(string) - 1:\n",
    "        return 0\n",
    "    \n",
    "    else:\n",
    "        if (string[i] + string[i + 1]) == \"hi\":\n",
    "            if string[i - 1] == \"x\":\n",
    "                return countHi2(string, i + 1)\n",
    "\n",
    "            else:\n",
    "                return 1 + countHi2(string, i + 1)\n",
    "        \n",
    "        else:\n",
    "            return countHi2(string, i + 1)\n",
    "        \n",
    "\n",
    "string = \"ahixhi\"\n",
    "returned_value = countHi2(string)\n",
    "print(returned_value) \n",
    "\n",
    "string = \"ahibhi\"\n",
    "returned_value = countHi2(string) \n",
    "print(returned_value) \n",
    "\n",
    "string = \"xhixhi\"\n",
    "returned_value = countHi2(string) \n",
    "print(returned_value) "
   ]
  },
  {
   "cell_type": "code",
   "execution_count": 27,
   "metadata": {},
   "outputs": [
    {
     "name": "stdout",
     "output_type": "stream",
     "text": [
      "2\n",
      "1\n",
      "0\n"
     ]
    }
   ],
   "source": [
    "# Questin 10\n",
    "\n",
    "def strCount(string, sub):\n",
    "    if not(string):\n",
    "        return 0\n",
    "    \n",
    "    else:\n",
    "        if string[:len(sub)] == sub:\n",
    "            return 1 + strCount(string[1:], sub)\n",
    "        \n",
    "        else:\n",
    "            return strCount(string[1:], sub)\n",
    "        \n",
    "\n",
    "string = \"catcowcat\"\n",
    "sub = \"cat\"\n",
    "returned_value = strCount(string, sub)\n",
    "print(returned_value)\n",
    "\n",
    "string = \"catcowcat\"\n",
    "sub = \"cow\"\n",
    "returned_value = strCount(string, sub)\n",
    "print(returned_value)\n",
    "\n",
    "string = \"catcowcat\"\n",
    "sub = \"dog\"\n",
    "returned_value = strCount(string, sub)\n",
    "print(returned_value)"
   ]
  },
  {
   "cell_type": "code",
   "execution_count": 2,
   "metadata": {},
   "outputs": [
    {
     "name": "stdout",
     "output_type": "stream",
     "text": [
      "0\n",
      "2\n",
      "4\n"
     ]
    }
   ],
   "source": [
    "# Question 11\n",
    "\n",
    "def bunnyEars(num):\n",
    "    if num == 0:\n",
    "        return 0\n",
    "    \n",
    "    else:\n",
    "        return 2 + bunnyEars(num - 1)\n",
    "        \n",
    "\n",
    "num = 0\n",
    "returned_value = bunnyEars(num)\n",
    "print(returned_value) \n",
    "\n",
    "num = 1\n",
    "returned_value = bunnyEars(num) \n",
    "print(returned_value) \n",
    "\n",
    "num = 2\n",
    "returned_value = bunnyEars(num) \n",
    "print(returned_value) "
   ]
  },
  {
   "cell_type": "code",
   "execution_count": 3,
   "metadata": {},
   "outputs": [
    {
     "name": "stdout",
     "output_type": "stream",
     "text": [
      "0\n",
      "1\n",
      "3\n"
     ]
    }
   ],
   "source": [
    "# Question 12\n",
    "\n",
    "def triangle(num):\n",
    "    if num == 0:\n",
    "        return 0\n",
    "    \n",
    "    else:\n",
    "        return num + triangle(num - 1)\n",
    "    \n",
    "\n",
    "num = 0\n",
    "returned_value = triangle(num)\n",
    "print(returned_value) \n",
    "\n",
    "num = 1\n",
    "returned_value = triangle(num) \n",
    "print(returned_value) \n",
    "\n",
    "num = 2\n",
    "returned_value = triangle(num) \n",
    "print(returned_value) "
   ]
  },
  {
   "cell_type": "code",
   "execution_count": 19,
   "metadata": {},
   "outputs": [
    {
     "name": "stdout",
     "output_type": "stream",
     "text": [
      "ab\n",
      "abc\n",
      "\n"
     ]
    }
   ],
   "source": [
    "# Question 13\n",
    "\n",
    "def noX(string, i = 0, new_string = \"\"):\n",
    "    if i == len(string):\n",
    "        return new_string\n",
    "    \n",
    "    else:\n",
    "        if string[i] != \"x\":\n",
    "            return noX(string, i + 1, new_string + string[i])\n",
    "\n",
    "        else:\n",
    "            return noX(string, i + 1, new_string) \n",
    "        \n",
    "\n",
    "string = \"xaxb\"\n",
    "returned_value = noX(string)\n",
    "print(returned_value) \n",
    "\n",
    "string = \"abc\"\n",
    "returned_value = noX(string) \n",
    "print(returned_value) \n",
    "\n",
    "string = \"xx\"\n",
    "returned_value = noX(string) \n",
    "print(returned_value) "
   ]
  },
  {
   "cell_type": "code",
   "execution_count": 22,
   "metadata": {},
   "outputs": [
    {
     "name": "stdout",
     "output_type": "stream",
     "text": [
      "True\n",
      "True\n",
      "False\n"
     ]
    }
   ],
   "source": [
    "# Question 14\n",
    "\n",
    "def array220(arr, i):\n",
    "    if i == len(arr) - 1:\n",
    "        return False\n",
    "    \n",
    "    else:\n",
    "        if arr[i + 1] == arr[i] * 10:\n",
    "            return True\n",
    "        \n",
    "        else:\n",
    "            return array220(arr, i + 1)\n",
    "\n",
    "\n",
    "array = [1, 2, 20]\n",
    "returned_value = array220(array, 0)\n",
    "print(returned_value) \n",
    "\n",
    "array = [3, 30]\n",
    "returned_value = array220(array, 0) \n",
    "print(returned_value) \n",
    "\n",
    "array = [3]\n",
    "returned_value = array220(array, 0) \n",
    "print(returned_value) "
   ]
  },
  {
   "cell_type": "code",
   "execution_count": 21,
   "metadata": {},
   "outputs": [
    {
     "name": "stdout",
     "output_type": "stream",
     "text": [
      "rexx\n",
      "hixxxx\n",
      "hihixxx\n"
     ]
    }
   ],
   "source": [
    "# Question 15\n",
    "\n",
    "def endX(string, i = 0, rem = \"\"):\n",
    "    if \"x\" not in string:\n",
    "        return string + rem\n",
    "    \n",
    "    else:\n",
    "        if string[i] == \"x\":\n",
    "            string = string[:i] + string[i+1:]\n",
    "            return endX(string, i, (rem + \"x\"))\n",
    "\n",
    "        else:\n",
    "            return endX(string, i + 1, rem)\n",
    "\n",
    "string = \"xxre\"\n",
    "returned_value = endX(string)\n",
    "print(returned_value) \n",
    "\n",
    "string = \"xxhixx\"\n",
    "returned_value = endX(string) \n",
    "print(returned_value) \n",
    "\n",
    "string = \"xhixhix\"\n",
    "returned_value = endX(string) \n",
    "print(returned_value) "
   ]
  },
  {
   "cell_type": "code",
   "execution_count": 32,
   "metadata": {},
   "outputs": [
    {
     "name": "stdout",
     "output_type": "stream",
     "text": [
      "3\n",
      "3\n",
      "1\n"
     ]
    }
   ],
   "source": [
    "# Question 16\n",
    "\n",
    "def count11(string, i = 0):\n",
    "    if i == len(string):\n",
    "        return 0\n",
    "    \n",
    "    else:\n",
    "        if i == len(string) - 1:\n",
    "            return 0\n",
    "        \n",
    "        elif (string[i] + string[i + 1]) == \"11\":\n",
    "            return 1 + count11(string, i + 2)\n",
    "\n",
    "        else:\n",
    "            return count11(string, i + 1)\n",
    "        \n",
    "        \n",
    "\n",
    "string = \"11abc11\"\n",
    "returned_value = count11(string)\n",
    "print(returned_value) \n",
    "\n",
    "string = \"abc11x11x11\"\n",
    "returned_value = count11(string) \n",
    "print(returned_value) \n",
    "\n",
    "string = \"111\"\n",
    "returned_value = count11(string) \n",
    "print(returned_value)"
   ]
  },
  {
   "cell_type": "code",
   "execution_count": 38,
   "metadata": {},
   "outputs": [
    {
     "name": "stdout",
     "output_type": "stream",
     "text": [
      "(abc)\n",
      "(hello)\n",
      "(xy)\n"
     ]
    }
   ],
   "source": [
    "# Question 17\n",
    "\n",
    "def parenBit(string, i = 0, flag = False, ret_string = \"\"):\n",
    "    if i == len(string):\n",
    "        return ret_string\n",
    "    \n",
    "    else:\n",
    "        if string[i] == \"(\":\n",
    "            ret_string = ret_string + string[i]\n",
    "            return parenBit(string, i + 1, True, ret_string) \n",
    "        \n",
    "        elif string[i] == \")\":\n",
    "            ret_string = ret_string + string[i]\n",
    "            return parenBit(string, i + 1, False, ret_string)\n",
    "\n",
    "        elif flag:\n",
    "            ret_string = ret_string + string[i]\n",
    "            return parenBit(string, i + 1, flag, ret_string)\n",
    "        \n",
    "        else:\n",
    "            return parenBit(string, i + 1, flag, ret_string)\n",
    "        \n",
    "\n",
    "string = \"xyz(abc)123\"\n",
    "returned_value = parenBit(string)\n",
    "print(returned_value) \n",
    "\n",
    "string = \"x(hello)\"\n",
    "returned_value = parenBit(string) \n",
    "print(returned_value) \n",
    "\n",
    "string = \"(xy)1\"\n",
    "returned_value = parenBit(string) \n",
    "print(returned_value)"
   ]
  },
  {
   "cell_type": "code",
   "execution_count": 47,
   "metadata": {},
   "outputs": [
    {
     "name": "stdout",
     "output_type": "stream",
     "text": [
      "True\n",
      "False\n",
      "True\n"
     ]
    }
   ],
   "source": [
    "# Question 18\n",
    "\n",
    "def strCopies(string, sub, n, count = 0):\n",
    "    if count == n:\n",
    "        return True\n",
    "    \n",
    "    elif not(string):\n",
    "        return False\n",
    "    \n",
    "    else:\n",
    "        if string[:len(sub)] == sub:\n",
    "            return strCopies(string[1:], sub, n, count + 1)\n",
    "        \n",
    "        else:\n",
    "            return strCopies(string[1:], sub, n, count)\n",
    "        \n",
    "\n",
    "string = \"catcowcat\"\n",
    "sub = \"cat\"\n",
    "returned_value = strCopies(string, sub, 2)\n",
    "print(returned_value)\n",
    "\n",
    "string = \"catcowcat\"\n",
    "sub = \"cow\"\n",
    "returned_value = strCopies(string, sub, 2)\n",
    "print(returned_value)\n",
    "\n",
    "string = \"catcowcat\"\n",
    "sub = \"cow\"\n",
    "returned_value = strCopies(string, sub, 1)\n",
    "print(returned_value)"
   ]
  },
  {
   "cell_type": "code",
   "execution_count": 49,
   "metadata": {},
   "outputs": [
    {
     "name": "stdout",
     "output_type": "stream",
     "text": [
      "codey\n",
      "yyhiyy\n",
      "yhiyhiy\n"
     ]
    }
   ],
   "source": [
    "# Question 19\n",
    "\n",
    "def changeXY(string, i = 0):\n",
    "    if i == len(string):\n",
    "        return string\n",
    "\n",
    "    else:\n",
    "        if string[i] == \"x\":\n",
    "            string = string[:i] + \"y\" + string[i+1:]\n",
    "            return changeXY(string, i + 1)\n",
    "        \n",
    "        else:\n",
    "            return changeXY(string, i + 1)\n",
    "        \n",
    "\n",
    "string = \"codex\"\n",
    "returned_value = changeXY(string)\n",
    "print(returned_value) \n",
    "\n",
    "string = \"xxhixx\"\n",
    "returned_value = changeXY(string) \n",
    "print(returned_value) \n",
    "\n",
    "string = \"xhixhix\"\n",
    "returned_value = changeXY(string) \n",
    "print(returned_value) "
   ]
  },
  {
   "cell_type": "code",
   "execution_count": 50,
   "metadata": {},
   "outputs": [
    {
     "name": "stdout",
     "output_type": "stream",
     "text": [
      "True\n",
      "False\n",
      "True\n"
     ]
    }
   ],
   "source": [
    "# Question 20\n",
    "\n",
    "def array6(arr, i):\n",
    "    if i == len(arr):\n",
    "        return False\n",
    "    \n",
    "    else:\n",
    "        if arr[i] == 6:\n",
    "            return True\n",
    "        \n",
    "        else:\n",
    "            return array6(arr, i + 1)\n",
    "        \n",
    "array = [1, 6, 4]\n",
    "returned_value = array6(array, 0)\n",
    "print(returned_value) \n",
    "\n",
    "array = [1, 4]\n",
    "returned_value = array6(array, 0) \n",
    "print(returned_value) \n",
    "\n",
    "array = [6]\n",
    "returned_value = array6(array, 0) \n",
    "print(returned_value) "
   ]
  },
  {
   "cell_type": "code",
   "execution_count": 54,
   "metadata": {},
   "outputs": [
    {
     "name": "stdout",
     "output_type": "stream",
     "text": [
      "h*e*l*l*o\n",
      "a*b*c\n",
      "a*b\n"
     ]
    }
   ],
   "source": [
    "# Question 21\n",
    "\n",
    "def allStar(string, i = 0):\n",
    "    if i == len(string) - 1:\n",
    "        return string\n",
    "\n",
    "    else:\n",
    "        string = string[:i+1] + \"*\" + string[i+1:]\n",
    "        return allStar(string, i + 2)\n",
    "\n",
    "        \n",
    "\n",
    "string = \"hello\"\n",
    "returned_value = allStar(string)\n",
    "print(returned_value) \n",
    "\n",
    "string = \"abc\"\n",
    "returned_value = allStar(string) \n",
    "print(returned_value) \n",
    "\n",
    "string = \"ab\"\n",
    "returned_value = allStar(string) \n",
    "print(returned_value) "
   ]
  },
  {
   "cell_type": "code",
   "execution_count": 57,
   "metadata": {},
   "outputs": [
    {
     "name": "stdout",
     "output_type": "stream",
     "text": [
      "1\n",
      "2\n",
      "1\n"
     ]
    }
   ],
   "source": [
    "# Question 22\n",
    "\n",
    "def countPairs(string, i = 2):\n",
    "    if i == len(string):\n",
    "        return 0\n",
    "    \n",
    "    else:\n",
    "        if string[i] == string[i - 2]:\n",
    "            return 1 + countPairs(string, i + 1)\n",
    "        \n",
    "        else:\n",
    "            return countPairs(string, i + 1)\n",
    "\n",
    "\n",
    "string = \"axa\"\n",
    "returned_value = countPairs(string)\n",
    "print(returned_value) \n",
    "\n",
    "string = \"axax\"\n",
    "returned_value = countPairs(string) \n",
    "print(returned_value) \n",
    "\n",
    "string = \"axbx\"\n",
    "returned_value = countPairs(string) \n",
    "print(returned_value) "
   ]
  },
  {
   "cell_type": "code",
   "execution_count": 58,
   "metadata": {},
   "outputs": [
    {
     "name": "stdout",
     "output_type": "stream",
     "text": [
      "yza\n",
      "abcd\n",
      "Helo\n"
     ]
    }
   ],
   "source": [
    "# Question 23\n",
    "\n",
    "def stringClean(string, i = 0, rem = \"\"):\n",
    "    if i == len(string):\n",
    "        return rem\n",
    "    \n",
    "    else:\n",
    "        if string[i] not in rem:\n",
    "            rem = rem + string[i]\n",
    "            return stringClean(string, i + 1, rem)\n",
    "        \n",
    "        else:\n",
    "            return stringClean(string, i + 1 ,rem)\n",
    "        \n",
    "\n",
    "string = \"yyzzza\"\n",
    "returned_value = stringClean(string)\n",
    "print(returned_value) \n",
    "\n",
    "string = \"abbbcdd\"\n",
    "returned_value = stringClean(string) \n",
    "print(returned_value) \n",
    "\n",
    "string = \"Hello\"\n",
    "returned_value = stringClean(string) \n",
    "print(returned_value) "
   ]
  },
  {
   "cell_type": "code",
   "execution_count": 208,
   "metadata": {},
   "outputs": [
    {
     "name": "stdout",
     "output_type": "stream",
     "text": [
      "True\n",
      "True\n",
      "False\n"
     ]
    }
   ],
   "source": [
    "# Question 24\n",
    "\n",
    "def nestParen(string, i= 0):\n",
    "    if i == len(string):\n",
    "        return True\n",
    "    \n",
    "    elif not(string[i] == \"(\") and not(string[i - i - i - 1]) == \")\":\n",
    "        return nestParen(string, i + 1)\n",
    "\n",
    "    elif string[i] == \"(\" and string[i - i - i - 1] == \")\":\n",
    "        return nestParen(string, i + 1)\n",
    "    \n",
    "    elif string[i] == \"(\" and not(string[i - i - i - 1] == \")\"):\n",
    "        return False\n",
    "        \n",
    "    elif not(string[i] == \"(\") and string[i - i - i - 1] == \")\":\n",
    "        return False\n",
    "\n",
    "\n",
    "string = \"(())\"\n",
    "returned_value = nestParen(string)\n",
    "print(returned_value) \n",
    "\n",
    "string = \"((()))\"\n",
    "returned_value = nestParen(string) \n",
    "print(returned_value) \n",
    "\n",
    "string = \"(((x))\"\n",
    "returned_value = nestParen(string) \n",
    "print(returned_value) "
   ]
  },
  {
   "cell_type": "code",
   "execution_count": 8,
   "metadata": {},
   "outputs": [
    {
     "name": "stdout",
     "output_type": "stream",
     "text": [
      "9\n",
      "3\n",
      "9\n"
     ]
    }
   ],
   "source": [
    "# Question 25\n",
    "\n",
    "def strDist(string, sub, i = 0, flag = False):\n",
    "    if i == len(string):\n",
    "        return 0\n",
    "    \n",
    "    elif string[i:i + len(sub)] == sub:\n",
    "        if not(flag):\n",
    "            return  len(sub) + strDist(string, sub, i + 3, True)\n",
    "        \n",
    "        else:\n",
    "            return len(sub) + strDist(string, sub, i + 3, False)\n",
    "\n",
    "    elif flag:\n",
    "        if sub not in string[i:]:\n",
    "            return strDist(string, sub, i + 1, flag)\n",
    "        \n",
    "        else:  \n",
    "            return 1 + strDist(string, sub, i + 1, flag)\n",
    "    \n",
    "    else:\n",
    "        return strDist(string, sub, i + 1, flag)\n",
    "            \n",
    "\n",
    "string = \"catcowcat\"\n",
    "sub = \"cat\"\n",
    "returned_value = strDist(string, sub)\n",
    "print(returned_value)\n",
    "\n",
    "string = \"catcowcat\"\n",
    "sub = \"cow\"\n",
    "returned_value = strDist(string, sub)\n",
    "print(returned_value)\n",
    "\n",
    "string = \"cccatcowcatxx\"\n",
    "sub = \"cat\"\n",
    "returned_value = strDist(string, sub)\n",
    "print(returned_value)\n",
    "    "
   ]
  },
  {
   "cell_type": "code",
   "execution_count": 13,
   "metadata": {},
   "outputs": [
    {
     "name": "stdout",
     "output_type": "stream",
     "text": [
      "True\n",
      "True\n",
      "False\n"
     ]
    }
   ],
   "source": [
    "# Question 26\n",
    "\n",
    "def groupSum(i, array, target):\n",
    "    if len(array) == i:\n",
    "        return False\n",
    "    \n",
    "    else:\n",
    "        if array[i] == target:\n",
    "            return True\n",
    "        else:\n",
    "            flag = groupSum(i + 1, array, (target - array[i]))\n",
    "\n",
    "            if flag:\n",
    "                return True\n",
    "            \n",
    "            else:\n",
    "                return groupSum(i + 1, array, target)\n",
    "        \n",
    "\n",
    "array = [2, 4, 8]\n",
    "returned_value = groupSum(0, array, 10)\n",
    "print(returned_value) \n",
    "\n",
    "array = [2, 4, 8]\n",
    "returned_value = groupSum(0, array, 14) \n",
    "print(returned_value) \n",
    "\n",
    "array = [2, 4, 8]\n",
    "returned_value = groupSum(0, array, 9) \n",
    "print(returned_value) "
   ]
  },
  {
   "cell_type": "code",
   "execution_count": 14,
   "metadata": {},
   "outputs": [
    {
     "name": "stdout",
     "output_type": "stream",
     "text": [
      "None\n",
      "None\n",
      "None\n"
     ]
    }
   ],
   "source": []
  }
 ],
 "metadata": {
  "kernelspec": {
   "display_name": "Python 3",
   "language": "python",
   "name": "python3"
  },
  "language_info": {
   "codemirror_mode": {
    "name": "ipython",
    "version": 3
   },
   "file_extension": ".py",
   "mimetype": "text/x-python",
   "name": "python",
   "nbconvert_exporter": "python",
   "pygments_lexer": "ipython3",
   "version": "3.11.3"
  }
 },
 "nbformat": 4,
 "nbformat_minor": 2
}
