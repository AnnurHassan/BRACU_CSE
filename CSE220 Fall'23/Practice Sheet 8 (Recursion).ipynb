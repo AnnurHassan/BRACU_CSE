{
 "cells": [
  {
   "cell_type": "code",
   "execution_count": 1,
   "metadata": {},
   "outputs": [
    {
     "name": "stdout",
     "output_type": "stream",
     "text": [
      "9\n",
      "13\n",
      "3\n"
     ]
    }
   ],
   "source": [
    "# Question 1\n",
    "\n",
    "def sumDigits(num):\n",
    "    if num == 0:\n",
    "        return 0\n",
    "    \n",
    "    else:\n",
    "        return (num % 10) + sumDigits(num // 10)\n",
    "\n",
    "\n",
    "num = 126\n",
    "returned_value = sumDigits(num)\n",
    "print(returned_value) \n",
    "\n",
    "num = 49\n",
    "returned_value = sumDigits(num) \n",
    "print(returned_value) \n",
    "\n",
    "num = 12\n",
    "returned_value = sumDigits(num) \n",
    "print(returned_value) "
   ]
  },
  {
   "cell_type": "code",
   "execution_count": 2,
   "metadata": {},
   "outputs": [
    {
     "name": "stdout",
     "output_type": "stream",
     "text": [
      "0\n",
      "2\n",
      "5\n"
     ]
    }
   ],
   "source": [
    "# Question 2\n",
    "\n",
    "def bunnyEars2(num):\n",
    "    if num == 0:\n",
    "        return 0\n",
    "    \n",
    "    else:\n",
    "        if num % 2 == 0:\n",
    "            return 3 + bunnyEars2(num - 1)\n",
    "        \n",
    "        else:\n",
    "            return 2 + bunnyEars2(num - 1)\n",
    "        \n",
    "\n",
    "num = 0\n",
    "returned_value = bunnyEars2(num)\n",
    "print(returned_value) \n",
    "\n",
    "num = 1\n",
    "returned_value = bunnyEars2(num) \n",
    "print(returned_value) \n",
    "\n",
    "num = 2\n",
    "returned_value = bunnyEars2(num) \n",
    "print(returned_value) "
   ]
  },
  {
   "cell_type": "code",
   "execution_count": 4,
   "metadata": {},
   "outputs": [
    {
     "name": "stdout",
     "output_type": "stream",
     "text": [
      "2\n",
      "1\n",
      "0\n"
     ]
    }
   ],
   "source": [
    "# Question 3\n",
    "\n",
    "def count(num):\n",
    "    if num == 0:\n",
    "        return 0\n",
    "    \n",
    "    else:\n",
    "        if num % 10 == 7:\n",
    "            return 1 + count(num // 10)\n",
    "\n",
    "        else:\n",
    "            return count(num // 10)\n",
    "        \n",
    "\n",
    "num = 717\n",
    "returned_value = count(num)\n",
    "print(returned_value) \n",
    "\n",
    "num = 7\n",
    "returned_value = count(num) \n",
    "print(returned_value) \n",
    "\n",
    "num = 123\n",
    "returned_value = count(num) \n",
    "print(returned_value) "
   ]
  },
  {
   "cell_type": "code",
   "execution_count": 6,
   "metadata": {},
   "outputs": [
    {
     "name": "stdout",
     "output_type": "stream",
     "text": [
      "4\n",
      "3\n",
      "0\n"
     ]
    }
   ],
   "source": [
    "# Question 4 (Slicing)\n",
    "\n",
    "def countX(string):\n",
    "    if not(string):\n",
    "        return 0\n",
    "    \n",
    "    else:\n",
    "        if string[0] == \"x\":\n",
    "            return 1 + countX(string[1:])\n",
    "        \n",
    "        else:\n",
    "            return countX(string[1:])\n",
    "\n",
    "\n",
    "string = \"xxhixx\"\n",
    "returned_value = countX(string)\n",
    "print(returned_value) \n",
    "\n",
    "string = \"xhixhix\"\n",
    "returned_value = countX(string) \n",
    "print(returned_value) \n",
    "\n",
    "string = \"hi\"\n",
    "returned_value = countX(string) \n",
    "print(returned_value) "
   ]
  },
  {
   "cell_type": "code",
   "execution_count": 7,
   "metadata": {},
   "outputs": [
    {
     "name": "stdout",
     "output_type": "stream",
     "text": [
      "4\n",
      "3\n",
      "0\n"
     ]
    }
   ],
   "source": [
    "# Question 4 (indexing)\n",
    "\n",
    "def countX(string, i = 0):\n",
    "    if i == len(string):\n",
    "        return 0\n",
    "    \n",
    "    else:\n",
    "        if string[i] == \"x\":\n",
    "            return 1 + countX(string, i + 1)\n",
    "        \n",
    "        else:\n",
    "            return countX(string, i + 1)\n",
    "\n",
    "\n",
    "string = \"xxhixx\"\n",
    "returned_value = countX(string)\n",
    "print(returned_value) \n",
    "\n",
    "string = \"xhixhix\"\n",
    "returned_value = countX(string) \n",
    "print(returned_value) \n",
    "\n",
    "string = \"hi\"\n",
    "returned_value = countX(string) \n",
    "print(returned_value) "
   ]
  },
  {
   "cell_type": "code",
   "execution_count": 4,
   "metadata": {},
   "outputs": [
    {
     "name": "stdout",
     "output_type": "stream",
     "text": [
      "x3.14x\n",
      "3.143.14\n",
      "3.14p\n"
     ]
    }
   ],
   "source": [
    "# Question 5\n",
    "\n",
    "def change(string, i = 0):\n",
    "    if i == len(string) - 1:\n",
    "        return string\n",
    "\n",
    "    else:\n",
    "        if string[i] + string[i + 1] == \"pi\":\n",
    "            string = string[:i] + \"3.14\" + string[i+2:]\n",
    "            return change(string, i + 1)\n",
    "        \n",
    "        else:\n",
    "            return change(string, i + 1)\n",
    "        \n",
    "\n",
    "string = \"xpix\"\n",
    "returned_value = change(string)\n",
    "print(returned_value) \n",
    "\n",
    "string = \"pipi\"\n",
    "returned_value = change(string) \n",
    "print(returned_value) \n",
    "\n",
    "string = \"pip\"\n",
    "returned_value = change(string) \n",
    "print(returned_value) "
   ]
  },
  {
   "cell_type": "code",
   "execution_count": 16,
   "metadata": {},
   "outputs": [
    {
     "name": "stdout",
     "output_type": "stream",
     "text": [
      "1\n",
      "2\n",
      "0\n"
     ]
    }
   ],
   "source": [
    "# Question 6\n",
    "\n",
    "def array11(arr, i):\n",
    "    if i == len(arr):\n",
    "        return 0\n",
    "    \n",
    "    else:\n",
    "        if arr[i] == 11:\n",
    "            return 1 + array11(arr, i + 1)\n",
    "\n",
    "        else:\n",
    "            return array11(arr, i + 1)\n",
    "        \n",
    "array = [1, 2, 11]\n",
    "returned_value = array11(array, 0)\n",
    "print(returned_value) \n",
    "\n",
    "array = [11, 11]\n",
    "returned_value = array11(array, 0) \n",
    "print(returned_value) \n",
    "\n",
    "array = [1, 2, 3, 4]\n",
    "returned_value = array11(array, 0) \n",
    "print(returned_value) "
   ]
  },
  {
   "cell_type": "code",
   "execution_count": 17,
   "metadata": {},
   "outputs": [
    {
     "name": "stdout",
     "output_type": "stream",
     "text": [
      "hel*lo\n",
      "x*xy*y\n",
      "a*a*a*a\n"
     ]
    }
   ],
   "source": [
    "# Question 7\n",
    "\n",
    "def pairStar(string, i = 0):\n",
    "    if i == len(string) - 1:\n",
    "        return string\n",
    "\n",
    "    else:\n",
    "        if string[i] == string[i + 1]:\n",
    "            string = string[:i+1] + \"*\" + string[i+1:]\n",
    "            return pairStar(string, i + 1)\n",
    "        \n",
    "        else:\n",
    "            return pairStar(string, i + 1)\n",
    "        \n",
    "\n",
    "string = \"hello\"\n",
    "returned_value = pairStar(string)\n",
    "print(returned_value) \n",
    "\n",
    "string = \"xxyy\"\n",
    "returned_value = pairStar(string) \n",
    "print(returned_value) \n",
    "\n",
    "string = \"aaaa\"\n",
    "returned_value = pairStar(string) \n",
    "print(returned_value) "
   ]
  },
  {
   "cell_type": "code",
   "execution_count": 20,
   "metadata": {},
   "outputs": [
    {
     "name": "stdout",
     "output_type": "stream",
     "text": [
      "1\n",
      "2\n",
      "2\n"
     ]
    }
   ],
   "source": [
    "# Question 8 (Slicing)\n",
    "\n",
    "def countAbc(string):\n",
    "    if not(string):\n",
    "        return 0\n",
    "    \n",
    "    else:\n",
    "        if (string[:3] == \"abc\") or (string[:3] ==\"aba\"):\n",
    "            return 1 + countAbc(string[1:])\n",
    "        \n",
    "        else:\n",
    "            return countAbc(string[1:])\n",
    "        \n",
    "\n",
    "string = \"abc\"\n",
    "returned_value = countAbc(string)\n",
    "print(returned_value) \n",
    "\n",
    "string = \"abcxxabc\"\n",
    "returned_value = countAbc(string) \n",
    "print(returned_value) \n",
    "\n",
    "string = \"abaxxaba\"\n",
    "returned_value = countAbc(string) \n",
    "print(returned_value) "
   ]
  },
  {
   "cell_type": "code",
   "execution_count": 24,
   "metadata": {},
   "outputs": [
    {
     "name": "stdout",
     "output_type": "stream",
     "text": [
      "1\n",
      "2\n",
      "2\n"
     ]
    }
   ],
   "source": [
    "# Question 8 (indexing)\n",
    "\n",
    "def countAbc(string, i = 0):\n",
    "    if i == len(string) - 2:\n",
    "        return 0\n",
    "    \n",
    "    else:\n",
    "        if (string[i] + string[i + 1] + string[i + 2] == \"abc\") or (string[i] + string[i + 1] + string[i + 2] ==\"aba\"):\n",
    "            return 1 + countAbc(string, i + 1)\n",
    "        \n",
    "        else:\n",
    "            return countAbc(string, i + 1)\n",
    "        \n",
    "\n",
    "string = \"abc\"\n",
    "returned_value = countAbc(string)\n",
    "print(returned_value) \n",
    "\n",
    "string = \"abcxxabc\"\n",
    "returned_value = countAbc(string) \n",
    "print(returned_value) \n",
    "\n",
    "string = \"abaxxaba\"\n",
    "returned_value = countAbc(string) \n",
    "print(returned_value) "
   ]
  },
  {
   "cell_type": "code",
   "execution_count": 25,
   "metadata": {},
   "outputs": [
    {
     "name": "stdout",
     "output_type": "stream",
     "text": [
      "1\n",
      "2\n",
      "0\n"
     ]
    }
   ],
   "source": [
    "# Question 9\n",
    "\n",
    "def countHi2(string, i = 0):\n",
    "    if i == len(string) - 1:\n",
    "        return 0\n",
    "    \n",
    "    else:\n",
    "        if (string[i] + string[i + 1]) == \"hi\":\n",
    "            if string[i - 1] == \"x\":\n",
    "                return countHi2(string, i + 1)\n",
    "\n",
    "            else:\n",
    "                return 1 + countHi2(string, i + 1)\n",
    "        \n",
    "        else:\n",
    "            return countHi2(string, i + 1)\n",
    "        \n",
    "\n",
    "string = \"ahixhi\"\n",
    "returned_value = countHi2(string)\n",
    "print(returned_value) \n",
    "\n",
    "string = \"ahibhi\"\n",
    "returned_value = countHi2(string) \n",
    "print(returned_value) \n",
    "\n",
    "string = \"xhixhi\"\n",
    "returned_value = countHi2(string) \n",
    "print(returned_value) "
   ]
  },
  {
   "cell_type": "code",
   "execution_count": 27,
   "metadata": {},
   "outputs": [
    {
     "name": "stdout",
     "output_type": "stream",
     "text": [
      "2\n",
      "1\n",
      "0\n"
     ]
    }
   ],
   "source": [
    "# Questin 10\n",
    "\n",
    "def strCount(string, sub):\n",
    "    if not(string):\n",
    "        return 0\n",
    "    \n",
    "    else:\n",
    "        if string[:len(sub)] == sub:\n",
    "            return 1 + strCount(string[1:], sub)\n",
    "        \n",
    "        else:\n",
    "            return strCount(string[1:], sub)\n",
    "        \n",
    "\n",
    "string = \"catcowcat\"\n",
    "sub = \"cat\"\n",
    "returned_value = strCount(string, sub)\n",
    "print(returned_value)\n",
    "\n",
    "string = \"catcowcat\"\n",
    "sub = \"cow\"\n",
    "returned_value = strCount(string, sub)\n",
    "print(returned_value)\n",
    "\n",
    "string = \"catcowcat\"\n",
    "sub = \"dog\"\n",
    "returned_value = strCount(string, sub)\n",
    "print(returned_value)"
   ]
  }
 ],
 "metadata": {
  "kernelspec": {
   "display_name": "Python 3",
   "language": "python",
   "name": "python3"
  },
  "language_info": {
   "codemirror_mode": {
    "name": "ipython",
    "version": 3
   },
   "file_extension": ".py",
   "mimetype": "text/x-python",
   "name": "python",
   "nbconvert_exporter": "python",
   "pygments_lexer": "ipython3",
   "version": "3.11.3"
  }
 },
 "nbformat": 4,
 "nbformat_minor": 2
}
