{
 "cells": [
  {
   "cell_type": "code",
   "execution_count": 1,
   "metadata": {},
   "outputs": [],
   "source": [
    "# Binary Tree Class\n",
    "\n",
    "class BinaryTree:\n",
    "    def __init__(self, data):\n",
    "        self.data = data\n",
    "        self.left = None\n",
    "        self.right = None\n",
    "\n",
    "    def printTree_inorder(self):\n",
    "        if self.left:\n",
    "            self.left.printTree_inorder()\n",
    "        \n",
    "        print(self.data, end = \" \")\n",
    "\n",
    "        if self.right:\n",
    "            self.right.printTree_inorder()"
   ]
  },
  {
   "cell_type": "code",
   "execution_count": 2,
   "metadata": {},
   "outputs": [
    {
     "name": "stdout",
     "output_type": "stream",
     "text": [
      "Tree 1 : 2 1 3 \n",
      "Tree 2 : 2 1 3 \n",
      "True\n"
     ]
    }
   ],
   "source": [
    "# 1\n",
    "\n",
    "def chech_sim(root1, root2):\n",
    "    if (not root1) and (not root2):\n",
    "        return True\n",
    "    \n",
    "    if root1.data == root2.data:\n",
    "        return chech_sim(root1.left, root2.left) and chech_sim(root1.right, root2.right)\n",
    "    \n",
    "    return False\n",
    "\n",
    "    \n",
    "root1 = BinaryTree(1)\n",
    "root1.left = BinaryTree(2)\n",
    "root1.right = BinaryTree(3)\n",
    "\n",
    "root2 = BinaryTree(1)\n",
    "root2.left = BinaryTree(2)\n",
    "root2.right = BinaryTree(3)\n",
    "\n",
    "print(\"Tree 1 : \", end = \"\")\n",
    "root1.printTree_inorder()\n",
    "print()\n",
    "print(\"Tree 2 : \", end = \"\")\n",
    "root2.printTree_inorder()\n",
    "print()\n",
    "\n",
    "print(chech_sim(root1, root2))"
   ]
  },
  {
   "cell_type": "code",
   "execution_count": 3,
   "metadata": {},
   "outputs": [
    {
     "name": "stdout",
     "output_type": "stream",
     "text": [
      "Tree : 40 20 60 10 30 \n",
      "Mirrored Tree: 30 10 60 20 40 \n"
     ]
    }
   ],
   "source": [
    "# 2\n",
    "\n",
    "def mirror(root):\n",
    "    if root:\n",
    "        rem = root.left\n",
    "        root.left = root.right\n",
    "        root.right = rem\n",
    "        mirror(root.left)\n",
    "        mirror(root.right)\n",
    "\n",
    "    return root\n",
    "\n",
    "root = BinaryTree(10)\n",
    "n1 = BinaryTree(20)\n",
    "n2 = BinaryTree(30)\n",
    "n3 = BinaryTree(40)\n",
    "n4 = BinaryTree(60)\n",
    "\n",
    "root.left = n1\n",
    "root.right = n2\n",
    "n1.left = n3\n",
    "n1.right = n4\n",
    "\n",
    "print(\"Tree : \", end = \"\")\n",
    "root.printTree_inorder()\n",
    "print()\n",
    "\n",
    "root = mirror(root)\n",
    "print(\"Mirrored Tree: \", end = \"\")\n",
    "root.printTree_inorder()\n",
    "print()"
   ]
  },
  {
   "cell_type": "code",
   "execution_count": null,
   "metadata": {},
   "outputs": [],
   "source": [
    "#4 \n",
    "\n"
   ]
  }
 ],
 "metadata": {
  "kernelspec": {
   "display_name": "Python 3",
   "language": "python",
   "name": "python3"
  },
  "language_info": {
   "codemirror_mode": {
    "name": "ipython",
    "version": 3
   },
   "file_extension": ".py",
   "mimetype": "text/x-python",
   "name": "python",
   "nbconvert_exporter": "python",
   "pygments_lexer": "ipython3",
   "version": "3.11.3"
  }
 },
 "nbformat": 4,
 "nbformat_minor": 2
}
