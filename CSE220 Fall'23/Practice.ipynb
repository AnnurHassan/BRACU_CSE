{
 "cells": [
  {
   "cell_type": "code",
   "execution_count": 4,
   "metadata": {},
   "outputs": [
    {
     "name": "stdout",
     "output_type": "stream",
     "text": [
      "[[3. 3. 3.]\n",
      " [3. 3. 3.]\n",
      " [3. 3. 3.]]\n"
     ]
    }
   ],
   "source": [
    "# Matrix Add\n",
    "\n",
    "import numpy as np\n",
    "\n",
    "arr_1 = np.array([[2, 2, 2],\n",
    "                  [2, 2, 2],\n",
    "                  [2, 2, 2]])\n",
    "\n",
    "arr_2 = np.array([[1, 1, 1, 1],\n",
    "                  [1, 1, 1, 1],\n",
    "                  [1, 1, 1, 1]])\n",
    "\n",
    "arr = np.zeros((len(arr_1), len(arr_1[0])))\n",
    "for i in range(len(arr_1)):\n",
    "    for j in range(len(arr_1[0])):\n",
    "        arr[i][j] = arr_1[i][j] + arr_2[i][j]\n",
    "\n",
    "print(arr)"
   ]
  },
  {
   "cell_type": "code",
   "execution_count": 9,
   "metadata": {},
   "outputs": [
    {
     "name": "stdout",
     "output_type": "stream",
     "text": [
      "[[6. 6. 6. 6.]\n",
      " [6. 6. 6. 6.]\n",
      " [6. 6. 6. 6.]]\n"
     ]
    }
   ],
   "source": [
    "#Matrix Multiplication\n",
    "\n",
    "arr = np.zeros((len(arr_1), len(arr_2[0])))\n",
    "\n",
    "for i in range(len(arr_1)):\n",
    "    for j in range(len(arr_2[0])):\n",
    "        sum = 0\n",
    "        for k in range(len(arr_1[0])):\n",
    "            sum += arr_1[i][k] * arr_2[k][j]\n",
    "        arr[i][j] = sum\n",
    "\n",
    "print(arr)"
   ]
  },
  {
   "cell_type": "code",
   "execution_count": 17,
   "metadata": {},
   "outputs": [
    {
     "name": "stdout",
     "output_type": "stream",
     "text": [
      "[2 2 2 2 2 2 2 2 2]\n"
     ]
    }
   ],
   "source": [
    "# 2D Array to Linear Array\n",
    "\n",
    "arr_1 = np.array([[2, 2, 2],\n",
    "                  [2, 2, 2],\n",
    "                  [2, 2, 2]])\n",
    "\n",
    "arr = np.array([0] * (len(arr_1) * len(arr_1[0])))\n",
    "\n",
    "for i in range(len(arr_1)):\n",
    "    for j in range(len(arr_1[0])):\n",
    "        arr[len(arr_1[0]) * i + j] = arr_1[i][j]\n",
    "\n",
    "print(arr)"
   ]
  }
 ],
 "metadata": {
  "kernelspec": {
   "display_name": "Python 3",
   "language": "python",
   "name": "python3"
  },
  "language_info": {
   "codemirror_mode": {
    "name": "ipython",
    "version": 3
   },
   "file_extension": ".py",
   "mimetype": "text/x-python",
   "name": "python",
   "nbconvert_exporter": "python",
   "pygments_lexer": "ipython3",
   "version": "3.11.3"
  },
  "orig_nbformat": 4
 },
 "nbformat": 4,
 "nbformat_minor": 2
}
