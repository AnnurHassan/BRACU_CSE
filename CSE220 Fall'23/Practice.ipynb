{
 "cells": [
  {
   "cell_type": "code",
   "execution_count": 12,
   "metadata": {},
   "outputs": [],
   "source": [
    "import numpy as np"
   ]
  },
  {
   "cell_type": "markdown",
   "metadata": {},
   "source": [
    "# ARRAY"
   ]
  },
  {
   "cell_type": "code",
   "execution_count": 13,
   "metadata": {},
   "outputs": [
    {
     "name": "stdout",
     "output_type": "stream",
     "text": [
      "[[0. 0.]\n",
      " [0. 0.]\n",
      " [0. 0.]]\n",
      "===============================\n",
      "[[None None None]\n",
      " [None None None]\n",
      " [None None None]]\n",
      "===============================\n",
      "[[1 2 3]\n",
      " [1 2 3]\n",
      " [1 2 3]]\n"
     ]
    }
   ],
   "source": [
    "# Creating a 2D Array\n",
    "\n",
    "arr = np.zeros((3,2))\n",
    "print(arr)\n",
    "print(\"===============================\")\n",
    "arr = np.full((3,3), None)\n",
    "print(arr)\n",
    "print(\"===============================\")\n",
    "arr = np.array([[1,2,3], [1,2,3], [1,2,3]])\n",
    "print(arr)"
   ]
  },
  {
   "cell_type": "code",
   "execution_count": 14,
   "metadata": {},
   "outputs": [
    {
     "name": "stdout",
     "output_type": "stream",
     "text": [
      "[[3. 3. 3.]\n",
      " [3. 3. 3.]\n",
      " [3. 3. 3.]]\n"
     ]
    }
   ],
   "source": [
    "# Matrix Add\n",
    "\n",
    "arr_1 = np.array([[2, 2, 2],\n",
    "                  [2, 2, 2],\n",
    "                  [2, 2, 2]])\n",
    "\n",
    "arr_2 = np.array([[1, 1, 1, 1],\n",
    "                  [1, 1, 1, 1],\n",
    "                  [1, 1, 1, 1]])\n",
    "\n",
    "arr = np.zeros((len(arr_1), len(arr_1[0])))\n",
    "for i in range(len(arr_1)):\n",
    "    for j in range(len(arr_1[0])):\n",
    "        arr[i][j] = arr_1[i][j] + arr_2[i][j]\n",
    "\n",
    "print(arr)"
   ]
  },
  {
   "cell_type": "code",
   "execution_count": 15,
   "metadata": {},
   "outputs": [
    {
     "name": "stdout",
     "output_type": "stream",
     "text": [
      "[[6. 6. 6. 6.]\n",
      " [6. 6. 6. 6.]\n",
      " [6. 6. 6. 6.]]\n"
     ]
    }
   ],
   "source": [
    "#Matrix Multiplication\n",
    "\n",
    "arr = np.zeros((len(arr_1), len(arr_2[0])))\n",
    "\n",
    "for i in range(len(arr_1)):\n",
    "    for j in range(len(arr_2[0])):\n",
    "        sum = 0\n",
    "        for k in range(len(arr_1[0])):\n",
    "            sum += arr_1[i][k] * arr_2[k][j]\n",
    "        arr[i][j] = sum\n",
    "\n",
    "print(arr)"
   ]
  },
  {
   "cell_type": "code",
   "execution_count": 16,
   "metadata": {},
   "outputs": [
    {
     "name": "stdout",
     "output_type": "stream",
     "text": [
      "[2 2 2 2 2 2 2 2 2]\n"
     ]
    }
   ],
   "source": [
    "# 2D Array to Linear Array\n",
    "\n",
    "arr_1 = np.array([[2, 2, 2],\n",
    "                  [2, 2, 2],\n",
    "                  [2, 2, 2]])\n",
    "\n",
    "arr = np.array([0] * (len(arr_1) * len(arr_1[0])))\n",
    "\n",
    "for i in range(len(arr_1)):\n",
    "    for j in range(len(arr_1[0])):\n",
    "        arr[len(arr_1[0]) * i + j] = arr_1[i][j]\n",
    "\n",
    "print(arr)"
   ]
  },
  {
   "cell_type": "markdown",
   "metadata": {},
   "source": [
    "# Linked List"
   ]
  },
  {
   "cell_type": "code",
   "execution_count": 17,
   "metadata": {},
   "outputs": [],
   "source": [
    "# Node Class\n",
    "\n",
    "class Node:\n",
    "    def __init__(self, elem, next):\n",
    "        self.elem = elem\n",
    "        self.next = next"
   ]
  },
  {
   "cell_type": "code",
   "execution_count": 34,
   "metadata": {},
   "outputs": [],
   "source": [
    "# Creating a Linked List\n",
    "\n",
    "def createList(arr):\n",
    "    head = Node(arr[0], None)\n",
    "    tail = head\n",
    "    for i in range(1, len(arr)):\n",
    "        n = Node(arr[i], None)\n",
    "        tail.next = n\n",
    "        tail = tail.next\n",
    "    \n",
    "    return head\n",
    "\n",
    "arr = [4, 5, 6, 8, 7]\n",
    "head = createList(arr)"
   ]
  },
  {
   "cell_type": "code",
   "execution_count": 35,
   "metadata": {},
   "outputs": [
    {
     "name": "stdout",
     "output_type": "stream",
     "text": [
      "4\n",
      "5\n",
      "6\n",
      "8\n",
      "7\n"
     ]
    }
   ],
   "source": [
    "# Iteration \n",
    "\n",
    "def iteration(head):\n",
    "    temp = head\n",
    "    while temp != None:\n",
    "        print(temp.elem)\n",
    "        temp = temp.next\n",
    "\n",
    "iteration(head)"
   ]
  },
  {
   "cell_type": "code",
   "execution_count": null,
   "metadata": {},
   "outputs": [],
   "source": [
    "def "
   ]
  }
 ],
 "metadata": {
  "kernelspec": {
   "display_name": "Python 3",
   "language": "python",
   "name": "python3"
  },
  "language_info": {
   "codemirror_mode": {
    "name": "ipython",
    "version": 3
   },
   "file_extension": ".py",
   "mimetype": "text/x-python",
   "name": "python",
   "nbconvert_exporter": "python",
   "pygments_lexer": "ipython3",
   "version": "3.11.3"
  },
  "orig_nbformat": 4
 },
 "nbformat": 4,
 "nbformat_minor": 2
}
