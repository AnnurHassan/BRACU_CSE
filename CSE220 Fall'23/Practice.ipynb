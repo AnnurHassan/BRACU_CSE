{
 "cells": [
  {
   "cell_type": "code",
   "execution_count": 1,
   "metadata": {},
   "outputs": [],
   "source": [
    "import numpy as np"
   ]
  },
  {
   "cell_type": "markdown",
   "metadata": {},
   "source": [
    "# ARRAY"
   ]
  },
  {
   "cell_type": "code",
   "execution_count": 25,
   "metadata": {},
   "outputs": [
    {
     "name": "stdout",
     "output_type": "stream",
     "text": [
      "[1 2 3 4 5 6 7 8 9]\n"
     ]
    }
   ],
   "source": [
    "array = np.array([[1,2,3],\n",
    "                  [4,5,6],\n",
    "                  [7,8,9]\n",
    "                  ])\n",
    "x = len(array) * len(array[0])\n",
    "new_array =  np.array([0]*x)\n",
    "count = 0\n",
    "for i in range(len(array)):\n",
    "    for j in range(len(array[0])):\n",
    "        new_array[count] = array[i][j]\n",
    "        count += 1\n",
    "\n",
    "print(new_array)"
   ]
  },
  {
   "cell_type": "code",
   "execution_count": 3,
   "metadata": {},
   "outputs": [
    {
     "name": "stdout",
     "output_type": "stream",
     "text": [
      "[6 5 4 3 2 1]\n"
     ]
    }
   ],
   "source": [
    "def revArrInPlace(arr):\n",
    "    i = 0\n",
    "    j = len(arr) -1\n",
    "    while i < j:\n",
    "        temp = arr[i]\n",
    "        arr[i] = arr[j]\n",
    "        arr[j] = temp\n",
    "        i += 1\n",
    "        j -= 1\n",
    "\n",
    "    return arr\n",
    "\n",
    "arr = np.array([1, 2, 3, 4, 5, 6])\n",
    "arr = revArrInPlace(arr)\n",
    "print(arr)"
   ]
  },
  {
   "cell_type": "code",
   "execution_count": 10,
   "metadata": {},
   "outputs": [
    {
     "name": "stdout",
     "output_type": "stream",
     "text": [
      "[6 5 4 3 2 1]\n"
     ]
    }
   ],
   "source": [
    "def revArrInPlace(arr):\n",
    "    for i in range(len(arr) // 2):\n",
    "        temp = arr[i]\n",
    "        arr[i] = arr[(len(arr)-1) - i]\n",
    "        arr[(len(arr)-1) - i] = temp\n",
    "\n",
    "    return arr\n",
    "\n",
    "arr = np.array([1, 2, 3, 4, 5, 6])\n",
    "arr = revArrInPlace(arr)\n",
    "print(arr)"
   ]
  },
  {
   "cell_type": "code",
   "execution_count": 13,
   "metadata": {},
   "outputs": [
    {
     "name": "stdout",
     "output_type": "stream",
     "text": [
      "[[0. 0.]\n",
      " [0. 0.]\n",
      " [0. 0.]]\n",
      "===============================\n",
      "[[None None None]\n",
      " [None None None]\n",
      " [None None None]]\n",
      "===============================\n",
      "[[1 2 3]\n",
      " [1 2 3]\n",
      " [1 2 3]]\n"
     ]
    }
   ],
   "source": [
    "# Creating a 2D Array\n",
    "\n",
    "arr = np.zeros((3,2))\n",
    "print(arr)\n",
    "print(\"===============================\")\n",
    "arr = np.full((3,3), None)\n",
    "print(arr)\n",
    "print(\"===============================\")\n",
    "arr = np.array([[1,2,3], [1,2,3], [1,2,3]])\n",
    "print(arr)"
   ]
  },
  {
   "cell_type": "code",
   "execution_count": 14,
   "metadata": {},
   "outputs": [
    {
     "name": "stdout",
     "output_type": "stream",
     "text": [
      "[[3. 3. 3.]\n",
      " [3. 3. 3.]\n",
      " [3. 3. 3.]]\n"
     ]
    }
   ],
   "source": [
    "# Matrix Add\n",
    "\n",
    "arr_1 = np.array([[2, 2, 2],\n",
    "                  [2, 2, 2],\n",
    "                  [2, 2, 2]])\n",
    "\n",
    "arr_2 = np.array([[1, 1, 1, 1],\n",
    "                  [1, 1, 1, 1],\n",
    "                  [1, 1, 1, 1]])\n",
    "\n",
    "arr = np.zeros((len(arr_1), len(arr_1[0])))\n",
    "for i in range(len(arr_1)):\n",
    "    for j in range(len(arr_1[0])):\n",
    "        arr[i][j] = arr_1[i][j] + arr_2[i][j]\n",
    "\n",
    "print(arr)"
   ]
  },
  {
   "cell_type": "code",
   "execution_count": 15,
   "metadata": {},
   "outputs": [
    {
     "name": "stdout",
     "output_type": "stream",
     "text": [
      "[[6. 6. 6. 6.]\n",
      " [6. 6. 6. 6.]\n",
      " [6. 6. 6. 6.]]\n"
     ]
    }
   ],
   "source": [
    "#Matrix Multiplication\n",
    "\n",
    "arr = np.zeros((len(arr_1), len(arr_2[0])))\n",
    "\n",
    "for i in range(len(arr_1)):\n",
    "    for j in range(len(arr_2[0])):\n",
    "        sum = 0\n",
    "        for k in range(len(arr_1[0])):\n",
    "            sum += arr_1[i][k] * arr_2[k][j]\n",
    "        arr[i][j] = sum\n",
    "\n",
    "print(arr)"
   ]
  },
  {
   "cell_type": "code",
   "execution_count": 16,
   "metadata": {},
   "outputs": [
    {
     "name": "stdout",
     "output_type": "stream",
     "text": [
      "[2 2 2 2 2 2 2 2 2]\n"
     ]
    }
   ],
   "source": [
    "# 2D Array to Linear Array\n",
    "\n",
    "arr_1 = np.array([[2, 2, 2],\n",
    "                  [2, 2, 2],\n",
    "                  [2, 2, 2]])\n",
    "\n",
    "arr = np.array([0] * (len(arr_1) * len(arr_1[0])))\n",
    "\n",
    "for i in range(len(arr_1)):\n",
    "    for j in range(len(arr_1[0])):\n",
    "        arr[len(arr_1[0]) * i + j] = arr_1[i][j]\n",
    "\n",
    "print(arr)"
   ]
  },
  {
   "cell_type": "markdown",
   "metadata": {},
   "source": [
    "# Linked List"
   ]
  },
  {
   "cell_type": "code",
   "execution_count": 8,
   "metadata": {},
   "outputs": [],
   "source": [
    "# Node Class\n",
    "\n",
    "class Node:\n",
    "    def __init__(self, elem, next):\n",
    "        self.elem = elem\n",
    "        self.next = next"
   ]
  },
  {
   "cell_type": "code",
   "execution_count": 9,
   "metadata": {},
   "outputs": [],
   "source": [
    "# Creating a Linked List\n",
    "\n",
    "def createList(arr):\n",
    "    head = Node(arr[0], None)\n",
    "    tail = head\n",
    "    for i in range(1, len(arr)):\n",
    "        node = Node(arr[i], None)\n",
    "        tail.next = node\n",
    "        tail = tail.next\n",
    "    \n",
    "    return head\n",
    "\n",
    "arr = [1, 2, 3, 4, 5]\n",
    "head = createList(arr)"
   ]
  },
  {
   "cell_type": "code",
   "execution_count": 10,
   "metadata": {},
   "outputs": [
    {
     "name": "stdout",
     "output_type": "stream",
     "text": [
      "1 2 3 4 5 "
     ]
    }
   ],
   "source": [
    "# Iteration \n",
    "\n",
    "def printLinkedList(head):\n",
    "    temp = head\n",
    "    while temp != None:\n",
    "        print(temp.elem, end = \" \")\n",
    "        temp = temp.next\n",
    "\n",
    "printLinkedList(head)"
   ]
  },
  {
   "cell_type": "code",
   "execution_count": 5,
   "metadata": {},
   "outputs": [
    {
     "name": "stdout",
     "output_type": "stream",
     "text": [
      "5\n"
     ]
    }
   ],
   "source": [
    "# Find Length\n",
    "\n",
    "def getLength(head):\n",
    "    temp = head\n",
    "    count = 0\n",
    "    while temp != None:\n",
    "        count += 1\n",
    "        temp = temp.next\n",
    "    \n",
    "    return count\n",
    "\n",
    "print(getLength(head))"
   ]
  },
  {
   "cell_type": "code",
   "execution_count": 14,
   "metadata": {},
   "outputs": [
    {
     "name": "stdout",
     "output_type": "stream",
     "text": [
      "1\n"
     ]
    }
   ],
   "source": [
    "def getIndex(head, elem):\n",
    "    temp = head\n",
    "    count = 0\n",
    "    while temp != None:\n",
    "        if elem == temp.elem:\n",
    "            break\n",
    "\n",
    "        count += 1\n",
    "        temp = temp.next\n",
    "    \n",
    "    return count\n",
    "\n",
    "idx = getIndex(head, 2)\n",
    "print(idx)"
   ]
  },
  {
   "cell_type": "code",
   "execution_count": 54,
   "metadata": {},
   "outputs": [
    {
     "name": "stdout",
     "output_type": "stream",
     "text": [
      "3\n"
     ]
    }
   ],
   "source": [
    "# Finding a Element of a Specific Index\n",
    "\n",
    "def getElem(head, idx):\n",
    "    temp = head\n",
    "    count = 0\n",
    "    while temp != None:\n",
    "        if count == idx:\n",
    "            elem = temp.elem\n",
    "            break\n",
    "        \n",
    "        count += 1\n",
    "        temp = temp.next\n",
    "\n",
    "    return elem\n",
    "\n",
    "elem = getElem(head, 2)\n",
    "print(elem)"
   ]
  },
  {
   "cell_type": "code",
   "execution_count": 55,
   "metadata": {},
   "outputs": [
    {
     "name": "stdout",
     "output_type": "stream",
     "text": [
      "3\n"
     ]
    }
   ],
   "source": [
    "# Finding the Node of a specific Index\n",
    "\n",
    "def getNode(head, idx):\n",
    "    temp = head\n",
    "    count = 0\n",
    "    while temp != None:\n",
    "        if count == idx:\n",
    "            node = temp\n",
    "            break\n",
    "        \n",
    "        temp = temp.next\n",
    "        count += 1\n",
    "    \n",
    "    return node\n",
    "\n",
    "node = getNode(head, 2)\n",
    "print(node.elem)"
   ]
  },
  {
   "cell_type": "code",
   "execution_count": 48,
   "metadata": {},
   "outputs": [],
   "source": [
    "# changing element of a specific Index\n",
    "\n",
    "def setElem(head, idx, elem):\n",
    "    temp = head\n",
    "    count = 0\n",
    "    while temp != None:\n",
    "        if count == idx:\n",
    "            temp.elem = elem\n",
    "            break\n",
    "\n",
    "        count += 1\n",
    "        temp = temp.next\n",
    "\n",
    "setElem(head, 2, 0)"
   ]
  },
  {
   "cell_type": "code",
   "execution_count": null,
   "metadata": {},
   "outputs": [],
   "source": []
  },
  {
   "cell_type": "code",
   "execution_count": 15,
   "metadata": {},
   "outputs": [
    {
     "name": "stdout",
     "output_type": "stream",
     "text": [
      "0 1 2 3 4 5 "
     ]
    }
   ],
   "source": [
    "# Insert at Front\n",
    "\n",
    "def insertAtFront(head, num):\n",
    "    n = Node(num, head)\n",
    "    head = n\n",
    "    return head\n",
    "\n",
    "head = insertAtFront(head, 0)\n",
    "printLinkedList(head)"
   ]
  },
  {
   "cell_type": "code",
   "execution_count": 16,
   "metadata": {},
   "outputs": [
    {
     "ename": "NameError",
     "evalue": "name 'getNode' is not defined",
     "output_type": "error",
     "traceback": [
      "\u001b[1;31m---------------------------------------------------------------------------\u001b[0m",
      "\u001b[1;31mNameError\u001b[0m                                 Traceback (most recent call last)",
      "\u001b[1;32md:\\Annur\\Workshop\\VS CODE\\Python\\BRACU_CSE\\CSE220 Fall'23\\Practice.ipynb Cell 21\u001b[0m line \u001b[0;36m1\n\u001b[0;32m      <a href='vscode-notebook-cell:/d%3A/Annur/Workshop/VS%20CODE/Python/BRACU_CSE/CSE220%20Fall%2723/Practice.ipynb#X26sZmlsZQ%3D%3D?line=6'>7</a>\u001b[0m     prev_node\u001b[39m.\u001b[39mnext \u001b[39m=\u001b[39m n\n\u001b[0;32m      <a href='vscode-notebook-cell:/d%3A/Annur/Workshop/VS%20CODE/Python/BRACU_CSE/CSE220%20Fall%2723/Practice.ipynb#X26sZmlsZQ%3D%3D?line=8'>9</a>\u001b[0m     \u001b[39mreturn\u001b[39;00m head\n\u001b[1;32m---> <a href='vscode-notebook-cell:/d%3A/Annur/Workshop/VS%20CODE/Python/BRACU_CSE/CSE220%20Fall%2723/Practice.ipynb#X26sZmlsZQ%3D%3D?line=10'>11</a>\u001b[0m head \u001b[39m=\u001b[39m insertAtMiddle(head, \u001b[39m0\u001b[39;49m, \u001b[39m2\u001b[39;49m)\n\u001b[0;32m     <a href='vscode-notebook-cell:/d%3A/Annur/Workshop/VS%20CODE/Python/BRACU_CSE/CSE220%20Fall%2723/Practice.ipynb#X26sZmlsZQ%3D%3D?line=11'>12</a>\u001b[0m printLinkedList(head)    \n",
      "\u001b[1;32md:\\Annur\\Workshop\\VS CODE\\Python\\BRACU_CSE\\CSE220 Fall'23\\Practice.ipynb Cell 21\u001b[0m line \u001b[0;36m4\n\u001b[0;32m      <a href='vscode-notebook-cell:/d%3A/Annur/Workshop/VS%20CODE/Python/BRACU_CSE/CSE220%20Fall%2723/Practice.ipynb#X26sZmlsZQ%3D%3D?line=2'>3</a>\u001b[0m \u001b[39mdef\u001b[39;00m \u001b[39minsertAtMiddle\u001b[39m(head, num, index):\n\u001b[1;32m----> <a href='vscode-notebook-cell:/d%3A/Annur/Workshop/VS%20CODE/Python/BRACU_CSE/CSE220%20Fall%2723/Practice.ipynb#X26sZmlsZQ%3D%3D?line=3'>4</a>\u001b[0m     prev_node \u001b[39m=\u001b[39m getNode(head, index \u001b[39m-\u001b[39m \u001b[39m1\u001b[39m)\n\u001b[0;32m      <a href='vscode-notebook-cell:/d%3A/Annur/Workshop/VS%20CODE/Python/BRACU_CSE/CSE220%20Fall%2723/Practice.ipynb#X26sZmlsZQ%3D%3D?line=4'>5</a>\u001b[0m     last_node \u001b[39m=\u001b[39m getNode(head, index)\n\u001b[0;32m      <a href='vscode-notebook-cell:/d%3A/Annur/Workshop/VS%20CODE/Python/BRACU_CSE/CSE220%20Fall%2723/Practice.ipynb#X26sZmlsZQ%3D%3D?line=5'>6</a>\u001b[0m     n \u001b[39m=\u001b[39m Node(num, last_node)\n",
      "\u001b[1;31mNameError\u001b[0m: name 'getNode' is not defined"
     ]
    }
   ],
   "source": [
    "# Insert at Middle\n",
    "\n",
    "def insertAtMiddle(head, num, index):\n",
    "    prev_node = getNode(head, index - 1)\n",
    "    last_node = getNode(head, index)\n",
    "    n = Node(num, last_node)\n",
    "    prev_node.next = n\n",
    "    \n",
    "    return head\n",
    "\n",
    "head = insertAtMiddle(head, 0, 2)\n",
    "printLinkedList(head)    \n",
    "    "
   ]
  },
  {
   "cell_type": "code",
   "execution_count": 60,
   "metadata": {},
   "outputs": [
    {
     "name": "stdout",
     "output_type": "stream",
     "text": [
      "0 1 0 2 0 3 4 5 0 "
     ]
    }
   ],
   "source": [
    "# Insert at End\n",
    "\n",
    "def insertAtEnd(head, num):\n",
    "    last_node = getNode(head, getLength(head) - 1)\n",
    "    n = Node(num, None)\n",
    "    last_node.next = n\n",
    "\n",
    "    return head\n",
    "\n",
    "head = insertAtEnd(head, 0)\n",
    "printLinkedList(head)"
   ]
  },
  {
   "cell_type": "code",
   "execution_count": 23,
   "metadata": {},
   "outputs": [
    {
     "ename": "AttributeError",
     "evalue": "'NoneType' object has no attribute 'next'",
     "output_type": "error",
     "traceback": [
      "\u001b[1;31m---------------------------------------------------------------------------\u001b[0m",
      "\u001b[1;31mAttributeError\u001b[0m                            Traceback (most recent call last)",
      "\u001b[1;32md:\\Annur\\Workshop\\VS CODE\\Python\\BRACU_CSE\\CSE220 Fall'23\\Practice.ipynb Cell 23\u001b[0m line \u001b[0;36m1\n\u001b[0;32m     <a href='vscode-notebook-cell:/d%3A/Annur/Workshop/VS%20CODE/Python/BRACU_CSE/CSE220%20Fall%2723/Practice.ipynb#X31sZmlsZQ%3D%3D?line=11'>12</a>\u001b[0m     head \u001b[39m=\u001b[39m lastNode\n\u001b[0;32m     <a href='vscode-notebook-cell:/d%3A/Annur/Workshop/VS%20CODE/Python/BRACU_CSE/CSE220%20Fall%2723/Practice.ipynb#X31sZmlsZQ%3D%3D?line=12'>13</a>\u001b[0m     \u001b[39mreturn\u001b[39;00m head\n\u001b[1;32m---> <a href='vscode-notebook-cell:/d%3A/Annur/Workshop/VS%20CODE/Python/BRACU_CSE/CSE220%20Fall%2723/Practice.ipynb#X31sZmlsZQ%3D%3D?line=14'>15</a>\u001b[0m head \u001b[39m=\u001b[39m Rotate_Right(head)\n\u001b[0;32m     <a href='vscode-notebook-cell:/d%3A/Annur/Workshop/VS%20CODE/Python/BRACU_CSE/CSE220%20Fall%2723/Practice.ipynb#X31sZmlsZQ%3D%3D?line=15'>16</a>\u001b[0m printLinkedList(head)\n",
      "\u001b[1;32md:\\Annur\\Workshop\\VS CODE\\Python\\BRACU_CSE\\CSE220 Fall'23\\Practice.ipynb Cell 23\u001b[0m line \u001b[0;36m6\n\u001b[0;32m      <a href='vscode-notebook-cell:/d%3A/Annur/Workshop/VS%20CODE/Python/BRACU_CSE/CSE220%20Fall%2723/Practice.ipynb#X31sZmlsZQ%3D%3D?line=3'>4</a>\u001b[0m second_lastNode \u001b[39m=\u001b[39m head\n\u001b[0;32m      <a href='vscode-notebook-cell:/d%3A/Annur/Workshop/VS%20CODE/Python/BRACU_CSE/CSE220%20Fall%2723/Practice.ipynb#X31sZmlsZQ%3D%3D?line=4'>5</a>\u001b[0m lastNode \u001b[39m=\u001b[39m head\u001b[39m.\u001b[39mnext\n\u001b[1;32m----> <a href='vscode-notebook-cell:/d%3A/Annur/Workshop/VS%20CODE/Python/BRACU_CSE/CSE220%20Fall%2723/Practice.ipynb#X31sZmlsZQ%3D%3D?line=5'>6</a>\u001b[0m \u001b[39mwhile\u001b[39;00m lastNode\u001b[39m.\u001b[39;49mnext \u001b[39m!=\u001b[39m \u001b[39mNone\u001b[39;00m:\n\u001b[0;32m      <a href='vscode-notebook-cell:/d%3A/Annur/Workshop/VS%20CODE/Python/BRACU_CSE/CSE220%20Fall%2723/Practice.ipynb#X31sZmlsZQ%3D%3D?line=6'>7</a>\u001b[0m     lastNode \u001b[39m=\u001b[39m lastNode\u001b[39m.\u001b[39mnext\n\u001b[0;32m      <a href='vscode-notebook-cell:/d%3A/Annur/Workshop/VS%20CODE/Python/BRACU_CSE/CSE220%20Fall%2723/Practice.ipynb#X31sZmlsZQ%3D%3D?line=7'>8</a>\u001b[0m     second_lastNode \u001b[39m=\u001b[39m second_lastNode\u001b[39m.\u001b[39mnext\n",
      "\u001b[1;31mAttributeError\u001b[0m: 'NoneType' object has no attribute 'next'"
     ]
    }
   ],
   "source": [
    "# Rotating a Linked List - Right\n",
    "\n",
    "def Rotate_Right(head):\n",
    "    second_lastNode = head\n",
    "    lastNode = head.next\n",
    "    while lastNode.next != None:\n",
    "        lastNode = lastNode.next\n",
    "        second_lastNode = second_lastNode.next\n",
    "    \n",
    "    lastNode.next = head\n",
    "    second_lastNode.next = None\n",
    "    head = lastNode\n",
    "    return head\n",
    "\n",
    "head = Rotate_Right(head)\n",
    "printLinkedList(head)"
   ]
  },
  {
   "cell_type": "code",
   "execution_count": 24,
   "metadata": {},
   "outputs": [
    {
     "name": "stdout",
     "output_type": "stream",
     "text": [
      "1 "
     ]
    },
    {
     "ename": "AttributeError",
     "evalue": "'NoneType' object has no attribute 'next'",
     "output_type": "error",
     "traceback": [
      "\u001b[1;31m---------------------------------------------------------------------------\u001b[0m",
      "\u001b[1;31mAttributeError\u001b[0m                            Traceback (most recent call last)",
      "\u001b[1;32md:\\Annur\\Workshop\\VS CODE\\Python\\BRACU_CSE\\CSE220 Fall'23\\Practice.ipynb Cell 24\u001b[0m line \u001b[0;36m1\n\u001b[0;32m     <a href='vscode-notebook-cell:/d%3A/Annur/Workshop/VS%20CODE/Python/BRACU_CSE/CSE220%20Fall%2723/Practice.ipynb#X32sZmlsZQ%3D%3D?line=11'>12</a>\u001b[0m     \u001b[39mreturn\u001b[39;00m head\n\u001b[0;32m     <a href='vscode-notebook-cell:/d%3A/Annur/Workshop/VS%20CODE/Python/BRACU_CSE/CSE220%20Fall%2723/Practice.ipynb#X32sZmlsZQ%3D%3D?line=13'>14</a>\u001b[0m printLinkedList(head)\n\u001b[1;32m---> <a href='vscode-notebook-cell:/d%3A/Annur/Workshop/VS%20CODE/Python/BRACU_CSE/CSE220%20Fall%2723/Practice.ipynb#X32sZmlsZQ%3D%3D?line=14'>15</a>\u001b[0m head \u001b[39m=\u001b[39m Rotate_Left(head)\n\u001b[0;32m     <a href='vscode-notebook-cell:/d%3A/Annur/Workshop/VS%20CODE/Python/BRACU_CSE/CSE220%20Fall%2723/Practice.ipynb#X32sZmlsZQ%3D%3D?line=15'>16</a>\u001b[0m printLinkedList(head)\n",
      "\u001b[1;32md:\\Annur\\Workshop\\VS CODE\\Python\\BRACU_CSE\\CSE220 Fall'23\\Practice.ipynb Cell 24\u001b[0m line \u001b[0;36m6\n\u001b[0;32m      <a href='vscode-notebook-cell:/d%3A/Annur/Workshop/VS%20CODE/Python/BRACU_CSE/CSE220%20Fall%2723/Practice.ipynb#X32sZmlsZQ%3D%3D?line=3'>4</a>\u001b[0m second_Node \u001b[39m=\u001b[39m head\u001b[39m.\u001b[39mnext\n\u001b[0;32m      <a href='vscode-notebook-cell:/d%3A/Annur/Workshop/VS%20CODE/Python/BRACU_CSE/CSE220%20Fall%2723/Practice.ipynb#X32sZmlsZQ%3D%3D?line=4'>5</a>\u001b[0m lastNode \u001b[39m=\u001b[39m second_Node\n\u001b[1;32m----> <a href='vscode-notebook-cell:/d%3A/Annur/Workshop/VS%20CODE/Python/BRACU_CSE/CSE220%20Fall%2723/Practice.ipynb#X32sZmlsZQ%3D%3D?line=5'>6</a>\u001b[0m \u001b[39mwhile\u001b[39;00m lastNode\u001b[39m.\u001b[39;49mnext \u001b[39m!=\u001b[39m \u001b[39mNone\u001b[39;00m:\n\u001b[0;32m      <a href='vscode-notebook-cell:/d%3A/Annur/Workshop/VS%20CODE/Python/BRACU_CSE/CSE220%20Fall%2723/Practice.ipynb#X32sZmlsZQ%3D%3D?line=6'>7</a>\u001b[0m     lastNode \u001b[39m=\u001b[39m lastNode\u001b[39m.\u001b[39mnext\n\u001b[0;32m      <a href='vscode-notebook-cell:/d%3A/Annur/Workshop/VS%20CODE/Python/BRACU_CSE/CSE220%20Fall%2723/Practice.ipynb#X32sZmlsZQ%3D%3D?line=8'>9</a>\u001b[0m lastNode\u001b[39m.\u001b[39mnext \u001b[39m=\u001b[39m head\n",
      "\u001b[1;31mAttributeError\u001b[0m: 'NoneType' object has no attribute 'next'"
     ]
    }
   ],
   "source": [
    "# Rotating a Linked List - Left\n",
    "\n",
    "def Rotate_Left(head):\n",
    "    second_Node = head.next\n",
    "    lastNode = second_Node\n",
    "    while lastNode.next != None:\n",
    "        lastNode = lastNode.next\n",
    "\n",
    "    lastNode.next = head\n",
    "    head.next = None\n",
    "    head = second_Node\n",
    "    return head\n",
    "\n",
    "printLinkedList(head)\n",
    "head = Rotate_Left(head)\n",
    "printLinkedList(head)\n",
    "    \n"
   ]
  },
  {
   "cell_type": "code",
   "execution_count": 11,
   "metadata": {},
   "outputs": [
    {
     "name": "stdout",
     "output_type": "stream",
     "text": [
      "5 4 3 2 1 "
     ]
    }
   ],
   "source": [
    "#Reversing a List in Place \n",
    "\n",
    "def reverseLinkedList(head):\n",
    "    new_head = None\n",
    "    temp = head\n",
    "    while temp != None:\n",
    "        secondNode = temp.next\n",
    "        temp.next = new_head\n",
    "        new_head = temp\n",
    "        temp = secondNode\n",
    "\n",
    "    head = new_head\n",
    "    return head\n",
    "\n",
    "\n",
    "head = reverseLinkedList(head)\n",
    "printLinkedList(head)"
   ]
  }
 ],
 "metadata": {
  "kernelspec": {
   "display_name": "Python 3",
   "language": "python",
   "name": "python3"
  },
  "language_info": {
   "codemirror_mode": {
    "name": "ipython",
    "version": 3
   },
   "file_extension": ".py",
   "mimetype": "text/x-python",
   "name": "python",
   "nbconvert_exporter": "python",
   "pygments_lexer": "ipython3",
   "version": "0.0.0"
  },
  "orig_nbformat": 4
 },
 "nbformat": 4,
 "nbformat_minor": 2
}
