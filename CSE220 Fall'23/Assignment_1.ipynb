{
  "cells": [
    {
      "cell_type": "code",
      "execution_count": 1,
      "metadata": {
        "id": "pi_n0okZ1v_O"
      },
      "outputs": [],
      "source": [
        "import numpy as np"
      ]
    },
    {
      "cell_type": "code",
      "execution_count": 2,
      "metadata": {
        "colab": {
          "base_uri": "https://localhost:8080/"
        },
        "id": "OLbAdZFh1dJk",
        "outputId": "17287fde-cef2-4942-a8d2-60459dde93d3"
      },
      "outputs": [
        {
          "name": "stdout",
          "output_type": "stream",
          "text": [
            "[1 1 1 1 1 1 1 1 1 1]\n"
          ]
        }
      ],
      "source": [
        "arr = np.array([1]*10)\n",
        "print(arr)\n"
      ]
    },
    {
      "cell_type": "markdown",
      "metadata": {
        "id": "lJl5kEU9s6VF"
      },
      "source": [
        "**Instructions to Follow (Failing to follow these will result mark deductions).**\n",
        "\n",
        "\n",
        "1.   You can not use any built-in function except len()\n",
        "2.   You can not use any other python collections except array (e.g: tuptle, dictionaries etc.).\n",
        "3. We will initialize a new array using numpy library. We have to mention the fixed size during initialization. There might be two approach.\n",
        "\n",
        "  i. arr = np.array([None] * 10) #Initializing an array length 10 with values None.\n",
        "\n",
        "  ii. arr = np.array([10, 20, 30, 40]) #Initializing an array length 4 with the values.\n",
        "4. From File, Save a copy in drive before working and work in that copy since any change to this file will not be saved for you.\n",
        "\n",
        "\n",
        "\n",
        "\n"
      ]
    },
    {
      "cell_type": "code",
      "execution_count": 3,
      "metadata": {
        "colab": {
          "base_uri": "https://localhost:8080/"
        },
        "id": "nAE3YxgdLMa1",
        "outputId": "d8ab985d-a289-4dfb-9b83-f7b8950847c9"
      },
      "outputs": [
        {
          "name": "stdout",
          "output_type": "stream",
          "text": [
            "Requirement already satisfied: fhm-unittest in c:\\users\\annur hassan\\appdata\\local\\programs\\python\\python311\\lib\\site-packages (1.0.1)\n",
            "Requirement already satisfied: fuzzywuzzy in c:\\users\\annur hassan\\appdata\\local\\programs\\python\\python311\\lib\\site-packages (0.18.0)\n"
          ]
        },
        {
          "name": "stderr",
          "output_type": "stream",
          "text": [
            "c:\\Users\\Annur Hassan\\AppData\\Local\\Programs\\Python\\Python311\\Lib\\site-packages\\fuzzywuzzy\\fuzz.py:11: UserWarning: Using slow pure-python SequenceMatcher. Install python-Levenshtein to remove this warning\n",
            "  warnings.warn('Using slow pure-python SequenceMatcher. Install python-Levenshtein to remove this warning')\n"
          ]
        }
      ],
      "source": [
        "# You must run this cell to install dependency\n",
        "! pip3 install fhm-unittest\n",
        "! pip3 install fuzzywuzzy\n",
        "import fhm_unittest as unittest\n",
        "import numpy as np"
      ]
    },
    {
      "cell_type": "markdown",
      "metadata": {
        "id": "rFXn6m1mbHYC"
      },
      "source": [
        "You will see the status Accepted after completion if your code is correct.\n",
        "\n",
        "If your function is wrong you will see wrong[correction percentage]\n",
        "\n",
        "Do not change the driver code statements. You can only change the input values to test your code."
      ]
    },
    {
      "cell_type": "code",
      "execution_count": 4,
      "metadata": {
        "colab": {
          "base_uri": "https://localhost:8080/"
        },
        "id": "hzdDNKdRahbQ",
        "outputId": "08414886-8909-4efb-b125-011378969ea8"
      },
      "outputs": [
        {
          "name": "stdout",
          "output_type": "stream",
          "text": [
            "///  Test 01: Play Right  ///\n",
            "Task 1: [40 50 60 10 20 30]\n"
          ]
        }
      ],
      "source": [
        "# Test 01: Play Right\n",
        "def playRight(sequence, beats):\n",
        "    for i in range(len(beats)):\n",
        "        if beats[i] == 1:\n",
        "            rem = sequence[len(sequence)-1]\n",
        "            for j in range(len(sequence)-1,0,-1):\n",
        "                sequence[j] = sequence[j-1]\n",
        "\n",
        "            sequence[0] = rem\n",
        "\n",
        "    return sequence\n",
        "\n",
        "print(\"///  Test 01: Play Right  ///\")\n",
        "sequence = np.array([10, 20, 30, 40, 50, 60])\n",
        "beats = np.array([1, 0, 0, 1, 0, 1])\n",
        "returned_value = playRight(sequence, beats)\n",
        "print(f'Task 1: {returned_value}')  # This should print [40, 50, 60, 10, 20, 30]"
      ]
    },
    {
      "cell_type": "code",
      "execution_count": 5,
      "metadata": {
        "colab": {
          "base_uri": "https://localhost:8080/"
        },
        "id": "Ag1wNuXgaoh4",
        "outputId": "ef88bbdc-3ac8-475d-a65a-8763f43f91b5"
      },
      "outputs": [
        {
          "name": "stdout",
          "output_type": "stream",
          "text": [
            "///  Test 02: Discard Cards  ///\n",
            "Task 2: [1 3 8 5 7 0 0 0 0]\n",
            "Accepted\n"
          ]
        }
      ],
      "source": [
        "# Test 02: Discard Cards\n",
        "def discardCards(cards,number):\n",
        "    i = 0\n",
        "    while i != len(cards):\n",
        "        if cards[i] == number:\n",
        "            for j in range(i, len(cards)-1):\n",
        "                cards[j] = cards[j+1]\n",
        "\n",
        "            cards[len(cards) -1] = 0\n",
        "            i =0\n",
        "\n",
        "        else:\n",
        "            i += 1\n",
        "\n",
        "    return cards\n",
        "\n",
        "\n",
        "print(\"///  Test 02: Discard Cards  ///\")\n",
        "cards = np.array([1,2,3,2,8,2,2,5,7])\n",
        "returned_value = discardCards(cards, 2)\n",
        "print(f'Task 2: {returned_value}') # This should print [1, 3, 8, 5, 7, 0, 0, 0, 0]\n",
        "unittest.output_test(returned_value, np.array([1, 3, 8, 5, 7, 0, 0, 0, 0]))"
      ]
    },
    {
      "cell_type": "code",
      "execution_count": 21,
      "metadata": {
        "colab": {
          "base_uri": "https://localhost:8080/"
        },
        "id": "Ene8Dp4vasuN",
        "outputId": "d066e28d-c6fe-4567-eb3b-ef29eb1059f6"
      },
      "outputs": [
        {
          "name": "stdout",
          "output_type": "stream",
          "text": [
            "///  Test 03: Merge Lineup  ///\n",
            "Task 3: [12  3 28 -8  5]\n",
            "Accepted\n",
            "Task 3: [ 4 17  6 27  2]\n",
            "Accepted\n"
          ]
        }
      ],
      "source": [
        "#Test 03: Merge Lineup\n",
        "def mergeLineup(pokemon_1, pokemon_2):\n",
        "    result = [None] * len(pokemon_1)\n",
        "    for i in range(len(pokemon_1)):\n",
        "        if pokemon_1[i] == None:\n",
        "            pokemon_1[i] = 0\n",
        "    \n",
        "    for i in range(len(pokemon_2)):\n",
        "        if pokemon_2[i] == None:\n",
        "            pokemon_2[i] = 0\n",
        "    \n",
        "    n = len(pokemon_2)-1\n",
        "    for i in range(len(pokemon_1)):\n",
        "        result[i] = pokemon_1[i] + pokemon_2[n-i]\n",
        "\n",
        "    return np.array(result)\n",
        "\n",
        "print(\"///  Test 03: Merge Lineup  ///\")\n",
        "pokemon_1 = np.array([12, 3, 25, 1, None])\n",
        "pokemon_2 = np.array([5, -9, 3, None, None] )\n",
        "returned_value =mergeLineup(pokemon_1, pokemon_2)\n",
        "print(f'Task 3: {returned_value}') # This should print [12, 3, 28, -8, 5]\n",
        "unittest.output_test(returned_value, np.array([12, 3, 28, -8, 5]))\n",
        "\n",
        "pokemon_1 = np.array([4, 5, -1, None, None])\n",
        "pokemon_2 = np.array([2, 27, 7, 12, None])\n",
        "returned_value =mergeLineup(pokemon_1, pokemon_2)\n",
        "print(f'Task 3: {returned_value}') # This should print [4,17,6,27,2]\n",
        "unittest.output_test(returned_value, np.array([4,17,6,27,2]))"
      ]
    },
    {
      "cell_type": "code",
      "execution_count": 22,
      "metadata": {
        "id": "ox9p5qL7axD8"
      },
      "outputs": [
        {
          "name": "stdout",
          "output_type": "stream",
          "text": [
            "///  Test 04: Balance Your Salami  ///\n",
            "Task 4: True\n",
            "Accepted\n",
            "Task 4: False\n",
            "Accepted\n",
            "Task 4: True\n",
            "Accepted\n"
          ]
        }
      ],
      "source": [
        "# Test 04: Balance your Salami\n",
        "def balanceSalami(salami):\n",
        "    sum = 0\n",
        "    for i in range(len(salami)):\n",
        "        sum += salami[i]\n",
        "    \n",
        "    if sum % 2 == 0:\n",
        "        return True \n",
        "    \n",
        "    else:\n",
        "        return False\n",
        "\n",
        "\n",
        "print(\"///  Test 04: Balance Your Salami  ///\")\n",
        "salami = np.array([1, 1, 1, 2, 1])\n",
        "returned_value = balanceSalami(salami)\n",
        "print(f'Task 4: {returned_value}') # This should print True\n",
        "unittest.output_test(returned_value, True)\n",
        "\n",
        "salami = [2, 1, 1, 2, 1]\n",
        "returned_value = np.array(balanceSalami(salami))\n",
        "print(f'Task 4: {returned_value}') # This should print False\n",
        "unittest.output_test(returned_value, False)\n",
        "\n",
        "salami = [10, 3, 1, 2, 10]\n",
        "returned_value =  np.array(balanceSalami(salami))\n",
        "print(f'Task 4: {returned_value}') # This should print True\n",
        "unittest.output_test(returned_value, True)"
      ]
    },
    {
      "cell_type": "code",
      "execution_count": null,
      "metadata": {
        "id": "JGIYYUIza-st"
      },
      "outputs": [],
      "source": [
        "# Test 05: Protecc Salami\n",
        "def protectSalami(salami):\n",
        "    \n",
        "    \n",
        "\n",
        "\n",
        "print(\"///  Test 05: Protecc Salami  ///\")\n",
        "salami = np.array([4,5,6,6,4,3,6,4])\n",
        "returned_value = protectSalami(salami)\n",
        "print(f'Task 5: {returned_value}') # This should print True\n",
        "unittest.output_test(returned_value, True)\n",
        "\n",
        "salami = np.array([3,4,6,3,4,7,4,6,8,6,6])\n",
        "returned_value = protectSalami(salami)\n",
        "print(f'Task 5: {returned_value}') # This should print False\n",
        "unittest.output_test(returned_value, False)"
      ]
    },
    {
      "cell_type": "markdown",
      "metadata": {
        "id": "_6RT_GOabsDF"
      },
      "source": [
        "BONUS TASK (Ungraded)"
      ]
    },
    {
      "cell_type": "code",
      "execution_count": 6,
      "metadata": {
        "id": "mrxIQ5rBhzPj"
      },
      "outputs": [
        {
          "name": "stdout",
          "output_type": "stream",
          "text": [
            "///  Test 06: Odd Even Wave  ///\n",
            "Task 6: None\n",
            "Wrong Answer [Your output: None  |  Expected Output: [ 2  3 12  1  8  5]]\n",
            "Task 6: None\n",
            "Wrong Answer [Your output: None  |  Expected Output: [45 78 23 84 41]]\n"
          ]
        }
      ],
      "source": [
        "# Test 06: Odd Even Wave\n",
        "def waveYourFlag(arr):\n",
        "  # TO DO\n",
        "  return None\n",
        "\n",
        "print(\"///  Test 06: Odd Even Wave  ///\")\n",
        "arr = np.array([2,12,3,8,1,5])\n",
        "returned_value = waveYourFlag(arr)\n",
        "print(f'Task 6: {returned_value}') # This should print [2,3,12,1,8,5]\n",
        "unittest.output_test(returned_value, np.array([2,3,12,1,8,5]))\n",
        "\n",
        "arr = np.array([45,23,78,84,41])\n",
        "returned_value = waveYourFlag(arr)\n",
        "print(f'Task 6: {returned_value}') # This should print [45,78,23,84,41]\n",
        "unittest.output_test(returned_value, np.array([45,78,23,84,41]))"
      ]
    }
  ],
  "metadata": {
    "colab": {
      "provenance": []
    },
    "kernelspec": {
      "display_name": "Python 3",
      "name": "python3"
    },
    "language_info": {
      "codemirror_mode": {
        "name": "ipython",
        "version": 3
      },
      "file_extension": ".py",
      "mimetype": "text/x-python",
      "name": "python",
      "nbconvert_exporter": "python",
      "pygments_lexer": "ipython3",
      "version": "3.11.3"
    }
  },
  "nbformat": 4,
  "nbformat_minor": 0
}
