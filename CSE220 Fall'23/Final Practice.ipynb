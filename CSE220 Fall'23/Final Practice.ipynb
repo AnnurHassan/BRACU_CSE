{
 "cells": [
  {
   "cell_type": "code",
   "execution_count": 1,
   "metadata": {},
   "outputs": [
    {
     "name": "stdout",
     "output_type": "stream",
     "text": [
      "28\n"
     ]
    }
   ],
   "source": [
    "def recFunc(x):\n",
    "    if x<=2:\n",
    "        return 0\n",
    "    \n",
    "    return x+recFunc(x//2)\n",
    "\n",
    "print(recFunc(16))"
   ]
  },
  {
   "cell_type": "code",
   "execution_count": 14,
   "metadata": {},
   "outputs": [
    {
     "name": "stdout",
     "output_type": "stream",
     "text": [
      "True\n"
     ]
    }
   ],
   "source": [
    "def isPrime(n, i= 2):\n",
    "    if n < 2:\n",
    "        return False\n",
    "    \n",
    "    if n == 2:\n",
    "        return True\n",
    "    \n",
    "    if i >= n:\n",
    "        return True\n",
    "    \n",
    "    if n % i == 0:\n",
    "        return False\n",
    "    \n",
    "    return isPrime(n, i + 1)\n",
    "\n",
    "print(isPrime(7))"
   ]
  },
  {
   "cell_type": "code",
   "execution_count": 31,
   "metadata": {},
   "outputs": [],
   "source": [
    "def print_num(n, i=1):\n",
    "    if n == 0:\n",
    "        print(\"\")\n",
    "    \n",
    "    else:\n",
    "        print(i, end = \" \")\n",
    "        print_num(n-1, i + 1)"
   ]
  },
  {
   "cell_type": "code",
   "execution_count": 32,
   "metadata": {},
   "outputs": [
    {
     "name": "stdout",
     "output_type": "stream",
     "text": [
      "========1========\n",
      "1 \n",
      "1 2 \n",
      "1 2 3 \n",
      "1 2 3 4 \n",
      "1 2 3 4 5 \n",
      "========1========\n",
      "1 \n",
      "1 2 \n",
      "1 2 3 \n",
      "1 2 3 4 \n",
      "1 2 3 4 5 \n",
      "1 2 3 4 5 6 \n",
      "1 2 3 4 5 6 7 \n"
     ]
    }
   ],
   "source": [
    "def print_pattern(n):\n",
    "    if n == 0:\n",
    "        pass\n",
    "\n",
    "    else:\n",
    "        print_pattern(n-1)\n",
    "        print_num(n)\n",
    "        \n",
    "        \n",
    "\n",
    "print('========1========')\n",
    "n = 5\n",
    "print_pattern(n)\n",
    "print('========1========')\n",
    "n = 7\n",
    "print_pattern(n)"
   ]
  },
  {
   "cell_type": "code",
   "execution_count": 38,
   "metadata": {},
   "outputs": [],
   "source": [
    "# Binary Tree Class\n",
    "\n",
    "class BinaryTree:\n",
    "    def __init__(self, data):\n",
    "        self.elem = data\n",
    "        self.left = None\n",
    "        self.right = None\n",
    "\n",
    "def printTree_inorder(root):\n",
    "    if not(root):\n",
    "        return \n",
    "    \n",
    "    printTree_inorder(root.left)\n",
    "    print(root.elem, end = \" \")\n",
    "    printTree_inorder(root.right)\n",
    "\n",
    "def printTree_postorder(root):\n",
    "    if not(root):\n",
    "        return \n",
    "    \n",
    "    printTree_postorder(root.left)\n",
    "    printTree_postorder(root.right)\n",
    "    print(root.elem, end = \" \")\n",
    "\n",
    "def printTree_preorder(root):\n",
    "    if not(root):\n",
    "        return \n",
    "    \n",
    "    print(root.elem, end = \" \")\n",
    "    printTree_postorder(root.left)\n",
    "    printTree_postorder(root.right)\n",
    "\n",
    "\n",
    "def substract_summation(root):\n",
    "    left = sumSubTree(root.left)\n",
    "    right = sumSubTree(root.right)\n",
    "    diff = left - right\n",
    "    return diff\n",
    "\n",
    "def sumSubTree(root): \n",
    "    if not(root):\n",
    "        return 0\n",
    "    \n",
    "    sum = root.elem + sumSubTree(root.left) + sumSubTree(root.right)\n",
    "\n",
    "    return sum"
   ]
  },
  {
   "cell_type": "code",
   "execution_count": 39,
   "metadata": {},
   "outputs": [
    {
     "name": "stdout",
     "output_type": "stream",
     "text": [
      "111\n"
     ]
    }
   ],
   "source": [
    "root = BinaryTree(71)\n",
    "n1 = BinaryTree(27)\n",
    "n2 = BinaryTree(62)\n",
    "n3 = BinaryTree(80)\n",
    "n4 = BinaryTree(75)\n",
    "n5 = BinaryTree(41)\n",
    "n6 = BinaryTree(3)\n",
    "n7 = BinaryTree(87)\n",
    "n8 = BinaryTree(56)\n",
    "n9 = BinaryTree(19)\n",
    "n10 = BinaryTree(89)\n",
    "\n",
    "root.left = n1\n",
    "root.right = n2\n",
    "\n",
    "n1.left = n3\n",
    "n1.right = n4\n",
    "\n",
    "n1.left = n3\n",
    "n1.right = n4\n",
    "\n",
    "n3.left = n7\n",
    "n3.right = n8\n",
    "\n",
    "n2.left = n5\n",
    "n2.right = n6\n",
    "\n",
    "n6.left = n9\n",
    "n6.right = n10\n",
    "\n",
    "print(substract_summation(root))"
   ]
  },
  {
   "cell_type": "code",
   "execution_count": null,
   "metadata": {},
   "outputs": [],
   "source": [
    "class Node_pair:\n",
    "    def __init__(self, key, value, next=None):\n",
    "        self.key, self.value, self.next = key, value, next\n",
    "\n",
    "def remove(ht, key):\n",
    "    index = (key**2) % 6\n",
    "    node = ht[index]\n",
    "    while node != None:\n",
    "        if node.key == key:\n",
    "            temp.next = node.next\n",
    "            return node\n",
    "        \n",
    "        temp = node\n",
    "        node = node.next\n",
    "    "
   ]
  },
  {
   "cell_type": "code",
   "execution_count": 35,
   "metadata": {},
   "outputs": [
    {
     "name": "stdout",
     "output_type": "stream",
     "text": [
      "15 18 28 -1 16 3 6 23 -2 -6 "
     ]
    }
   ],
   "source": [
    "class BTNode:\n",
    "  def __init__(self, elem):\n",
    "    self.elem = elem\n",
    "    self.right = None\n",
    "    self.left = None\n",
    "\n",
    "\n",
    "def inorder(root):\n",
    "  if root == None:\n",
    "    return\n",
    "\n",
    "  print(root.elem, end = ' ')\n",
    "  inorder(root.left)\n",
    "  inorder(root.right)\n",
    "\n",
    "  \n",
    "def tree_construction(arr, i = 1):\n",
    "  if i>=len(arr) or arr[i] == None:\n",
    "    return None\n",
    "  p = BTNode(arr[i])\n",
    "  p.left = tree_construction(arr, 2*i)\n",
    "  p.right = tree_construction(arr, 2*i+1)\n",
    "  return p\n",
    "\n",
    "\n",
    "root2 = tree_construction([None, 15, 18, 6, 28, 16, None, 23, None, -1, None, 3, None, None, -2, -6])\n",
    "inorder(root2)"
   ]
  },
  {
   "cell_type": "code",
   "execution_count": null,
   "metadata": {},
   "outputs": [],
   "source": [
    "def substract_summation(root):\n",
    "    left = sumSubTree(root.left)\n",
    "    right = sumSubTree(root.right)\n",
    "    diff = right - left\n",
    "    return diff\n",
    "\n",
    "def sumSubTree(root): \n",
    "    if not(root):\n",
    "        return 0\n",
    "    \n",
    "    sum = root.elem + sumSubTree(root.left) + sumSubTree(root.right)\n",
    "\n",
    "    return sum"
   ]
  }
 ],
 "metadata": {
  "kernelspec": {
   "display_name": "Python 3",
   "language": "python",
   "name": "python3"
  },
  "language_info": {
   "codemirror_mode": {
    "name": "ipython",
    "version": 3
   },
   "file_extension": ".py",
   "mimetype": "text/x-python",
   "name": "python",
   "nbconvert_exporter": "python",
   "pygments_lexer": "ipython3",
   "version": "3.11.3"
  }
 },
 "nbformat": 4,
 "nbformat_minor": 2
}
