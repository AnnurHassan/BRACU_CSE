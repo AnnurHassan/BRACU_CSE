{
 "cells": [
  {
   "cell_type": "markdown",
   "metadata": {},
   "source": [
    "# Quiz 1 Fall'23 (NAD)\n"
   ]
  },
  {
   "cell_type": "code",
   "execution_count": 1,
   "metadata": {},
   "outputs": [
    {
     "name": "stdout",
     "output_type": "stream",
     "text": [
      "100\n"
     ]
    }
   ],
   "source": [
    "# 1\n",
    "\n",
    "def dotProduct(arr1, arr2):\n",
    "    sum = 0\n",
    "    for i in range(len(arr1)):\n",
    "        sum += arr1[i] * arr2[i]\n",
    "    \n",
    "    return sum\n",
    "\n",
    "arr1 = [1, 3, 5, 7]\n",
    "arr2 = [2, 4, 6, 8]\n",
    "dotproduct = dotProduct(arr1, arr2)\n",
    "print(dotproduct)"
   ]
  },
  {
   "cell_type": "code",
   "execution_count": 3,
   "metadata": {},
   "outputs": [
    {
     "name": "stdout",
     "output_type": "stream",
     "text": [
      "[[1 4 7]\n",
      " [2 5 8]\n",
      " [3 6 9]]\n"
     ]
    }
   ],
   "source": [
    "#2 \n",
    "import numpy as np\n",
    "\n",
    "\n",
    "def transpose(arr):\n",
    "    row, col = arr.shape\n",
    "    new_arr = np.zeros((col, row), dtype = int)\n",
    "    for i in range(row):\n",
    "        for j in range(col):\n",
    "            new_arr[j][i] = arr[i][j]\n",
    "\n",
    "    return new_arr\n",
    "\n",
    "arr = np.array([[1, 2, 3],\n",
    "                [4, 5, 6],\n",
    "                [7, 8, 9]])\n",
    "newarr = transpose(arr)\n",
    "print(newarr)"
   ]
  },
  {
   "cell_type": "markdown",
   "metadata": {},
   "source": [
    "# Quiz 2 Fall'23 (NAD)"
   ]
  },
  {
   "cell_type": "code",
   "execution_count": 13,
   "metadata": {},
   "outputs": [],
   "source": [
    "#Run this cell\n",
    "class Node:\n",
    "  def __init__(self,elem,next = None):\n",
    "    self.elem,self.next = elem,next\n",
    "\n",
    "\n",
    "def createList(arr):\n",
    "  head = Node(arr[0])\n",
    "  tail = head\n",
    "  for i in range(1,len(arr)):\n",
    "    newNode = Node(arr[i])\n",
    "    tail.next = newNode\n",
    "    tail = newNode\n",
    "  return head\n",
    "\n",
    "\n",
    "def printLinkedList(head):\n",
    "  temp = head\n",
    "  while temp != None:\n",
    "    if temp.next != None:\n",
    "      print(temp.elem, end = '-->')\n",
    "    else:\n",
    "      print(temp.elem)\n",
    "    temp = temp.next\n",
    "  print()\n"
   ]
  },
  {
   "cell_type": "code",
   "execution_count": 4,
   "metadata": {},
   "outputs": [
    {
     "name": "stdout",
     "output_type": "stream",
     "text": [
      "Original Linked List:  1-->5-->10-->6-->3-->4\n",
      "\n",
      "Even Linked List:  10-->6-->4-->None\n",
      "\n",
      "Odd Linked List:  1-->5-->3-->None\n",
      "\n"
     ]
    }
   ],
   "source": [
    "def seperate(head):\n",
    "    eh = Node(None, None)\n",
    "    oh = Node(None, None)\n",
    "    temp = head\n",
    "    e_temp = eh\n",
    "    o_temp = oh\n",
    "    while temp != None:\n",
    "        if temp.elem % 2 == 0:\n",
    "            e_temp.elem = temp.elem\n",
    "            e_temp.next = Node(None, None)\n",
    "            e_temp = e_temp.next\n",
    "        \n",
    "        else:\n",
    "            o_temp.elem = temp.elem\n",
    "            o_temp.next = Node(None, None)\n",
    "            o_temp = o_temp.next\n",
    "\n",
    "        temp = temp.next\n",
    "\n",
    "    return eh, oh\n",
    "\n",
    "arr = [1, 5, 10, 6, 3, 4]\n",
    "head = createList(arr)\n",
    "print(\"Original Linked List: \", end = \" \")\n",
    "printLinkedList(head)\n",
    "\n",
    "even, odd = seperate(head)\n",
    "print(\"Even Linked List: \", end = \" \")\n",
    "printLinkedList(even)\n",
    "print(\"Odd Linked List: \", end = \" \")\n",
    "printLinkedList(odd)\n",
    "\n"
   ]
  },
  {
   "cell_type": "code",
   "execution_count": 6,
   "metadata": {},
   "outputs": [],
   "source": [
    "import numpy as np"
   ]
  },
  {
   "cell_type": "code",
   "execution_count": 12,
   "metadata": {},
   "outputs": [
    {
     "name": "stdout",
     "output_type": "stream",
     "text": [
      "============Test 1==============\n",
      "[7 12 1 2 3 5 None]\n",
      "[7 1 2 3 5 None None]\n",
      "============Test 2==============\n",
      "[1 3 75 35 30 4 None]\n",
      "[1 3 75 35 4 None None]\n"
     ]
    }
   ],
   "source": [
    "# Question 1\n",
    "\n",
    "def removeElement(arr, size, idx):\n",
    "    for i in range(len(arr)):\n",
    "        if i == idx:\n",
    "            arr[i] == None\n",
    "            rightShift(i, arr)\n",
    "\n",
    "\n",
    "def rightShift(start, arr):\n",
    "    for j in range(start, len(arr) - 1):\n",
    "        rem = arr[j + 1]\n",
    "        arr[j] = arr[j + 1]\n",
    "        arr[j + 1] = rem\n",
    "\n",
    "\n",
    "print(\"============Test 1==============\")\n",
    "arr = np.array([7, 12, 1, 2, 3, 5, None])\n",
    "print(arr)\n",
    "removeElement(arr, 6, 1)\n",
    "print(arr)\n",
    "print(\"============Test 2==============\")\n",
    "arr = np.array([1, 3, 75, 35, 30, 4, None])\n",
    "print(arr)\n",
    "removeElement(arr, 7, 4)\n",
    "print(arr)\n"
   ]
  },
  {
   "cell_type": "code",
   "execution_count": 20,
   "metadata": {},
   "outputs": [],
   "source": [
    "#Run this Cell\n",
    "class Node:\n",
    "    def __init__(self, e, n = None):\n",
    "        self.elem = e\n",
    "        self.next = n\n",
    "\n",
    "def createList(arr):\n",
    "  head = Node(arr[0])\n",
    "  tail = head\n",
    "  for i in range(1,len(arr)):\n",
    "    newNode = Node(arr[i])\n",
    "    tail.next = newNode\n",
    "    tail = newNode\n",
    "  return head\n",
    "\n",
    "\n",
    "def printLinkedList(head):\n",
    "  temp = head\n",
    "  while temp != None:\n",
    "    if temp.next != None:\n",
    "      print(temp.elem, end = '-->')\n",
    "    else:\n",
    "      print(temp.elem)\n",
    "    temp = temp.next\n",
    "  print()"
   ]
  },
  {
   "cell_type": "code",
   "execution_count": 23,
   "metadata": {},
   "outputs": [
    {
     "name": "stdout",
     "output_type": "stream",
     "text": [
      "Original Linked List:  2-->6-->4-->8\n",
      "\n",
      "Modified Linked List:  3-->7-->5-->9\n",
      "\n"
     ]
    }
   ],
   "source": [
    "# Question 2\n",
    "\n",
    "def increaes(head):\n",
    "    temp = head\n",
    "    while temp != None:\n",
    "        temp.elem = temp.elem + 1\n",
    "        temp = temp.next\n",
    "\n",
    "    return head\n",
    "\n",
    "arr = [2, 6, 4, 8]\n",
    "head = createList(arr)\n",
    "print(\"Original Linked List: \", end = \" \")\n",
    "printLinkedList(head)\n",
    "increaes(head)\n",
    "print(\"Modified Linked List: \", end = \" \")\n",
    "printLinkedList(head)"
   ]
  }
 ],
 "metadata": {
  "kernelspec": {
   "display_name": "Python 3",
   "language": "python",
   "name": "python3"
  },
  "language_info": {
   "codemirror_mode": {
    "name": "ipython",
    "version": 3
   },
   "file_extension": ".py",
   "mimetype": "text/x-python",
   "name": "python",
   "nbconvert_exporter": "python",
   "pygments_lexer": "ipython3",
   "version": "3.11.3"
  }
 },
 "nbformat": 4,
 "nbformat_minor": 2
}
