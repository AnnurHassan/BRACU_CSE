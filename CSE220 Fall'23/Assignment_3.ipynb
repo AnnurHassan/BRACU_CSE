{
  "cells": [
    {
      "cell_type": "markdown",
      "metadata": {
        "id": "4dh9jPf4b6LZ"
      },
      "source": [
        "\n",
        "\n",
        "1.   Be careful in which question you are required to change the given Linked list and where you are required to create a new one\n",
        "2.   Be careful of the first node and the last node [aka corner cases]\n",
        "3.   Do not use any other data structure other than Linked List\n",
        "\n"
      ]
    },
    {
      "cell_type": "markdown",
      "metadata": {
        "id": "NiUM_IVAgFmb"
      },
      "source": [
        "***You must run this cell to install dependency***"
      ]
    },
    {
      "cell_type": "code",
      "execution_count": 3,
      "metadata": {
        "colab": {
          "base_uri": "https://localhost:8080/"
        },
        "id": "zES7ud9gf695",
        "outputId": "ae71c4d3-dac9-4d2d-d2c0-b7c1f87d0e16"
      },
      "outputs": [
        {
          "name": "stdout",
          "output_type": "stream",
          "text": [
            "Requirement already satisfied: fhm-unittest in c:\\users\\annur hassan\\appdata\\local\\programs\\python\\python311\\lib\\site-packages (1.0.1)\n"
          ]
        },
        {
          "name": "stderr",
          "output_type": "stream",
          "text": [
            "\n",
            "[notice] A new release of pip is available: 23.3 -> 23.3.1\n",
            "[notice] To update, run: python.exe -m pip install --upgrade pip\n"
          ]
        },
        {
          "name": "stdout",
          "output_type": "stream",
          "text": [
            "Requirement already satisfied: fuzzywuzzy in c:\\users\\annur hassan\\appdata\\local\\programs\\python\\python311\\lib\\site-packages (0.18.0)\n"
          ]
        },
        {
          "name": "stderr",
          "output_type": "stream",
          "text": [
            "\n",
            "[notice] A new release of pip is available: 23.3 -> 23.3.1\n",
            "[notice] To update, run: python.exe -m pip install --upgrade pip\n"
          ]
        }
      ],
      "source": [
        "# You must run this cell to install dependency\n",
        "! pip3 install fhm-unittest\n",
        "! pip3 install fuzzywuzzy\n",
        "import fhm_unittest as unittest\n",
        "import numpy as np"
      ]
    },
    {
      "cell_type": "markdown",
      "metadata": {
        "id": "fdEbakalfuRC"
      },
      "source": [
        " ***You must Run this cell for your driver code to execute successfully***"
      ]
    },
    {
      "cell_type": "code",
      "execution_count": 4,
      "metadata": {
        "id": "mxEckgR4fqt8"
      },
      "outputs": [],
      "source": [
        "#Run this cell\n",
        "class Node:\n",
        "  def __init__(self,elem,next = None):\n",
        "    self.elem,self.next = elem,next\n",
        "\n",
        "\n",
        "def createList(arr):\n",
        "  head = Node(arr[0])\n",
        "  tail = head\n",
        "  for i in range(1,len(arr)):\n",
        "    newNode = Node(arr[i])\n",
        "    tail.next = newNode\n",
        "    tail = newNode\n",
        "  return head\n",
        "\n",
        "\n",
        "def printLinkedList(head):\n",
        "  temp = head\n",
        "  while temp != None:\n",
        "    if temp.next != None:\n",
        "      print(temp.elem, end = '-->')\n",
        "    else:\n",
        "      print(temp.elem)\n",
        "    temp = temp.next\n",
        "  print()\n"
      ]
    },
    {
      "cell_type": "markdown",
      "metadata": {
        "id": "Clj0DClwgJZK"
      },
      "source": [
        "Number Beads"
      ]
    },
    {
      "cell_type": "code",
      "execution_count": 6,
      "metadata": {
        "colab": {
          "base_uri": "https://localhost:8080/"
        },
        "id": "H4BQrUJn9XLs",
        "outputId": "6e207b1d-4b1b-429f-da5a-b54a40f68f17"
      },
      "outputs": [
        {
          "name": "stdout",
          "output_type": "stream",
          "text": [
            "==============Test Case 1=============\n",
            "Rearranged Necklace:  13-->10-->6-->20-->17\n",
            "\n",
            "Rotated: 3 times\n",
            "Accepted\n",
            "\n",
            "==============Test Case 2=============\n",
            "Rearranged Necklace:  6-->20-->17-->13-->10\n",
            "\n",
            "Rotated: 1 times\n",
            "Accepted\n",
            "\n",
            "==============Test Case 3=============\n",
            "Rearranged Necklace:  20-->17-->13-->10-->6\n",
            "\n",
            "Rotated: 0 times\n",
            "Accepted\n",
            "\n"
          ]
        }
      ],
      "source": [
        "def rotation_times(head):\n",
        "    temp = head\n",
        "    count = 1\n",
        "    while temp.next != None:\n",
        "        if temp.elem > temp.next.elem:\n",
        "            count += 1\n",
        "\n",
        "        else:\n",
        "            return count\n",
        "\n",
        "        temp = temp.next\n",
        "\n",
        "    return 0\n",
        "\n",
        "\n",
        "print('==============Test Case 1=============')\n",
        "head = createList(np.array([13,10,6,20,17]))\n",
        "print('Rearranged Necklace: ', end = ' ')\n",
        "printLinkedList(head)\n",
        "returned_value = rotation_times(head)\n",
        "print(f'Rotated: {returned_value} times') #This should print 3\n",
        "unittest.output_test(returned_value, 3)\n",
        "print()\n",
        "\n",
        "print('==============Test Case 2=============')\n",
        "head = createList(np.array([6,20,17,13,10]))\n",
        "print('Rearranged Necklace: ', end = ' ')\n",
        "printLinkedList(head)\n",
        "returned_value = rotation_times(head)\n",
        "print(f'Rotated: {returned_value} times') #This should print 1\n",
        "unittest.output_test(returned_value, 1)\n",
        "print()\n",
        "\n",
        "print('==============Test Case 3=============')\n",
        "head = createList(np.array([20,17,13,10,6]))\n",
        "print('Rearranged Necklace: ', end = ' ')\n",
        "printLinkedList(head)\n",
        "returned_value = rotation_times(head)\n",
        "print(f'Rotated: {returned_value} times') #This should print 0\n",
        "unittest.output_test(returned_value, 0)\n",
        "print()"
      ]
    },
    {
      "cell_type": "markdown",
      "metadata": {
        "id": "V9rtJF9VPAtd"
      },
      "source": [
        "Building Blocks"
      ]
    },
    {
      "cell_type": "code",
      "execution_count": 4,
      "metadata": {
        "id": "yFI3FnXaakzL"
      },
      "outputs": [
        {
          "name": "stdout",
          "output_type": "stream",
          "text": [
            "==============Test Case 1=============\n",
            "Building 1:  Red-->Green-->Yellow-->Red-->Blue-->Green\n",
            "\n",
            "Building 2:  Red-->Green-->Yellow-->Red-->Blue-->Green\n",
            "\n",
            "Similar\n",
            "Accepted\n",
            "\n",
            "==============Test Case 2=============\n",
            "Building 1:  Red-->Green-->Yellow-->Red-->Yellow-->Green\n",
            "\n",
            "Building 2:  Red-->Green-->Yellow-->Red-->Blue-->Green\n",
            "\n",
            "Not Similar\n",
            "Accepted\n",
            "\n",
            "==============Test Case 3=============\n",
            "Building 1:  Red-->Green-->Yellow-->Red-->Blue-->Green\n",
            "\n",
            "Building 2:  Red-->Green-->Yellow-->Red-->Blue-->Green-->Blue\n",
            "\n",
            "Not Similar\n",
            "Accepted\n",
            "\n",
            "==============Test Case 4=============\n",
            "Building 1:  Red-->Green-->Yellow-->Red-->Blue-->Green-->Blue\n",
            "\n",
            "Building 2:  Red-->Green-->Yellow-->Red-->Blue-->Green\n",
            "\n",
            "Not Similar\n",
            "Accepted\n",
            "\n"
          ]
        }
      ],
      "source": [
        "def check_similar(building_1, building_2):\n",
        "    building_1_length = getLength(building_1)\n",
        "    building_2_length = getLength(building_2)\n",
        "    if building_1_length == building_2_length:\n",
        "        b1 = building_1\n",
        "        b2 = building_2\n",
        "        while b1.next != None:\n",
        "            if b1.elem == b2.elem :\n",
        "                flag = True\n",
        "\n",
        "            else:\n",
        "                flag = False\n",
        "                break\n",
        "\n",
        "            b1 = b1.next\n",
        "            b2 = b2.next\n",
        "    \n",
        "        if flag:\n",
        "            return \"Similar\"\n",
        "\n",
        "        else:\n",
        "            return \"Not Similar\"\n",
        "    \n",
        "    else:\n",
        "        return \"Not Similar\"\n",
        "\n",
        "\n",
        "def getLength(head):\n",
        "    temp = head\n",
        "    count = 0\n",
        "    while temp.next != None:\n",
        "        count += 1\n",
        "        temp = temp.next\n",
        "    \n",
        "    return count\n",
        "\n",
        "\n",
        "print('==============Test Case 1=============')\n",
        "building_1 = createList(np.array(['Red', 'Green', 'Yellow', 'Red', 'Blue', 'Green']))\n",
        "building_2 = createList(np.array(['Red', 'Green', 'Yellow', 'Red', 'Blue', 'Green']))\n",
        "print('Building 1: ', end = ' ')\n",
        "printLinkedList(building_1)\n",
        "print('Building 2: ', end = ' ')\n",
        "printLinkedList(building_2)\n",
        "returned_value = check_similar(building_1, building_2)\n",
        "print(returned_value) #This should print 'Similar'\n",
        "unittest.output_test(returned_value, 'Similar')\n",
        "print()\n",
        "\n",
        "\n",
        "print('==============Test Case 2=============')\n",
        "building_1 = createList(np.array(['Red', 'Green', 'Yellow', 'Red', 'Yellow', 'Green']))\n",
        "building_2 = createList(np.array(['Red', 'Green', 'Yellow', 'Red', 'Blue', 'Green']))\n",
        "print('Building 1: ', end = ' ')\n",
        "printLinkedList(building_1)\n",
        "print('Building 2: ', end = ' ')\n",
        "printLinkedList(building_2)\n",
        "returned_value = check_similar(building_1, building_2)\n",
        "print(returned_value) #This should print 'Not Similar'\n",
        "unittest.output_test(returned_value, 'Not Similar')\n",
        "print()\n",
        "\n",
        "\n",
        "print('==============Test Case 3=============')\n",
        "building_1 = createList(np.array(['Red', 'Green', 'Yellow', 'Red', 'Blue', 'Green']))\n",
        "building_2 = createList(np.array(['Red', 'Green', 'Yellow', 'Red', 'Blue', 'Green', 'Blue']))\n",
        "print('Building 1: ', end = ' ')\n",
        "printLinkedList(building_1)\n",
        "print('Building 2: ', end = ' ')\n",
        "printLinkedList(building_2)\n",
        "returned_value = check_similar(building_1, building_2)\n",
        "print(returned_value) #This should print 'Not Similar'\n",
        "unittest.output_test(returned_value, 'Not Similar')\n",
        "print()\n",
        "\n",
        "\n",
        "print('==============Test Case 4=============')\n",
        "building_1 = createList(np.array(['Red', 'Green', 'Yellow', 'Red', 'Blue', 'Green', 'Blue']))\n",
        "building_2 = createList(np.array(['Red', 'Green', 'Yellow', 'Red', 'Blue', 'Green']))\n",
        "print('Building 1: ', end = ' ')\n",
        "printLinkedList(building_1)\n",
        "print('Building 2: ', end = ' ')\n",
        "printLinkedList(building_2)\n",
        "returned_value = check_similar(building_1, building_2)\n",
        "print(returned_value) #This should print 'Not Similar'\n",
        "unittest.output_test(returned_value, 'Not Similar')\n",
        "print()"
      ]
    },
    {
      "cell_type": "markdown",
      "metadata": {
        "id": "gG7Hh24oavZ5"
      },
      "source": [
        "Remove Compartment"
      ]
    },
    {
      "cell_type": "code",
      "execution_count": 8,
      "metadata": {
        "id": "xttcJVbJ9id1"
      },
      "outputs": [
        {
          "name": "stdout",
          "output_type": "stream",
          "text": [
            "==============Test Case 1=============\n",
            "Original Compartment Sequence:  14-->10-->15-->10-->41-->10-->72\n",
            "\n",
            "Changed Compartment Sequence:  14-->10-->15-->10-->41-->72\n",
            "\n",
            "\n",
            "==============Test Case 2=============\n",
            "Original Compartment Sequence:  10-->15-->33-->41-->14-->72\n",
            "\n",
            "Changed Compartment Sequence:  15-->33-->41-->14-->72\n",
            "\n",
            "\n",
            "==============Test Case 3=============\n",
            "Original Compartment Sequence:  10-->15-->33-->41-->14-->72\n",
            "\n",
            "Changed Compartment Sequence:  10-->15-->33-->41-->14-->72\n",
            "\n",
            "\n"
          ]
        }
      ],
      "source": [
        "def remove_compartment(head, n):\n",
        "    no_of_occ = getNo(head, n)\n",
        "    if no_of_occ == 0:\n",
        "        return head     \n",
        "    \n",
        "    else:\n",
        "        temp = head\n",
        "        last_node = head\n",
        "        count = 0\n",
        "        while temp.next != None:\n",
        "            if temp.elem == n:\n",
        "                count += 1\n",
        "            \n",
        "            if count == no_of_occ:\n",
        "                if count == 1:\n",
        "                    head = head.next\n",
        "                    break\n",
        "                \n",
        "                else:\n",
        "                    last_node.next = temp.next\n",
        "\n",
        "            last_node = temp\n",
        "            temp = temp.next\n",
        "\n",
        "        return head\n",
        "\n",
        "\n",
        "def getNo(head, n):\n",
        "    temp = head\n",
        "    count = 0\n",
        "    while temp.next != None:\n",
        "        if temp.elem == n:\n",
        "            count += 1\n",
        "            \n",
        "        temp = temp.next\n",
        "\n",
        "    return count\n",
        "\n",
        "\n",
        "print(\"==============Test Case 1=============\")\n",
        "head = createList(np.array([14, 10, 15, 10, 41, 10, 72]))\n",
        "number = 10\n",
        "print(\"Original Compartment Sequence: \", end=\" \")\n",
        "printLinkedList(head)\n",
        "head = remove_compartment(head, number)\n",
        "print(\"Changed Compartment Sequence: \", end=\" \")\n",
        "printLinkedList(head)  # This should print 14-->10-->15-->10-->41-->72\n",
        "print()\n",
        "\n",
        "print(\"==============Test Case 2=============\")\n",
        "head = createList(np.array([10, 15, 33, 41, 14, 72]))\n",
        "number = 10\n",
        "print(\"Original Compartment Sequence: \", end=\" \")\n",
        "printLinkedList(head)\n",
        "head = remove_compartment(head, number)\n",
        "print(\"Changed Compartment Sequence: \", end=\" \")\n",
        "printLinkedList(head)  # This should print 15-->33-->41-->14-->72\n",
        "print()\n",
        "\n",
        "print(\"==============Test Case 3=============\")\n",
        "head = createList(np.array([10, 15, 33, 41, 14, 72]))\n",
        "number = 56\n",
        "print(\"Original Compartment Sequence: \", end=\" \")\n",
        "printLinkedList(head)\n",
        "head = remove_compartment(head, number)\n",
        "print(\"Changed Compartment Sequence: \", end=\" \")\n",
        "printLinkedList(head)  # This should print 10-->15-->33-->41-->14-->72\n",
        "print()"
      ]
    },
    {
      "cell_type": "markdown",
      "metadata": {
        "id": "M1JR_lLca9Gk"
      },
      "source": [
        "Capture the Flag"
      ]
    },
    {
      "cell_type": "code",
      "execution_count": 6,
      "metadata": {
        "id": "F7neaJpOa9oR"
      },
      "outputs": [
        {
          "name": "stdout",
          "output_type": "stream",
          "text": [
            "==============Test Case 1=============\n",
            "Original Sequence:  11-->8-->21-->20-->5-->42\n",
            "\n",
            "The flag is:  11-->4-->7-->5-->1-->7\n",
            "\n",
            "\n",
            "==============Test Case 2=============\n",
            "Original Sequence:  11-->8-->28-->20-->5-->42\n",
            "\n",
            "The flag is:  Linkwise\n",
            "\n"
          ]
        }
      ],
      "source": [
        "def capture_the_flag(head):\n",
        "    temp = head\n",
        "    count = 1\n",
        "    while temp != None:\n",
        "        if temp.elem % count == 0:\n",
        "            temp.elem = temp.elem // count\n",
        "        \n",
        "        else:\n",
        "            return \"Linkwise\"\n",
        "        \n",
        "        temp = temp.next\n",
        "        count += 1\n",
        "    \n",
        "    return head\n",
        "\n",
        "\n",
        "print(\"==============Test Case 1=============\")\n",
        "head = createList(np.array([11, 8, 21, 20, 5, 42]))\n",
        "print(\"Original Sequence: \", end=\" \")\n",
        "printLinkedList(head)\n",
        "new_head = capture_the_flag(head)\n",
        "print(\"The flag is: \", end=\" \")\n",
        "if type(new_head) == str:\n",
        "    print(new_head)\n",
        "else:\n",
        "    printLinkedList(new_head)  # This should print 11→4→7→5→1→7\n",
        "print()\n",
        "\n",
        "print(\"==============Test Case 2=============\")\n",
        "head = createList(np.array([11, 8, 28, 20, 5, 42]))\n",
        "print(\"Original Sequence: \", end=\" \")\n",
        "printLinkedList(head)\n",
        "new_head = capture_the_flag(head)\n",
        "print(\"The flag is: \", end=\" \")\n",
        "if type(new_head) == str:\n",
        "    print(new_head)  # This should print Linkwise\n",
        "else:\n",
        "    printLinkedList(new_head)\n",
        "print()"
      ]
    },
    {
      "cell_type": "markdown",
      "metadata": {
        "id": "hiH6KfWC8p9E"
      },
      "source": [
        "Shuffle on song"
      ]
    },
    {
      "cell_type": "code",
      "execution_count": 7,
      "metadata": {
        "id": "-AQh4Ka1PGQ4"
      },
      "outputs": [
        {
          "name": "stdout",
          "output_type": "stream",
          "text": [
            "==============Test Case 1=============\n",
            "Original Play List:  S-->E-->N-->P-->A-->I\n",
            "\n",
            "New Play List:  N-->P-->S-->E-->A-->I-->None\n",
            "\n",
            "\n",
            "==============Test Case 2=============\n",
            "Original Play List:  N-->I-->S-->H-->I-->N-->O-->Y-->A\n",
            "\n",
            "New Play List:  N-->H-->N-->I-->S-->I-->O-->Y-->A-->None\n",
            "\n",
            "\n"
          ]
        }
      ],
      "source": [
        "def shuffle_on_song(head):\n",
        "    new_head = Node(None, None)\n",
        "    new_tail = new_head\n",
        "    for i in range(1,3):\n",
        "        temp = head\n",
        "        if i == 1:\n",
        "            while temp != None:\n",
        "                if ord(temp.elem) % 2 == 0:\n",
        "                    new_tail.elem = temp.elem\n",
        "                    new_tail.next = Node(None, None)\n",
        "                    new_tail = new_tail.next\n",
        "                \n",
        "                temp = temp.next\n",
        "        \n",
        "        else:\n",
        "            while temp != None:\n",
        "                if ord(temp.elem) % 2 != 0:\n",
        "                    new_tail.elem = temp.elem\n",
        "                    new_tail.next = Node(None, None)\n",
        "                    new_tail = new_tail.next\n",
        "\n",
        "                temp = temp.next\n",
        "                \n",
        "    return new_head\n",
        "\n",
        "print('==============Test Case 1=============')\n",
        "head = createList(np.array(['S','E','N','P','A','I']))\n",
        "print('Original Play List: ', end = ' ')\n",
        "printLinkedList(head)\n",
        "newhead =  shuffle_on_song(head)\n",
        "print('New Play List: ', end = ' ')\n",
        "printLinkedList(newhead) #This should print N-->P-->S-->E-->A-->I\n",
        "print()\n",
        "\n",
        "print('==============Test Case 2=============')\n",
        "head = createList(np.array(['N','I','S','H','I','N','O','Y','A']))\n",
        "print('Original Play List: ', end = ' ')\n",
        "printLinkedList(head)\n",
        "newhead =  shuffle_on_song(head)\n",
        "print('New Play List: ', end = ' ')\n",
        "printLinkedList(newhead) #This should print N-->H-->N-->I-->S-->I-->O-->Y-->A\n",
        "print()\n"
      ]
    },
    {
      "cell_type": "markdown",
      "metadata": {
        "id": "wca6dmhzbU_k"
      },
      "source": [
        "BONUS"
      ]
    },
    {
      "cell_type": "markdown",
      "metadata": {
        "id": "hoDltlzi-GJD"
      },
      "source": [
        "Assemble Conga Line"
      ]
    },
    {
      "cell_type": "code",
      "execution_count": 34,
      "metadata": {
        "id": "FbGrR6QI9Hjv"
      },
      "outputs": [
        {
          "name": "stdout",
          "output_type": "stream",
          "text": [
            "==============Test Case 1=============\n",
            "Original Conga Line:  10-->15-->34-->41-->56-->72\n",
            "\n",
            "Original candidate Line:  16-->2-->36-->52-->40-->77\n",
            "\n",
            "Changed Conga Line:  10-->15-->34-->40-->41-->56-->72\n",
            "\n",
            "==============Test Case 2=============\n",
            "Original Conga Line:  10-->15-->34-->41-->56-->72\n",
            "\n",
            "Original candidate Line:  6-->16-->8-->36-->7-->40-->77\n",
            "\n"
          ]
        },
        {
          "ename": "UnboundLocalError",
          "evalue": "cannot access local variable 'prev_elem' where it is not associated with a value",
          "output_type": "error",
          "traceback": [
            "\u001b[1;31m---------------------------------------------------------------------------\u001b[0m",
            "\u001b[1;31mUnboundLocalError\u001b[0m                         Traceback (most recent call last)",
            "\u001b[1;32md:\\Annur\\Workshop\\VS CODE\\Python\\BRACU_CSE\\CSE220 Fall'23\\Assignment_3.ipynb Cell 18\u001b[0m line \u001b[0;36m8\n\u001b[0;32m     <a href='vscode-notebook-cell:/d%3A/Annur/Workshop/VS%20CODE/Python/BRACU_CSE/CSE220%20Fall%2723/Assignment_3.ipynb#X23sZmlsZQ%3D%3D?line=78'>79</a>\u001b[0m printLinkedList(candidate_line)\n\u001b[0;32m     <a href='vscode-notebook-cell:/d%3A/Annur/Workshop/VS%20CODE/Python/BRACU_CSE/CSE220%20Fall%2723/Assignment_3.ipynb#X23sZmlsZQ%3D%3D?line=79'>80</a>\u001b[0m insertion_idx \u001b[39m=\u001b[39m \u001b[39m0\u001b[39m\n\u001b[1;32m---> <a href='vscode-notebook-cell:/d%3A/Annur/Workshop/VS%20CODE/Python/BRACU_CSE/CSE220%20Fall%2723/Assignment_3.ipynb#X23sZmlsZQ%3D%3D?line=80'>81</a>\u001b[0m returned_value \u001b[39m=\u001b[39m assemble_conga_line(conga_line, candidate_line, insertion_idx)\n\u001b[0;32m     <a href='vscode-notebook-cell:/d%3A/Annur/Workshop/VS%20CODE/Python/BRACU_CSE/CSE220%20Fall%2723/Assignment_3.ipynb#X23sZmlsZQ%3D%3D?line=81'>82</a>\u001b[0m \u001b[39mprint\u001b[39m(\u001b[39m'\u001b[39m\u001b[39mChanged Conga Line: \u001b[39m\u001b[39m'\u001b[39m, end \u001b[39m=\u001b[39m \u001b[39m'\u001b[39m\u001b[39m \u001b[39m\u001b[39m'\u001b[39m) \u001b[39m#This should print 8-->10-->15-->34-->41-->56-->72\u001b[39;00m\n\u001b[0;32m     <a href='vscode-notebook-cell:/d%3A/Annur/Workshop/VS%20CODE/Python/BRACU_CSE/CSE220%20Fall%2723/Assignment_3.ipynb#X23sZmlsZQ%3D%3D?line=82'>83</a>\u001b[0m printLinkedList(returned_value)\n",
            "\u001b[1;32md:\\Annur\\Workshop\\VS CODE\\Python\\BRACU_CSE\\CSE220 Fall'23\\Assignment_3.ipynb Cell 18\u001b[0m line \u001b[0;36m2\n\u001b[0;32m      <a href='vscode-notebook-cell:/d%3A/Annur/Workshop/VS%20CODE/Python/BRACU_CSE/CSE220%20Fall%2723/Assignment_3.ipynb#X23sZmlsZQ%3D%3D?line=0'>1</a>\u001b[0m \u001b[39mdef\u001b[39;00m \u001b[39massemble_conga_line\u001b[39m(conga_line, candidate_line, idx):\n\u001b[1;32m----> <a href='vscode-notebook-cell:/d%3A/Annur/Workshop/VS%20CODE/Python/BRACU_CSE/CSE220%20Fall%2723/Assignment_3.ipynb#X23sZmlsZQ%3D%3D?line=1'>2</a>\u001b[0m     prev_candidate, next_canditate \u001b[39m=\u001b[39m getelems(conga_line, idx)\n\u001b[0;32m      <a href='vscode-notebook-cell:/d%3A/Annur/Workshop/VS%20CODE/Python/BRACU_CSE/CSE220%20Fall%2723/Assignment_3.ipynb#X23sZmlsZQ%3D%3D?line=2'>3</a>\u001b[0m     new_candidate \u001b[39m=\u001b[39m getcandidate(candidate_line, prev_candidate, next_canditate)\n\u001b[0;32m      <a href='vscode-notebook-cell:/d%3A/Annur/Workshop/VS%20CODE/Python/BRACU_CSE/CSE220%20Fall%2723/Assignment_3.ipynb#X23sZmlsZQ%3D%3D?line=3'>4</a>\u001b[0m     temp \u001b[39m=\u001b[39m conga_line\n",
            "\u001b[1;32md:\\Annur\\Workshop\\VS CODE\\Python\\BRACU_CSE\\CSE220 Fall'23\\Assignment_3.ipynb Cell 18\u001b[0m line \u001b[0;36m3\n\u001b[0;32m     <a href='vscode-notebook-cell:/d%3A/Annur/Workshop/VS%20CODE/Python/BRACU_CSE/CSE220%20Fall%2723/Assignment_3.ipynb#X23sZmlsZQ%3D%3D?line=29'>30</a>\u001b[0m     temp \u001b[39m=\u001b[39m temp\u001b[39m.\u001b[39mnext\n\u001b[0;32m     <a href='vscode-notebook-cell:/d%3A/Annur/Workshop/VS%20CODE/Python/BRACU_CSE/CSE220%20Fall%2723/Assignment_3.ipynb#X23sZmlsZQ%3D%3D?line=30'>31</a>\u001b[0m     count \u001b[39m+\u001b[39m\u001b[39m=\u001b[39m \u001b[39m1\u001b[39m\n\u001b[1;32m---> <a href='vscode-notebook-cell:/d%3A/Annur/Workshop/VS%20CODE/Python/BRACU_CSE/CSE220%20Fall%2723/Assignment_3.ipynb#X23sZmlsZQ%3D%3D?line=32'>33</a>\u001b[0m \u001b[39mreturn\u001b[39;00m prev_elem, next_elem\n",
            "\u001b[1;31mUnboundLocalError\u001b[0m: cannot access local variable 'prev_elem' where it is not associated with a value"
          ]
        }
      ],
      "source": [
        "def assemble_conga_line(conga_line, candidate_line, idx):\n",
        "    prev_candidate, next_canditate = getelems(conga_line, idx)\n",
        "    new_candidate = getcandidate(candidate_line, prev_candidate, next_canditate)\n",
        "    temp = conga_line\n",
        "    last_node = temp.next\n",
        "    count = 1\n",
        "    while last_node != None:\n",
        "        if count == idx:\n",
        "            n = Node(new_candidate, last_node)\n",
        "            temp.next = n\n",
        "        \n",
        "        temp = temp.next\n",
        "        last_node = last_node.next\n",
        "        count += 1\n",
        "    \n",
        "    return conga_line\n",
        "\n",
        "\n",
        "def getelems(head, idx):\n",
        "    temp = head\n",
        "    count = 0\n",
        "    while temp != None:\n",
        "        if count == idx:\n",
        "            next_elem = temp.elem\n",
        "            break\n",
        "\n",
        "        else:\n",
        "            prev_elem = temp.elem\n",
        "\n",
        "        temp = temp.next\n",
        "        count += 1\n",
        "\n",
        "    return prev_elem, next_elem\n",
        "\n",
        "\n",
        "def getcandidate(candidate_line, prev_candidate, next_candidate):\n",
        "    temp = candidate_line\n",
        "    flag = False\n",
        "    while temp != None:\n",
        "        if prev_candidate < temp.elem < next_candidate:\n",
        "    \n",
        "            if flag:\n",
        "                rem = diff\n",
        "                diff = next_candidate - temp.elem\n",
        "\n",
        "                if diff < rem:\n",
        "                    candidate = temp.elem\n",
        "                    \n",
        "            else:\n",
        "                diff = next_candidate - temp.elem\n",
        "                candidate = temp.elem\n",
        "                flag = True\n",
        "\n",
        "        temp = temp.next\n",
        "    \n",
        "    return candidate\n",
        "\n",
        "            \n",
        "\n",
        "\n",
        "print('==============Test Case 1=============')\n",
        "conga_line = createList(np.array([10,15,34,41,56,72]))\n",
        "print('Original Conga Line: ', end = ' ')\n",
        "printLinkedList(conga_line)\n",
        "candidate_line = createList(np.array([16,2,36,52,40,77]))\n",
        "print('Original candidate Line: ', end = ' ')\n",
        "printLinkedList(candidate_line)\n",
        "insertion_idx = 3\n",
        "returned_value = assemble_conga_line(conga_line, candidate_line, insertion_idx)\n",
        "print('Changed Conga Line: ', end = ' ') #This should print 10-->15-->34-->40-->41-->56-->72\n",
        "printLinkedList(returned_value)\n",
        "\n",
        "print('==============Test Case 2=============')\n",
        "conga_line = createList(np.array([10,15,34,41,56,72]))\n",
        "print('Original Conga Line: ', end = ' ')\n",
        "printLinkedList(conga_line)\n",
        "candidate_line = createList(np.array([6,16,8,36,7,40,77]))\n",
        "print('Original candidate Line: ', end = ' ')\n",
        "printLinkedList(candidate_line)\n",
        "insertion_idx = 0\n",
        "returned_value = assemble_conga_line(conga_line, candidate_line, insertion_idx)\n",
        "print('Changed Conga Line: ', end = ' ') #This should print 8-->10-->15-->34-->41-->56-->72\n",
        "printLinkedList(returned_value)\n",
        "\n",
        "print('==============Test Case 3=============')\n",
        "conga_line = createList(np.array([10,15,34,41,56,72]))\n",
        "print('Original Conga Line: ', end = ' ')\n",
        "printLinkedList(conga_line)\n",
        "candidate_line = createList(np.array([6,12,8,36,7,40,77]))\n",
        "print('Original candidate Line: ', end = ' ')\n",
        "printLinkedList(candidate_line)\n",
        "insertion_idx = 2\n",
        "returned_value = assemble_conga_line(conga_line, candidate_line, insertion_idx)\n",
        "print('Changed Conga Line: ', end = ' ') #This should print 10-->15-->34-->41-->56-->72\n",
        "printLinkedList(returned_value)"
      ]
    }
  ],
  "metadata": {
    "colab": {
      "provenance": []
    },
    "kernelspec": {
      "display_name": "Python 3",
      "name": "python3"
    },
    "language_info": {
      "codemirror_mode": {
        "name": "ipython",
        "version": 3
      },
      "file_extension": ".py",
      "mimetype": "text/x-python",
      "name": "python",
      "nbconvert_exporter": "python",
      "pygments_lexer": "ipython3",
      "version": "3.11.3"
    }
  },
  "nbformat": 4,
  "nbformat_minor": 0
}
