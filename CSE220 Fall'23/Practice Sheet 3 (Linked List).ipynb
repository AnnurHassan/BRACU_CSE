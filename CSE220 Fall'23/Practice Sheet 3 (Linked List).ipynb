{
 "cells": [
  {
   "cell_type": "code",
   "execution_count": 15,
   "metadata": {},
   "outputs": [],
   "source": [
    "#Run this cell\n",
    "import numpy as np\n",
    "\n",
    "class Node:\n",
    "  def __init__(self,elem,next = None):\n",
    "    self.elem,self.next = elem,next\n",
    "\n",
    "\n",
    "def createList(arr):\n",
    "    head = Node(arr[0])\n",
    "    tail = head\n",
    "    for i in range(1,len(arr)):\n",
    "        newNode = Node(arr[i], None)\n",
    "        tail.next = newNode\n",
    "        tail = newNode\n",
    "\n",
    "    return head\n",
    "\n",
    "\n",
    "def printLinkedList(head):\n",
    "    temp = head\n",
    "    while temp != None:\n",
    "        if temp.next != None:\n",
    "            print(temp.elem, end = ' --> ')\n",
    "\n",
    "        else:\n",
    "            print(temp.elem)\n",
    "\n",
    "        temp = temp.next\n",
    "\n",
    "    print()\n"
   ]
  },
  {
   "cell_type": "code",
   "execution_count": 16,
   "metadata": {},
   "outputs": [
    {
     "name": "stdout",
     "output_type": "stream",
     "text": [
      "5 --> 1 --> 2 --> 3 --> 4\n",
      "\n"
     ]
    }
   ],
   "source": [
    "# Question 1\n",
    "\n",
    "def last_first(head):\n",
    "    second_lastNode = head\n",
    "    lastNode = head.next\n",
    "    while lastNode.next != None:\n",
    "        lastNode = lastNode.next\n",
    "        second_lastNode = second_lastNode.next\n",
    "    \n",
    "    lastNode.next = head\n",
    "    second_lastNode.next = None\n",
    "    head = lastNode\n",
    "    return head\n",
    "\n",
    "list1 = createList([1, 2, 3, 4, 5])\n",
    "list1 = last_first(list1)\n",
    "printLinkedList(list1)"
   ]
  },
  {
   "cell_type": "code",
   "execution_count": 18,
   "metadata": {},
   "outputs": [],
   "source": [
    "# Question 2\n",
    "\n",
    "def createNewList(list1, list2):\n",
    "    list1_length = getLength(list1)\n",
    "    list2_length = getLength(list2)\n",
    "    \n",
    "\n",
    "def getLength(head):\n",
    "    temp = head\n",
    "    count = 0\n",
    "    while temp != None:\n",
    "        count += 1\n",
    "        temp = temp.next\n",
    "    \n",
    "    return count"
   ]
  },
  {
   "cell_type": "code",
   "execution_count": 21,
   "metadata": {},
   "outputs": [
    {
     "name": "stdout",
     "output_type": "stream",
     "text": [
      "40\n"
     ]
    }
   ],
   "source": [
    "# Question 5\n",
    "\n",
    "def getValue(head, n):\n",
    "    length = getLength(head)\n",
    "    index = length - n\n",
    "    temp = head\n",
    "    for i in range(index):\n",
    "        temp = temp.next\n",
    "\n",
    "    return temp.elem\n",
    "\n",
    "\n",
    "list1 = createList([10, 20, 30, 40, 50])\n",
    "print(getValue(list1, 2))"
   ]
  },
  {
   "cell_type": "code",
   "execution_count": 23,
   "metadata": {},
   "outputs": [
    {
     "name": "stdout",
     "output_type": "stream",
     "text": [
      "30\n",
      "4\n"
     ]
    }
   ],
   "source": [
    "# Question 6\n",
    "\n",
    "def getMidValue(head):\n",
    "    length = getLength(head)\n",
    "    index = length // 2\n",
    "    temp = head\n",
    "    for i in range(index):\n",
    "        temp = temp.next\n",
    "\n",
    "    return temp.elem\n",
    "\n",
    "list1 = createList([10, 20, 30, 40, 50])\n",
    "print(getMidValue(list1))\n",
    "\n",
    "list1 = createList([1, 2, 3, 4, 5, 6])\n",
    "print(getMidValue(list1))"
   ]
  }
 ],
 "metadata": {
  "kernelspec": {
   "display_name": "Python 3",
   "language": "python",
   "name": "python3"
  },
  "language_info": {
   "codemirror_mode": {
    "name": "ipython",
    "version": 3
   },
   "file_extension": ".py",
   "mimetype": "text/x-python",
   "name": "python",
   "nbconvert_exporter": "python",
   "pygments_lexer": "ipython3",
   "version": "3.11.3"
  }
 },
 "nbformat": 4,
 "nbformat_minor": 2
}
