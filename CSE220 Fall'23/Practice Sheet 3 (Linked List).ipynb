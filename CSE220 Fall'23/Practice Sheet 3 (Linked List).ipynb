{
 "cells": [
  {
   "cell_type": "code",
   "execution_count": 7,
   "metadata": {},
   "outputs": [],
   "source": [
    "#Run this cell\n",
    "import numpy as np\n",
    "\n",
    "class Node:\n",
    "  def __init__(self,elem,next = None):\n",
    "    self.elem,self.next = elem,next\n",
    "\n",
    "\n",
    "def createList(arr):\n",
    "    head = Node(arr[0])\n",
    "    tail = head\n",
    "    for i in range(1,len(arr)):\n",
    "        newNode = Node(arr[i], None)\n",
    "        tail.next = newNode\n",
    "        tail = newNode\n",
    "\n",
    "    return head\n",
    "\n",
    "\n",
    "def printLinkedList(head):\n",
    "    temp = head\n",
    "    while temp != None:\n",
    "        if temp.next != None:\n",
    "            print(temp.elem, end = ' --> ')\n",
    "\n",
    "        else:\n",
    "            print(temp.elem)\n",
    "\n",
    "        temp = temp.next\n",
    "\n",
    "    print()\n"
   ]
  },
  {
   "cell_type": "code",
   "execution_count": 16,
   "metadata": {},
   "outputs": [],
   "source": [
    "# Utility Functions\n",
    "\n",
    "def countNodes(head):\n",
    "    temp = head\n",
    "    count = 0\n",
    "    while temp != None:\n",
    "        count += 1\n",
    "        temp = temp.next\n",
    "\n",
    "    return count\n",
    "\n",
    "def contains(head, elem):\n",
    "    temp = head\n",
    "    while temp != None:\n",
    "        if temp.elem == elem:\n",
    "            return True\n",
    "        \n",
    "        temp = temp.next\n",
    "    \n",
    "    return False"
   ]
  },
  {
   "cell_type": "code",
   "execution_count": 11,
   "metadata": {},
   "outputs": [
    {
     "name": "stdout",
     "output_type": "stream",
     "text": [
      "Original List:  1 --> 2 --> 3 --> 4 --> 5\n",
      "\n",
      "After change :  5 --> 1 --> 2 --> 3 --> 4\n",
      "\n"
     ]
    }
   ],
   "source": [
    "# Question 1\n",
    "\n",
    "def last_first(head):\n",
    "    last_node = head\n",
    "    second_last_Node = head\n",
    "    while last_node.next != None:\n",
    "        second_last_Node = last_node\n",
    "        last_node = last_node.next\n",
    "\n",
    "    second_last_Node.next = None\n",
    "    last_node.next = head\n",
    "    head = last_node\n",
    "\n",
    "    return head\n",
    "\n",
    "list1 = createList([1, 2, 3, 4, 5])\n",
    "print(\"Original List: \", end = \" \")\n",
    "printLinkedList(list1)\n",
    "list1 = last_first(list1)\n",
    "print(\"After change : \", end = \" \")\n",
    "printLinkedList(list1)"
   ]
  },
  {
   "cell_type": "code",
   "execution_count": 20,
   "metadata": {},
   "outputs": [
    {
     "name": "stdout",
     "output_type": "stream",
     "text": [
      "==============Test 1===============\n",
      "First Linked List:  1 --> 2 --> 3 --> 4 --> 6\n",
      "\n",
      "Second Linked List:  2 --> 4 --> 6 --> 8\n",
      "\n",
      "New Linked List:  2 --> 4 --> 6 --> None\n",
      "\n",
      "==============Test 2===============\n",
      "First Linked List:  1 --> 2 --> 3 --> 4 --> 5\n",
      "\n",
      "Second Linked List:  2 --> 3 --> 4\n",
      "\n",
      "New Linked List:  2 --> 3 --> 4 --> None\n",
      "\n"
     ]
    }
   ],
   "source": [
    "# Question 2\n",
    "\n",
    "def createNewList(list1, list2):\n",
    "    new_head = Node(None, None)\n",
    "    new_temp = new_head\n",
    "    temp = list1\n",
    "    temp_2 = list2\n",
    "    while temp != None:\n",
    "\n",
    "        while temp_2 != None:\n",
    "            if temp.elem == temp_2.elem:\n",
    "\n",
    "                if not(contains(new_head, temp.elem)):\n",
    "                    new_temp.elem = temp.elem\n",
    "                    new_temp.next = Node(None, None)\n",
    "                    new_temp = new_temp.next\n",
    "            \n",
    "            temp_2 = temp_2.next\n",
    "\n",
    "        temp = temp.next\n",
    "        temp_2 = list2\n",
    "    \n",
    "    return new_head\n",
    "                \n",
    "print(\"==============Test 1===============\")\n",
    "list1 = createList([1, 2, 3, 4, 6])\n",
    "list2 = createList([2, 4, 6, 8])\n",
    "new_list = createNewList(list1, list2)\n",
    "print(\"First Linked List: \", end = \" \")\n",
    "printLinkedList(list1)\n",
    "print(\"Second Linked List: \", end = \" \")\n",
    "printLinkedList(list2)\n",
    "print(\"New Linked List: \", end = \" \")\n",
    "printLinkedList(new_list)\n",
    "\n",
    "print(\"==============Test 2===============\")\n",
    "list1 = createList([1, 2, 3, 4, 5])\n",
    "list2 = createList([2, 3, 4])\n",
    "new_list = createNewList(list1, list2)\n",
    "print(\"First Linked List: \", end = \" \")\n",
    "printLinkedList(list1)\n",
    "print(\"Second Linked List: \", end = \" \")\n",
    "printLinkedList(list2)\n",
    "print(\"New Linked List: \", end = \" \")\n",
    "printLinkedList(new_list)"
   ]
  },
  {
   "cell_type": "code",
   "execution_count": null,
   "metadata": {},
   "outputs": [],
   "source": [
    "# Question 3\n",
    "\n"
   ]
  },
  {
   "cell_type": "code",
   "execution_count": null,
   "metadata": {},
   "outputs": [],
   "source": []
  },
  {
   "cell_type": "code",
   "execution_count": 21,
   "metadata": {},
   "outputs": [
    {
     "name": "stdout",
     "output_type": "stream",
     "text": [
      "40\n"
     ]
    }
   ],
   "source": [
    "# Question 5\n",
    "\n",
    "def getValue(head, n):\n",
    "\n",
    "list1 = createList([10, 20, 30, 40, 50])\n",
    "print(getValue(list1, 2))"
   ]
  },
  {
   "cell_type": "code",
   "execution_count": 23,
   "metadata": {},
   "outputs": [
    {
     "name": "stdout",
     "output_type": "stream",
     "text": [
      "30\n",
      "4\n"
     ]
    }
   ],
   "source": [
    "# Question 6\n",
    "\n",
    "def getMidValue(head):\n",
    "\n",
    "list1 = createList([10, 20, 30, 40, 50])\n",
    "print(getMidValue(list1))\n",
    "\n",
    "list1 = createList([1, 2, 3, 4, 5, 6])\n",
    "print(getMidValue(list1))"
   ]
  }
 ],
 "metadata": {
  "kernelspec": {
   "display_name": "Python 3",
   "language": "python",
   "name": "python3"
  },
  "language_info": {
   "codemirror_mode": {
    "name": "ipython",
    "version": 3
   },
   "file_extension": ".py",
   "mimetype": "text/x-python",
   "name": "python",
   "nbconvert_exporter": "python",
   "pygments_lexer": "ipython3",
   "version": "3.11.3"
  }
 },
 "nbformat": 4,
 "nbformat_minor": 2
}
