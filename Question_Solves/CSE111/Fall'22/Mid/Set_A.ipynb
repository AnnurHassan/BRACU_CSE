{
 "cells": [
  {
   "cell_type": "code",
   "execution_count": 4,
   "metadata": {},
   "outputs": [
    {
     "name": "stdout",
     "output_type": "stream",
     "text": [
      "Genre: Heavy Metal\n",
      "Song list: This Fire Burns, Here I Am\n"
     ]
    }
   ],
   "source": [
    "# Question 1\n",
    "\n",
    "class Spotify:\n",
    "    def __init__(self, g, s1, s2):\n",
    "        self.genre = g\n",
    "        self.song_1 = s1\n",
    "        self.song_2 = s2\n",
    "\n",
    "    def show_playlist(self):\n",
    "        return f\"Genre: {self.genre}\\nSong list: {self.song_1}, {self.song_2}\"\n",
    "\n",
    "rock = Spotify(\"Heavy Metal\", \"This Fire Burns\", \"Here I Am\")\n",
    "print(rock.show_playlist())"
   ]
  },
  {
   "cell_type": "code",
   "execution_count": 3,
   "metadata": {},
   "outputs": [
    {
     "name": "stdout",
     "output_type": "stream",
     "text": [
      "19 1 3\n",
      "4 11 23\n",
      "27 11 41\n"
     ]
    }
   ],
   "source": [
    "# Question 2\n",
    "\n",
    "class MidA:\n",
    "    def __init__(self):\n",
    "        self.x = 4\n",
    "        self.y = 1\n",
    "        self.sum = 3\n",
    "\n",
    "    def methodA(self, x):\n",
    "        self.y = self.sum + self.x + x\n",
    "        self.sum = x + self.y\n",
    "        d = MidA()\n",
    "        d.sum = self.sum + self.methodB(d)\n",
    "        print(self.x, self.y, self.sum)\n",
    "\n",
    "    def methodB(self, t, z=0):\n",
    "        y = 3\n",
    "        t.x = self.x + self.sum\n",
    "        self.sum = t.x + t.y + y\n",
    "        print(t.x, t.y, t.sum)\n",
    "\n",
    "        if z == 0:\n",
    "            return t.sum\n",
    "    \n",
    "a = MidA()\n",
    "a.methodA(4)\n",
    "a.methodB(a, 99)"
   ]
  },
  {
   "cell_type": "code",
   "execution_count": 2,
   "metadata": {},
   "outputs": [
    {
     "name": "stdout",
     "output_type": "stream",
     "text": [
      "1################################# \n",
      "Your 6 Hot spicy Regular Pizza is ready with Cheese,Pepperoni toppings. Enjoy!\n",
      "2================================\n",
      "3#################################\n",
      "No toppings specified! Can't bake pizza.\n",
      "4================================\n",
      "5#################################\n",
      "Your 12 Regular spicy Chicken Blast Pizza is ready with Mushroom toppings. Enjoy!\n",
      "6================================\n",
      "7#################################\n",
      "Sprry! Spice level not allowed. Can't bake pizza.\n",
      "8================================\n"
     ]
    }
   ],
   "source": [
    "# Question 3\n",
    "\n",
    "class PizzaMachine:\n",
    "    def __init__(self, name=\"Regular\", size=6):\n",
    "        self.pizza_name = name\n",
    "        self.size = size\n",
    "\n",
    "    def customizePizza(self, topping_list=None, spice=\"Regular\"):\n",
    "        if type(topping_list) == list:\n",
    "            self.topping_list = topping_list\n",
    "            self.spicy_level = spice\n",
    "\n",
    "            if self.spicy_level not in [\"Regular\", \"Hot\", \"Super Naga\"]:\n",
    "                return \"Sprry! Spice level not allowed. Can't bake pizza.\"\n",
    "\n",
    "            else:\n",
    "                return f'Your {self.size} {self.spicy_level} spicy {self.pizza_name} Pizza is ready with {\",\".join(self.topping_list)} toppings. Enjoy!'\n",
    "\n",
    "        else:\n",
    "            self.spicy_level = topping_list\n",
    "            return \"No toppings specified! Can't bake pizza.\"\n",
    "\n",
    "pizza1 = PizzaMachine()\n",
    "order1 = pizza1.customizePizza([\"Cheese\", \"Pepperoni\"], \"Hot\")\n",
    "print(\"1################################# \")\n",
    "print(order1)\n",
    "print(\"2================================\")\n",
    "pizza2 = PizzaMachine(\"Vege\")\n",
    "order2 = pizza2.customizePizza(\"Super Naga\")\n",
    "print(\"3#################################\")\n",
    "print(order2)\n",
    "print(\"4================================\")\n",
    "pizza3 = PizzaMachine(\"Chicken Blast\", 12)\n",
    "order3 = pizza3.customizePizza([\"Mushroom\"])\n",
    "print(\"5#################################\")\n",
    "print(order3)\n",
    "print(\"6================================\")\n",
    "pizza4 = PizzaMachine(\"Beef Bonanza\", 16)\n",
    "order4 = pizza4.customizePizza([\"Cheese\", \"Beef kalabhuna\"], \"Mild\")\n",
    "print(\"7#################################\")\n",
    "print(order4)\n",
    "print(\"8================================\")"
   ]
  }
 ],
 "metadata": {
  "kernelspec": {
   "display_name": "Python 3",
   "language": "python",
   "name": "python3"
  },
  "language_info": {
   "codemirror_mode": {
    "name": "ipython",
    "version": 3
   },
   "file_extension": ".py",
   "mimetype": "text/x-python",
   "name": "python",
   "nbconvert_exporter": "python",
   "pygments_lexer": "ipython3",
   "version": "3.11.3"
  },
  "orig_nbformat": 4
 },
 "nbformat": 4,
 "nbformat_minor": 2
}
