{
 "cells": [
  {
   "cell_type": "code",
   "execution_count": 2,
   "metadata": {},
   "outputs": [
    {
     "name": "stdout",
     "output_type": "stream",
     "text": [
      "Exam Type: Midterm\n",
      "Number of questions: 2\n",
      "Marks per questions: 10\n",
      "Total Marks: 20\n",
      "===========================\n",
      "Exam Type: Final\n",
      "Number of questions: 3\n",
      "Marks per questions: 10\n",
      "Total Marks: 30\n"
     ]
    }
   ],
   "source": [
    "# Question 1\n",
    "\n",
    "class Exam:\n",
    "    def __init__(self, name, noq, mpq):\n",
    "        self.exam_name = name\n",
    "        self.no_of_ques = noq\n",
    "        self.marks_per_ques = mpq\n",
    "\n",
    "    def detail(self):\n",
    "        return f'Exam Type: {self.exam_name}\\nNumber of questions: {self.no_of_ques}\\nMarks per questions: {self.marks_per_ques}\\nTotal Marks: {self.no_of_ques * self. marks_per_ques}'\n",
    "\n",
    "e1 = Exam('Midterm', 2, 10)\n",
    "print(e1.detail())\n",
    "print(\"===========================\")\n",
    "e2 = Exam('Final', 3, 10)\n",
    "print(e2.detail())\n"
   ]
  },
  {
   "cell_type": "code",
   "execution_count": 3,
   "metadata": {},
   "outputs": [
    {
     "name": "stdout",
     "output_type": "stream",
     "text": [
      "16 7 21\n",
      "3 8 26\n"
     ]
    }
   ],
   "source": [
    "# Question 2\n",
    "\n",
    "class MidA:\n",
    "    def __init__(self):\n",
    "        self.x = 3\n",
    "        self.y = 7\n",
    "        self.sum = 0\n",
    "\n",
    "    def methodA(self, x):\n",
    "        self.y = x + self.sum + self.x\n",
    "        self.sum = x + self.y\n",
    "        z = MidA()\n",
    "        z.sum = self.sum + self.y\n",
    "        self.methodB(z)\n",
    "        print(self.x, self.y, self.sum)\n",
    "    \n",
    "    def methodB(self, a):\n",
    "        y = 3\n",
    "        a.x = self.x + self.sum\n",
    "        self.sum = a.x + a.y + y\n",
    "        print(a.x, a.y, a.sum)\n",
    "\n",
    "a = MidA()\n",
    "a.methodA(5)"
   ]
  },
  {
   "cell_type": "code",
<<<<<<< HEAD
   "execution_count": 20,
   "metadata": {},
   "outputs": [
    {
     "name": "stdout",
     "output_type": "stream",
     "text": [
      "1.############################\n",
      "ID Cable Box Status: \n",
      "Cable Box is: ON\n",
      "Channel: 0\n",
      "Volume: 3\n",
      "2.############################\n",
      "ID Cable Box Status: \n",
      "Cable Box is: ON\n",
      "Channel: 2\n",
      "Volume: 4\n",
      "3.############################\n",
      "ID Cable Box Status: \n",
      "Cable Box is: OFF\n",
      "4.############################\n",
      "ID Cable Box Status: \n",
      "Cable Box is: ON\n",
      "Channel: 3\n",
      "Volume: 8\n",
      "5.############################\n",
      "ID Cable Box Status: \n",
      "Cable Box is: ON\n",
      "Channel: 3\n",
      "Volume: 6\n",
      "6.############################\n",
      "Power is turned off. Cannot change channel.\n",
      "Power is turned off. Cannot change volume.\n",
      "ID Cable Box Status: \n",
      "Cable Box is: OFF\n",
      "7.############################\n",
      "TV Channel does not exist.\n",
      "ID Cable Box Status: \n",
      "Cable Box is: ON\n",
      "Channel: 3\n",
      "Volume: 6\n"
     ]
    }
   ],
   "source": [
    "# Question 3\n",
    "\n",
    "\n",
    "class RickMote:\n",
    "    def __init__(self):\n",
    "        self.channel_list = [0, 2, 3, 6, 7, 9]\n",
    "        self.power_status = \"OFF\"\n",
    "        self.volume = 3\n",
    "        self.channel_num = 0\n",
    "\n",
    "\n",
    "    def power(self):\n",
    "        if self.power_status == \"ON\":\n",
    "            self.power_status = \"OFF\"\n",
    "\n",
    "        else:\n",
    "            self.power_status = \"ON\"\n",
    "\n",
    "\n",
    "    def changeVolumeLevel(self, num=1):\n",
    "        if self.power_status == \"ON\":\n",
    "            self.volume += num\n",
    "        else:\n",
    "            print(\"Power is turned off. Cannot change volume.\")\n",
    "\n",
    "\n",
    "    def changeChannel(self, num=None):\n",
    "        if self.power_status == \"ON\":\n",
    "\n",
    "            if num in self.channel_list:\n",
    "                self.channel_num = num\n",
    "\n",
    "            elif num == None:\n",
    "                \n",
    "                for i in range(len(self.channel_list)):\n",
    "                    channel = self.channel_list[i]\n",
    "\n",
    "                    if channel == self.channel_num:\n",
    "                        self.channel_num = self.channel_list[i + 1]\n",
    "                        break\n",
    "            else:\n",
    "                print(\"TV Channel does not exist.\")\n",
    "\n",
    "        else:\n",
    "            print(\"Power is turned off. Cannot change channel.\")\n",
    "\n",
    "\n",
    "    def showInfo(self):\n",
    "        if self.power_status == \"ON\":\n",
    "            print(\"ID Cable Box Status: \")\n",
    "            print(f\"Cable Box is: {self.power_status}\")\n",
    "            print(f\"Channel: {self.channel_num}\")\n",
    "            print(f\"Volume: {self.volume}\")\n",
    "\n",
    "        else:\n",
    "            print(\"ID Cable Box Status: \")\n",
    "            print(f\"Cable Box is: {self.power_status}\")\n",
    "\n",
=======
   "execution_count": null,
   "metadata": {},
   "outputs": [],
   "source": [
    "# Question 3\n",
    "\n",
    "class RickMote:\n",
    "    def \n",
    "    def power(self):\n",
>>>>>>> 8a737ee20e61edabc2f4423c31087bac31507d2b
    "\n",
    "oTV = RickMote()\n",
    "oTV.power()\n",
    "print(\"1.############################\")\n",
    "oTV.showInfo()\n",
    "print(\"2.############################\")\n",
    "oTV.changeChannel()\n",
    "oTV.changeVolumeLevel()\n",
    "oTV.showInfo()\n",
    "print(\"3.############################\")\n",
    "oTV.power()\n",
    "oTV.showInfo()\n",
    "print(\"4.############################\")\n",
    "oTV.power()\n",
    "oTV.changeVolumeLevel(4)\n",
<<<<<<< HEAD
    "oTV.changeChannel(3)\n",
=======
    "oTV.changeChannel(3) \n",
>>>>>>> 8a737ee20e61edabc2f4423c31087bac31507d2b
    "oTV.showInfo()\n",
    "print(\"5.############################\")\n",
    "oTV.changeVolumeLevel(-2)\n",
    "oTV.showInfo()\n",
    "print(\"6.############################\")\n",
    "oTV.power()\n",
    "oTV.changeChannel(9)\n",
    "oTV.changeVolumeLevel(-1)\n",
    "oTV.showInfo()\n",
    "print(\"7.############################\")\n",
    "oTV.power()\n",
    "oTV.changeChannel(11)\n",
<<<<<<< HEAD
    "oTV.showInfo()"
   ]
  },
  {
   "cell_type": "code",
   "execution_count": null,
   "metadata": {},
   "outputs": [],
   "source": []
=======
    "oTV.showInfo()\n"
   ]
>>>>>>> 8a737ee20e61edabc2f4423c31087bac31507d2b
  }
 ],
 "metadata": {
  "kernelspec": {
   "display_name": "Python 3",
   "language": "python",
   "name": "python3"
  },
  "language_info": {
   "codemirror_mode": {
    "name": "ipython",
    "version": 3
   },
   "file_extension": ".py",
   "mimetype": "text/x-python",
   "name": "python",
   "nbconvert_exporter": "python",
   "pygments_lexer": "ipython3",
   "version": "3.11.3"
  },
  "orig_nbformat": 4
 },
 "nbformat": 4,
 "nbformat_minor": 2
}
