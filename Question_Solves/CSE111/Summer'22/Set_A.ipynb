{
 "cells": [
  {
   "cell_type": "code",
   "execution_count": 2,
   "metadata": {},
   "outputs": [
    {
     "name": "stdout",
     "output_type": "stream",
     "text": [
      "Exam Type: Midterm\n",
      "Number of questions: 2\n",
      "Marks per questions: 10\n",
      "Total Marks: 20\n",
      "===========================\n",
      "Exam Type: Final\n",
      "Number of questions: 3\n",
      "Marks per questions: 10\n",
      "Total Marks: 30\n"
     ]
    }
   ],
   "source": [
    "# Question 1\n",
    "\n",
    "class Exam:\n",
    "    def __init__(self, name, noq, mpq):\n",
    "        self.exam_name = name\n",
    "        self.no_of_ques = noq\n",
    "        self.marks_per_ques = mpq\n",
    "\n",
    "    def detail(self):\n",
    "        return f'Exam Type: {self.exam_name}\\nNumber of questions: {self.no_of_ques}\\nMarks per questions: {self.marks_per_ques}\\nTotal Marks: {self.no_of_ques * self. marks_per_ques}'\n",
    "\n",
    "e1 = Exam('Midterm', 2, 10)\n",
    "print(e1.detail())\n",
    "print(\"===========================\")\n",
    "e2 = Exam('Final', 3, 10)\n",
    "print(e2.detail())\n"
   ]
  },
  {
   "cell_type": "code",
   "execution_count": 3,
   "metadata": {},
   "outputs": [
    {
     "name": "stdout",
     "output_type": "stream",
     "text": [
      "16 7 21\n",
      "3 8 26\n"
     ]
    }
   ],
   "source": [
    "# Question 2\n",
    "\n",
    "class MidA:\n",
    "    def __init__(self):\n",
    "        self.x = 3\n",
    "        self.y = 7\n",
    "        self.sum = 0\n",
    "\n",
    "    def methodA(self, x):\n",
    "        self.y = x + self.sum + self.x\n",
    "        self.sum = x + self.y\n",
    "        z = MidA()\n",
    "        z.sum = self.sum + self.y\n",
    "        self.methodB(z)\n",
    "        print(self.x, self.y, self.sum)\n",
    "    \n",
    "    def methodB(self, a):\n",
    "        y = 3\n",
    "        a.x = self.x + self.sum\n",
    "        self.sum = a.x + a.y + y\n",
    "        print(a.x, a.y, a.sum)\n",
    "\n",
    "a = MidA()\n",
    "a.methodA(5)"
   ]
  },
  {
   "cell_type": "code",
   "execution_count": null,
   "metadata": {},
   "outputs": [],
   "source": [
    "# Question 3\n",
    "\n",
    "class RickMote:\n",
    "    def \n",
    "    def power(self):\n",
    "\n",
    "oTV = RickMote()\n",
    "oTV.power()\n",
    "print(\"1.############################\")\n",
    "oTV.showInfo()\n",
    "print(\"2.############################\")\n",
    "oTV.changeChannel()\n",
    "oTV.changeVolumeLevel()\n",
    "oTV.showInfo()\n",
    "print(\"3.############################\")\n",
    "oTV.power()\n",
    "oTV.showInfo()\n",
    "print(\"4.############################\")\n",
    "oTV.power()\n",
    "oTV.changeVolumeLevel(4)\n",
    "oTV.changeChannel(3) \n",
    "oTV.showInfo()\n",
    "print(\"5.############################\")\n",
    "oTV.changeVolumeLevel(-2)\n",
    "oTV.showInfo()\n",
    "print(\"6.############################\")\n",
    "oTV.power()\n",
    "oTV.changeChannel(9)\n",
    "oTV.changeVolumeLevel(-1)\n",
    "oTV.showInfo()\n",
    "print(\"7.############################\")\n",
    "oTV.power()\n",
    "oTV.changeChannel(11)\n",
    "oTV.showInfo()\n"
   ]
  }
 ],
 "metadata": {
  "kernelspec": {
   "display_name": "Python 3",
   "language": "python",
   "name": "python3"
  },
  "language_info": {
   "codemirror_mode": {
    "name": "ipython",
    "version": 3
   },
   "file_extension": ".py",
   "mimetype": "text/x-python",
   "name": "python",
   "nbconvert_exporter": "python",
   "pygments_lexer": "ipython3",
   "version": "3.11.3"
  },
  "orig_nbformat": 4
 },
 "nbformat": 4,
 "nbformat_minor": 2
}
