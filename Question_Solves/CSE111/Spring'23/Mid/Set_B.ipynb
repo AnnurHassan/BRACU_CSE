{
 "cells": [
  {
   "cell_type": "code",
   "execution_count": 3,
   "metadata": {},
   "outputs": [
    {
     "name": "stdout",
     "output_type": "stream",
     "text": [
      "Brand Name: Miyako\n",
      "Ingredients: Coffee beans, Milk, Sugar\n"
     ]
    }
   ],
   "source": [
    "#Question 1\n",
    "\n",
    "class CoffeeMachine:\n",
    "    def __init__(self, name):\n",
    "        self.name = name\n",
    "    \n",
    "    def insertIngredients(self, i1, i2, i3):\n",
    "        self.i1 = i1\n",
    "        self.i2 = i2\n",
    "        self.i3 = i3\n",
    "    \n",
    "    def getDetails(self):\n",
    "        return f'Brand Name: {self.name}\\nIngredients: {self.i1}, {self.i2}, {self.i3}'\n",
    "    \n",
    "cm1 = CoffeeMachine(\"Miyako\")\n",
    "cm1.insertIngredients(\"Coffee beans\", \"Milk\", \"Sugar\")\n",
    "print(cm1.getDetails())"
   ]
  },
  {
   "cell_type": "code",
   "execution_count": 1,
   "metadata": {},
   "outputs": [
    {
     "name": "stdout",
     "output_type": "stream",
     "text": [
      "25 11 35\n",
      "28 16 79\n",
      "24 37 82\n"
     ]
    }
   ],
   "source": [
    "#Question 2\n",
    "\n",
    "class MidA:\n",
    "    def __init__(self):\n",
    "        self.y,self.z,self.sum = 3,2,-1\n",
    "    \n",
    "    def m1(self, mg2, mg1=2):\n",
    "        x = 0\n",
    "        self.y = self.y + mg2[0]\n",
    "        x += 23 + mg1\n",
    "        self.sum += x + self.y\n",
    "        mg2[0] = self.y + mg1\n",
    "        mg1 = mg1 + x + 4\n",
    "        print(x, self.y, self.sum)\n",
    "    \n",
    "    def m2(self, y=3):\n",
    "        mid = [0]\n",
    "        mid[0] = 5\n",
    "        self.m1(mid, mid[0])\n",
    "        z = y + mid[0]\n",
    "        y = self.y + mid[0]\n",
    "        self.sum = z + y + mid[0]\n",
    "        print(z, y, self.sum)\n",
    "\n",
    "a = MidA()\n",
    "a.m1([8])\n",
    "a.m2()"
   ]
  },
  {
   "cell_type": "code",
   "execution_count": 2,
   "metadata": {},
   "outputs": [
    {
     "name": "stdout",
     "output_type": "stream",
     "text": [
      "1***************\n",
      "Sphere ID: Sphere 1\n",
      "Color: White\n",
      "Volume: 4.1888\n",
      "2***************\n",
      "3***************\n",
      "Sphere ID: Sphere 2\n",
      "Color: White\n",
      "Volume: 113.09759999999999\n",
      "4***************\n",
      "5***************\n",
      "Sphere ID: Sphere 3\n",
      "Color: White\n",
      "Volume: 33.5104\n",
      "6***************\n",
      "Spheres are being merged\n",
      "7***************\n",
      "Sphere ID: Sphere 3\n",
      "Color: White\n",
      "Volume: 150.7968\n",
      "8***************\n",
      "9***************\n",
      "Spheres are being merged\n",
      "10***************\n",
      "Sphere ID: Sphere 4\n",
      "Color: Mixed Color\n",
      "Volume: 674.3967999999999\n"
     ]
    }
   ],
   "source": [
    "# Question 3\n",
    "\n",
    "class Sphere:\n",
    "    def __init__(self, name, radius = 1, color = \"White\"):\n",
    "        self.name = name\n",
    "        self.radius = radius\n",
    "        self.color = color\n",
    "        self.volume = (4/3) * 3.1416 * pow(self.radius, 3)\n",
    "\n",
    "    def merge_sphere(self, *num):\n",
    "        print(\"Spheres are being merged\")\n",
    "        for i in num:\n",
    "            self.volume += i.volume\n",
    "\n",
    "            if self.color != i.color:\n",
    "                self.color = \"Mixed Color\"\n",
    "    \n",
    "    def printDetails(self):\n",
    "        print(f'Sphere ID: {self.name}')\n",
    "        print(f'Color: {self.color}')\n",
    "        print(f'Volume: {self.volume}')\n",
    "\n",
    "sphere1 = Sphere(\"Sphere 1\")\n",
    "print(\"1***************\")\n",
    "sphere1.printDetails()\n",
    "print(\"2***************\")\n",
    "sphere2 = Sphere(\"Sphere 2\", 3)\n",
    "print(\"3***************\")\n",
    "sphere2.printDetails()\n",
    "print(\"4***************\")\n",
    "sphere3 = Sphere(\"Sphere 3\", 2)\n",
    "print(\"5***************\")\n",
    "sphere3.printDetails()\n",
    "print(\"6***************\")\n",
    "sphere3.merge_sphere(sphere1,sphere2)\n",
    "print(\"7***************\")\n",
    "sphere3.printDetails()\n",
    "print(\"8***************\")\n",
    "sphere4 = Sphere(\"Sphere 4\", 5, \"Purple\")\n",
    "print(\"9***************\")\n",
    "sphere4.merge_sphere(sphere3)\n",
    "print(\"10***************\")\n",
    "sphere4.printDetails()"
   ]
  }
 ],
 "metadata": {
  "kernelspec": {
   "display_name": "Python 3",
   "language": "python",
   "name": "python3"
  },
  "language_info": {
   "codemirror_mode": {
    "name": "ipython",
    "version": 3
   },
   "file_extension": ".py",
   "mimetype": "text/x-python",
   "name": "python",
   "nbconvert_exporter": "python",
   "pygments_lexer": "ipython3",
   "version": "3.11.3"
  },
  "orig_nbformat": 4
 },
 "nbformat": 4,
 "nbformat_minor": 2
}
