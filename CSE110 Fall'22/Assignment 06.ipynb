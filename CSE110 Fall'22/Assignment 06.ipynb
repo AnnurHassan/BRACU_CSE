{
 "cells": [
  {
   "cell_type": "code",
   "execution_count": 1,
   "metadata": {},
   "outputs": [
    {
     "name": "stdout",
     "output_type": "stream",
     "text": [
      "400\n"
     ]
    }
   ],
   "source": [
    "#Task 01\n",
    "\n",
    "a_tuple = (\"The Institute\", (\"Best Mystery & Thriller\", \"The Silent Patient\", 68821), 75717,[1, 2, 3, 400, 5, 6, 7], (\"Best Fiction\", \"The Testaments\", 98291))\n",
    "print(a_tuple[3][3])\n",
    "\n",
    "\n"
   ]
  },
  {
   "cell_type": "code",
   "execution_count": 2,
   "metadata": {},
   "outputs": [
    {
     "name": "stdout",
     "output_type": "stream",
     "text": [
      "(24, 25, 26)\n"
     ]
    }
   ],
   "source": [
    "#Task 02\n",
    "\n",
    "given_tuple = (10, 20, 24, 25, 26, 35, 70)\n",
    "print(given_tuple[2:-2])"
   ]
  },
  {
   "cell_type": "code",
   "execution_count": 6,
   "metadata": {},
   "outputs": [
    {
     "name": "stdout",
     "output_type": "stream",
     "text": [
      "Size of the tuple is: 4\n",
      "('Best Mystery & Thriller', 'The Silent Patient', 68, 821)\n",
      "('Best Horror', 'The Institute', 75, 717)\n",
      "('Best History & Biography', 'The five', 31, 783)\n",
      "('Best Fiction', 'The Testaments', 98, 291)\n"
     ]
    }
   ],
   "source": [
    "#Task 03\n",
    "\n",
    "book_info = ((\"Best Mystery & Thriller\",\"The Silent Patient\",68821),(\"Best Horror\",\"The Institute\",75717),(\"Best History & Biography\",\"The five\",31783 ),(\"Best Fiction\",\"The Testaments\",98291))\n",
    "print(f'Size of the tuple is: {len(book_info)}')\n",
    "for i in book_info:\n",
    "    print(i)\n"
   ]
  },
  {
   "cell_type": "code",
   "execution_count": 8,
   "metadata": {},
   "outputs": [
    {
     "name": "stdout",
     "output_type": "stream",
     "text": [
      "The Silent Patient won the 'Best Mystery & Thriller' with 68821 votes.\n",
      "The Institute won the 'Best Horror' with 75717 votes.\n",
      "The five won the 'Best History & Biography' with 31783 votes.\n",
      "The Testaments won the 'Best Fiction' with 98291 votes.\n"
     ]
    }
   ],
   "source": [
    "#Task 04\n",
    "\n",
    "book_info = ((\"Best Mystery & Thriller\",\"The Silent Patient\",68821),(\"Best Horror\",\"The Institute\",75717),(\"Best History & Biography\",\"The five\",31783 ),(\"Best Fiction\",\"The Testaments\",98291))\n",
    "for i in range(len(book_info)):\n",
    "    catagory, book_name, votes = book_info[i]\n",
    "    print(f\"{book_name} won the '{catagory}' with {votes} votes.\")\n",
    "        \n",
    "     \n"
   ]
  },
  {
   "cell_type": "code",
   "execution_count": 11,
   "metadata": {},
   "outputs": [
    {
     "name": "stdout",
     "output_type": "stream",
     "text": [
      "1 appears 0 times in the tuple.\n"
     ]
    }
   ],
   "source": [
    "#Task 05\n",
    "\n",
    "given_tuple = (10, 8, 5, 2, 10, 15, 10, 8, 5, 8, 8, 2)\n",
    "num = int(input(\"Please enter a number: \"))\n",
    "count = 0\n",
    "for i in given_tuple:\n",
    "    if i == num:\n",
    "        count += 1\n",
    "print(f'{num} appears {count} times in the tuple.')\n"
   ]
  },
  {
   "cell_type": "code",
   "execution_count": 30,
   "metadata": {},
   "outputs": [
    {
     "name": "stdout",
     "output_type": "stream",
     "text": [
      "('h', 'g', 'f', 'e', 'd', 'c', 'b', 'a')\n"
     ]
    }
   ],
   "source": [
    "#Task 06\n",
    "\n",
    "given_tuple = ('a', 'b', 'c', 'd', 'e', 'f', 'g', 'h')\n",
    "list1 = list(given_tuple)\n",
    "new_list = []\n",
    "for i in range(len(list1)-1,-1,-1):\n",
    "    new_list.append(list1[i])\n",
    "print(tuple(new_list))"
   ]
  },
  {
   "cell_type": "code",
   "execution_count": 45,
   "metadata": {},
   "outputs": [
    {
     "name": "stdout",
     "output_type": "stream",
     "text": [
      "{'Harry': 15, 'Draco': 8, 'Nevil': 19, 'Ginie': 18, 'Luna': 14}\n"
     ]
    }
   ],
   "source": [
    "#Task 07\n",
    "\n",
    "dict1 ={'Harry':15, 'Draco':8, 'Nevil':19}\n",
    "dict2 = {'Ginie':18, 'Luna': 14}\n",
    "for key,value in dict2.items():\n",
    "    dict1[key] = value\n",
    "print(dict1)"
   ]
  },
  {
   "cell_type": "code",
   "execution_count": 8,
   "metadata": {},
   "outputs": [
    {
     "name": "stdout",
     "output_type": "stream",
     "text": [
      "Average is 200\n"
     ]
    }
   ],
   "source": [
    "#Task 08\n",
    "\n",
    "dict1 = {}\n",
    "string = input(\"Please enter a string: \")\n",
    "string = string[1:-1]\n",
    "string = string.split(\",\")\n",
    "for i in string:\n",
    "    i = i.split(\":\")\n",
    "    key,value = i\n",
    "    dict1[key] = int(value)\n",
    "count = len(dict1.values())\n",
    "sum = 0\n",
    "for i in dict1.values():\n",
    "    sum += i\n",
    "average = sum / count\n",
    "print(f'Average is {int(average)}')   "
   ]
  },
  {
   "cell_type": "code",
   "execution_count": 15,
   "metadata": {},
   "outputs": [
    {
     "name": "stdout",
     "output_type": "stream",
     "text": [
      "{'Alden Cantrell': 200, 'Pierre Cox': 190}\n"
     ]
    }
   ],
   "source": [
    "#Task 09\n",
    "\n",
    "new_dict = {}\n",
    "exam_marks = {'Cierra Vega': 175, 'Alden Cantrell': 200, 'Kierra Gentry': 165, 'Pierre Cox': 190}\n",
    "num = int(input(\"Please enter a number: \"))\n",
    "for key,value in exam_marks.items():\n",
    "    if value >= num:\n",
    "        new_dict[key] = value\n",
    "print(new_dict)\n"
   ]
  },
  {
   "cell_type": "code",
   "execution_count": 18,
   "metadata": {},
   "outputs": [
    {
     "name": "stdout",
     "output_type": "stream",
     "text": [
      "The highest selling book genre is 'horror' and the number of books sold are 14.\n"
     ]
    }
   ],
   "source": [
    "#Task 10\n",
    "\n",
    "given_dict = {'sci fi': 5, 'mystery': 3, 'horror': 14, 'young_adult': 2, 'adventure':9}\n",
    "max = -9999\n",
    "for key,value in given_dict.items():\n",
    "    if value > max:\n",
    "        max = value\n",
    "        largest_value = value\n",
    "        corresponding_key = key\n",
    "print(f\"The highest selling book genre is '{corresponding_key}' and the number of books sold are {largest_value}.\")"
   ]
  },
  {
   "cell_type": "code",
   "execution_count": 26,
   "metadata": {},
   "outputs": [
    {
     "name": "stdout",
     "output_type": "stream",
     "text": [
      "{'p': 2, 'y': 1, 't': 1, 'h': 1, 'o': 2, 'n': 3, 'r': 2, 'g': 2, 'a': 1, 'm': 2, 'i': 2, 's': 1, 'f': 1, 'u': 1}\n"
     ]
    }
   ],
   "source": [
    "#Task 11\n",
    "\n",
    "string = input(\"Please enter a string: \")\n",
    "\n",
    "new_dict = {}\n",
    "string = string.lower()\n",
    "rem = \"\"\n",
    "for i in (string):\n",
    "    if i == \" \":\n",
    "        continue\n",
    "    else:\n",
    "        count = 0\n",
    "        if i not in rem:\n",
    "            for elem in (string):\n",
    "                if elem == i:\n",
    "                    count += 1\n",
    "            rem += i\n",
    "            new_dict[i] = count\n",
    "print(new_dict)"
   ]
  },
  {
   "cell_type": "code",
   "execution_count": 1,
   "metadata": {},
   "outputs": [
    {
     "name": "stdout",
     "output_type": "stream",
     "text": [
      "9\n"
     ]
    }
   ],
   "source": [
    "#Task 12\n",
    "\n",
    "dict_1 = {'A': [1, 2, 3], 'b': ['1', '2'], \"c\": [4, 5, 6, 7]}\n",
    "count = 0\n",
    "for i in dict_1.values():\n",
    "    for n in i:\n",
    "        count += 1\n",
    "print(count)"
   ]
  },
  {
   "cell_type": "code",
   "execution_count": 3,
   "metadata": {},
   "outputs": [
    {
     "name": "stdout",
     "output_type": "stream",
     "text": [
      "{'a': [1, 3, 2], 'b': [2, 1], 'c': [1]}\n"
     ]
    }
   ],
   "source": [
    "#Task 13\n",
    "new_dict = {}\n",
    "list_1 = [(\"a\", 1), (\"b\", 2), (\"a\", 3), (\"b\", 1), (\"a\", 2), (\"c\", 1)]\n",
    "for i in list_1:\n",
    "    new_dict[i[0]] = []\n",
    "for i in list_1:\n",
    "    new_dict[i[0]].append(i[1])\n",
    "print(new_dict)\n"
   ]
  },
  {
   "cell_type": "markdown",
   "metadata": {},
   "source": [
    "||| T R A C I N G |||"
   ]
  },
  {
   "cell_type": "code",
   "execution_count": 4,
   "metadata": {},
   "outputs": [
    {
     "name": "stdout",
     "output_type": "stream",
     "text": [
      "8\n",
      "a -> 17\n",
      "10\n",
      "b -> 19\n",
      "2\n",
      "c -> 5\n",
      "-7\n",
      "d -> -14\n",
      "2\n",
      "e -> 5\n"
     ]
    }
   ],
   "source": [
    "#Task 14\n",
    "\n",
    "dict1 = {'a':59 , 'b':-82 , 'c':5 , 'd':-81 , 'e':53}\n",
    "for i in dict1:\n",
    "    j = 0\n",
    "    k = 22\n",
    "    while j < 5:\n",
    "        if j % 2 == 0:\n",
    "            k = dict1[i] + j - (8 + k % 6) / 3\n",
    "            dict1[i] = dict1[i]+ int(k)\n",
    "        else:\n",
    "            k = dict1[i] + j - (6 - k % 8) * 3\n",
    "            dict1[i] = dict1[i] - int(k)\n",
    "        j += 1\n",
    "    print(int(k))\n",
    "    print(i + \" -> \" + str(dict1[i]))"
   ]
  },
  {
   "cell_type": "markdown",
   "metadata": {},
   "source": [
    "||| U N G R A D E D |||"
   ]
  },
  {
   "cell_type": "code",
   "execution_count": 6,
   "metadata": {},
   "outputs": [
    {
     "name": "stdout",
     "output_type": "stream",
     "text": [
      "[242, 1815, 4235, 484]\n"
     ]
    }
   ],
   "source": [
    "#Task 15\n",
    "new_list = []\n",
    "given_list = [(11, 22), (33, 55), (55, 77), (11, 44)]\n",
    "for i in given_list:\n",
    "    a,b = i\n",
    "    new_list.append(a*b)\n",
    "print(new_list)"
   ]
  },
  {
   "cell_type": "code",
   "execution_count": 9,
   "metadata": {},
   "outputs": [
    {
     "name": "stdout",
     "output_type": "stream",
     "text": [
      "([1, 2, '1000'], [4, 5, '1000'], [7, 8, '1000'], [10, 11, '1000'])\n"
     ]
    }
   ],
   "source": [
    "#Task 16\n",
    "\n",
    "a_tuple = ( [1, 2, 3], [4, 5, 6], [7, 8, 9], [10, 11, 12])\n",
    "string = input(\"Please enter a string: \")\n",
    "for i in a_tuple:\n",
    "    i[-1] = string\n",
    "print(a_tuple)"
   ]
  },
  {
   "cell_type": "code",
   "execution_count": 13,
   "metadata": {},
   "outputs": [
    {
     "name": "stdout",
     "output_type": "stream",
     "text": [
      "{'c1': 'Red', 'c2': 'Green', 'd4': 'Blue'}\n"
     ]
    }
   ],
   "source": [
    "#Task 17\n",
    "\n",
    "my_dictionary = {'c1':'Red', 'c2':'Green', 'c3':None, 'd4':'Blue', 'a5':None}\n",
    "new_dict = {}\n",
    "for key,values in my_dictionary.items():\n",
    "    if values == None:\n",
    "        pass\n",
    "    else:\n",
    "        new_dict[key] = values\n",
    "print(new_dict)"
   ]
  },
  {
   "cell_type": "code",
   "execution_count": 16,
   "metadata": {},
   "outputs": [
    {
     "name": "stdout",
     "output_type": "stream",
     "text": [
      "{}\n"
     ]
    }
   ],
   "source": [
    "#Task 18\n",
    "\n",
    "\n",
    "dict_1 = {'a' : 6, 'b' : 7, 'c' : 9, 'd' : 8, 'e' : 11, 'f' : 12, 'g' : 13}\n",
    "start = int(input(\"Please enter a starting range: \"))\n",
    "stop = int(input(\"Please enter a stopping range: \"))\n",
    "new_dict = {}\n",
    "for key,values in dict_1.items():\n",
    "    if values in range(start,stop):\n",
    "        new_dict[key] = values\n",
    "print(new_dict)\n"
   ]
  },
  {
   "cell_type": "code",
   "execution_count": 22,
   "metadata": {},
   "outputs": [
    {
     "name": "stdout",
     "output_type": "stream",
     "text": [
      "{80: [(20, 80), (31, 80)], 22: [(1, 22)], 11: [(88, 11), (27, 11)]}\n"
     ]
    }
   ],
   "source": [
    "#Task 19\n",
    "\n",
    "new_dict = {}\n",
    "given_tuple = [(20, 80), (31, 80), (1, 22), (88, 11), (27, 11)]\n",
    "for i in given_tuple:\n",
    "    new_dict[i[1]] = []\n",
    "for key in new_dict:\n",
    "    for i in given_tuple:\n",
    "        a,b = i\n",
    "        if b == key:\n",
    "            new_dict[i[1]].append(i)\n",
    "print(new_dict)"
   ]
  },
  {
   "cell_type": "code",
   "execution_count": 1,
   "metadata": {},
   "outputs": [
    {
     "ename": "ValueError",
     "evalue": "invalid literal for int() with base 10: ''",
     "output_type": "error",
     "traceback": [
      "\u001b[1;31m---------------------------------------------------------------------------\u001b[0m",
      "\u001b[1;31mValueError\u001b[0m                                Traceback (most recent call last)",
      "Cell \u001b[1;32mIn [1], line 2\u001b[0m\n\u001b[0;32m      1\u001b[0m \u001b[39m#Task 20\u001b[39;00m\n\u001b[1;32m----> 2\u001b[0m num1 \u001b[39m=\u001b[39m \u001b[39mint\u001b[39;49m(\u001b[39minput\u001b[39;49m(\u001b[39m\"\u001b[39;49m\u001b[39mPlease enter a number: \u001b[39;49m\u001b[39m\"\u001b[39;49m))\n\u001b[0;32m      3\u001b[0m num2 \u001b[39m=\u001b[39m \u001b[39mint\u001b[39m(\u001b[39minput\u001b[39m(\u001b[39m\"\u001b[39m\u001b[39mPlease enter a number: \u001b[39m\u001b[39m\"\u001b[39m))\n",
      "\u001b[1;31mValueError\u001b[0m: invalid literal for int() with base 10: ''"
     ]
    }
   ],
   "source": [
    "#Task 20\n",
    "num1 = int(input(\"Please enter a number: \"))\n",
    "num2 = int(input(\"Please enter a number: \"))\n"
   ]
  }
 ],
 "metadata": {
  "kernelspec": {
   "display_name": "Python 3.11.0 64-bit",
   "language": "python",
   "name": "python3"
  },
  "language_info": {
   "codemirror_mode": {
    "name": "ipython",
    "version": 3
   },
   "file_extension": ".py",
   "mimetype": "text/x-python",
   "name": "python",
   "nbconvert_exporter": "python",
   "pygments_lexer": "ipython3",
   "version": "3.11.0"
  },
  "orig_nbformat": 4,
  "vscode": {
   "interpreter": {
    "hash": "498855faaa6f9836163d545070b42acc99cdc01841cba1b8d28d167406f7ff2b"
   }
  }
 },
 "nbformat": 4,
 "nbformat_minor": 2
}
