{
 "cells": [
  {
   "cell_type": "code",
   "execution_count": 25,
   "metadata": {},
   "outputs": [
    {
     "name": "stdout",
     "output_type": "stream",
     "text": [
      "Numbers in List: [3]\n",
      "Numbers in List: [3, 5]\n",
      "Numbers in List: [3, 5, 34]\n",
      "Numbers in List: [3, 5, 34, -11]\n",
      "Numbers in List: [3, 5, 34, -11, 0]\n"
     ]
    }
   ],
   "source": [
    "#Task 01\n",
    "\n",
    "list1 = []\n",
    "for i in range(5):\n",
    "    num = int(input(\"Please enter a number: \"))\n",
    "    list1.append(num)\n",
    "    print(f'Numbers in List: {list1}')"
   ]
  },
  {
   "cell_type": "code",
   "execution_count": 27,
   "metadata": {},
   "outputs": [
    {
     "name": "stdout",
     "output_type": "stream",
     "text": [
      "[24, 25, 26]\n"
     ]
    }
   ],
   "source": [
    "#Task 02 \n",
    "\n",
    "list1 = [] \n",
    "string = input(\"Please enter a number: \").split(\",\")\n",
    "for i in string:\n",
    "    list1.append(int(i))\n",
    "if len(list1) >= 4:\n",
    "    print(list1[2:-2])\n",
    "else:\n",
    "    print(\"Not Possible.\") "
   ]
  },
  {
   "cell_type": "code",
   "execution_count": 3,
   "metadata": {},
   "outputs": [
    {
     "name": "stdout",
     "output_type": "stream",
     "text": [
      "Printing values from the list in reverse order: \n",
      "0\n",
      "1\n",
      "100\n",
      "-5\n",
      "5\n"
     ]
    }
   ],
   "source": [
    "#Task 03\n",
    "\n",
    "list1 = []\n",
    "reverse_list = []\n",
    "for i in range(5):\n",
    "    num = int(input(\"Please enter a number: \"))\n",
    "    list1.append(num) \n",
    "print(\"Printing values from the list in reverse order: \")\n",
    "for i in range(1,len(list1)+1): \n",
    "    print(list1[-i])"
   ]
  },
  {
   "cell_type": "code",
   "execution_count": 6,
   "metadata": {},
   "outputs": [
    {
     "name": "stdout",
     "output_type": "stream",
     "text": [
      "[1, 4, 9, 16, 25, 36, 49]\n"
     ]
    }
   ],
   "source": [
    "#Task 04\n",
    "list1 = [1,2,3,4,5,6,7]\n",
    "new_list = []\n",
    "for i in list1:\n",
    "    new_list.append(pow(i,2))\n",
    "print(new_list)"
   ]
  },
  {
   "cell_type": "code",
   "execution_count": 2,
   "metadata": {},
   "outputs": [
    {
     "name": "stdout",
     "output_type": "stream",
     "text": [
      "Original List: ['hey', 'there', '', \"what's\", '', 'up', '', '?']\n",
      "Modified List: ['hey', 'there', \"what's\", 'up', '?']\n"
     ]
    }
   ],
   "source": [
    "#Task 05\n",
    "\n",
    "given_list = [\"hey\", \"there\", \"\", \"what's\", \"\", \"up\", \"\", \"?\"]\n",
    "new_list = []\n",
    "for i in given_list:\n",
    "    if i == \"\":\n",
    "        continue\n",
    "    else:\n",
    "        new_list.append(i)\n",
    "print(f'Original List: {given_list}')\n",
    "print(f'Modified List: {new_list}')"
   ]
  },
  {
   "cell_type": "code",
   "execution_count": 30,
   "metadata": {},
   "outputs": [
    {
     "name": "stdout",
     "output_type": "stream",
     "text": [
      "My List: [7, 13, 2, 10, 6, -11, 0]\n",
      "Largest number in the list is 13 which was found at index 1.\n"
     ]
    }
   ],
   "source": [
    "#Task 06\n",
    "\n",
    "string = input(\"Please enter a number: \")\n",
    "new_list = []\n",
    "rem = \"\"\n",
    "for i in string:\n",
    "  if i == \",\":\n",
    "    new_list.append(int(rem))\n",
    "    rem = \"\"\n",
    "  else:\n",
    "    rem = rem + i\n",
    "new_list.append(int(rem))\n",
    "max = -9999\n",
    "for i in range(len(new_list)):\n",
    "    if new_list[i] > max:\n",
    "        max = new_list[i]\n",
    "        index = i\n",
    "print(f'My List: {new_list}')\n",
    "print(f'Largest number in the list is {max} which was found at index {index}.')"
   ]
  },
  {
   "cell_type": "code",
   "execution_count": 6,
   "metadata": {},
   "outputs": [
    {
     "name": "stdout",
     "output_type": "stream",
     "text": [
      "[1, 4, 7, 6, 1, 3, 9]\n"
     ]
    }
   ],
   "source": [
    "#Task 07\n",
    "\n",
    "list_one = [1, 4, 7, 5]\n",
    "list_two = [6, 1, 3, 9]\n",
    "print(list_one[:-1]+list_two)"
   ]
  },
  {
   "cell_type": "code",
   "execution_count": 8,
   "metadata": {},
   "outputs": [
    {
     "name": "stdout",
     "output_type": "stream",
     "text": [
      "[2, 4, 6, 8, 10, 12, -14, -16]\n"
     ]
    }
   ],
   "source": [
    "#Task 08\n",
    "\n",
    "list_one = [1, 2, 3, 4, 5, 6, 7, 8, 9]\n",
    "list_two = [10, 11, 12, -13, -14, -15, -16]\n",
    "new_list = []\n",
    "for i in list_one:\n",
    "    if i % 2 == 0:\n",
    "        new_list.append(i)\n",
    "for i in list_two:\n",
    "    if i % 2 == 0:\n",
    "        new_list.append(i)\n",
    "print(new_list)"
   ]
  },
  {
   "cell_type": "code",
   "execution_count": 13,
   "metadata": {},
   "outputs": [
    {
     "name": "stdout",
     "output_type": "stream",
     "text": [
      "Original List: [7, 12, 4, 55, 96, 2, 11, 61, 33, 42]\n",
      "Modified List: [7, 55, 11, 61, 33]\n"
     ]
    }
   ],
   "source": [
    "#Task 09\n",
    "\n",
    "string = input(\"Please enter a string: \")\n",
    "new_list = []\n",
    "rem = \"\"\n",
    "for i in string:\n",
    "    if i == \" \":\n",
    "        new_list.append(int(rem))\n",
    "        rem = \"\"\n",
    "    else:\n",
    "        rem += i\n",
    "new_list.append(int(rem))\n",
    "mod_list = []\n",
    "for i in new_list:\n",
    "    if i % 2 != 0:\n",
    "        mod_list.append(i)\n",
    "print(f'Original List: {new_list}')\n",
    "print(f'Modified List: {mod_list}')"
   ]
  },
  {
   "cell_type": "code",
   "execution_count": 29,
   "metadata": {},
   "outputs": [
    {
     "name": "stdout",
     "output_type": "stream",
     "text": [
      "Input List: [0, 0, 1, 2, 3, 4, 4, 5, 6, 6, 6, 7, 8, 9, 4, 4]\n",
      "Modified List: [0, 1, 2, 3, 4, 5, 6, 7, 8, 9]\n"
     ]
    }
   ],
   "source": [
    "#Task 10\n",
    "\n",
    "string = input(\"Please enter a string: \")\n",
    "new_list = []\n",
    "rem = \"\"\n",
    "for i in string:\n",
    "  if i == \",\":\n",
    "    new_list.append(int(rem))\n",
    "    rem = \"\"\n",
    "  else:\n",
    "    rem = rem + i\n",
    "new_list.append(int(rem))\n",
    "checker = []\n",
    "mod_list = []\n",
    "for i in new_list:\n",
    "    if i in checker:\n",
    "        continue\n",
    "    else:\n",
    "        mod_list.append(i)\n",
    "        checker.append(i)\n",
    "print(f'Input List: {new_list}')\n",
    "print(f'Modified List: {mod_list}')"
   ]
  },
  {
   "cell_type": "code",
   "execution_count": 18,
   "metadata": {},
   "outputs": [
    {
     "name": "stdout",
     "output_type": "stream",
     "text": [
      "False\n"
     ]
    }
   ],
   "source": [
    "#Task 11\n",
    "\n",
    "list_one = [1, 4, 3, 2, 5]\n",
    "list_two = [6, 9, 8, 7]\n",
    "flag = False\n",
    "for i in list_one:\n",
    "    if i in list_two:\n",
    "        flag = True\n",
    "    else:\n",
    "        for i in list_two:\n",
    "            if i in list_one:\n",
    "                flag = True\n",
    "\n",
    "print(flag)"
   ]
  },
  {
   "cell_type": "code",
   "execution_count": 19,
   "metadata": {},
   "outputs": [
    {
     "name": "stdout",
     "output_type": "stream",
     "text": [
      "5\n",
      "9\n",
      "15\n",
      "25\n",
      "43\n",
      "77\n",
      "143\n",
      "273\n",
      "531\n"
     ]
    }
   ],
   "source": [
    "#Task 12\n",
    "\n",
    "myList = [0, 0, 0, 0, 0, 0, 0, 0, 0, 0]\n",
    "index1 = 0\n",
    "index2 = 0\n",
    "index1 = 1\n",
    "while(index1<10):\n",
    "    myList[index1] = index1+4\n",
    "    index2 = 1\n",
    "    while(index2<index1):\n",
    "        myList[index1] = myList[index1] + myList[index2]-index1\n",
    "        index2 = index2+1\n",
    "    print(myList[index1])\n",
    "    index1 = index1+1\n",
    "\n"
   ]
  },
  {
   "cell_type": "code",
   "execution_count": 20,
   "metadata": {},
   "outputs": [
    {
     "name": "stdout",
     "output_type": "stream",
     "text": [
      "5\n",
      "3\n",
      "-5\n",
      "-12\n",
      "-12\n",
      "-6\n",
      "-1\n",
      "-3\n",
      "-11\n"
     ]
    }
   ],
   "source": [
    "#Task 13\n",
    "\n",
    "myList = [0, 0, 0, 0, 0, 0, 0, 0, 0, 0]\n",
    "index1 = 0\n",
    "index2 = 0\n",
    "index1 = 1\n",
    "while (index1 < 10):\n",
    "    myList[index1] = index1 + 4\n",
    "    index2 = 1\n",
    "    while (index2 < index1):\n",
    "        myList[index1] = myList[index1-1] - myList[index2-1] - index1\n",
    "        index2 = index2 + 1\n",
    "    print(myList[index1])\n",
    "    index1 = index1 + 1\n",
    "\n"
   ]
  },
  {
   "cell_type": "code",
   "execution_count": 21,
   "metadata": {},
   "outputs": [
    {
     "name": "stdout",
     "output_type": "stream",
     "text": [
      "3\n",
      "5\n",
      "7\n",
      "9\n",
      "11\n",
      "13\n",
      "15\n",
      "17\n",
      "19\n"
     ]
    }
   ],
   "source": [
    "#Task 14\n",
    "\n",
    "\n",
    "myList = [0, 0, 0, 0, 0, 0, 0, 0, 0, 0]\n",
    "b = []\n",
    "index1 = 0\n",
    "index2 = 0\n",
    "index1 = 1\n",
    "b = myList\n",
    "while(index1<10):\n",
    "    myList[index1] = index1+2\n",
    "    index2 = 1\n",
    "    while(index2<index1):\n",
    "        myList[index1] = b[index1]+myList[index2]-index1\n",
    "        index2 = index2+1\n",
    "    print(myList[index1])\n",
    "    index1 = index1+1\n",
    "\n"
   ]
  },
  {
   "cell_type": "code",
   "execution_count": 22,
   "metadata": {},
   "outputs": [
    {
     "name": "stdout",
     "output_type": "stream",
     "text": [
      "2\n",
      "0\n",
      "-1\n",
      "-5\n",
      "-11\n",
      "-22\n",
      "-40\n",
      "-70\n",
      "-119\n"
     ]
    }
   ],
   "source": [
    "#Task 15\n",
    "\n",
    "\n",
    "myList = [0, 0, 0, 0, 0, 0, 0, 0, 0, 0]\n",
    "b = []\n",
    "index1 = 0\n",
    "index2 = 0\n",
    "index1 = 1\n",
    "b = myList\n",
    "while (index1 < 10):\n",
    "    myList[index1] = index1 + 1\n",
    "    index2 = 1\n",
    "    while (index2 < index1):\n",
    "        myList[index1] = b[index2-1] + myList[index2] - index1\n",
    "        index2 = index2 + 1\n",
    "    print(myList[index1])\n",
    "    index1 = index1 + 1\n",
    "\n"
   ]
  },
  {
   "cell_type": "code",
   "execution_count": 8,
   "metadata": {},
   "outputs": [
    {
     "name": "stdout",
     "output_type": "stream",
     "text": [
      "Second Largest number in the list is 10 which was found at index 3. \n"
     ]
    }
   ],
   "source": [
    "#Task 16\n",
    "\n",
    "list1 = []\n",
    "for i in range(7):\n",
    "    num = int(input(\"Please enter a number: \"))\n",
    "    list1.append(num)\n",
    "max = -9999\n",
    "smax = -9999\n",
    "index = 0\n",
    "for i in list1:\n",
    "    if i > max:\n",
    "        max = i \n",
    "for i in range(len(list1)):\n",
    "    if list1[i] < max and list1[i] > smax:\n",
    "        smax = list1[i]\n",
    "        index = i\n",
    "print(f'Second Largest number in the list is {smax} which was found at index {index}. ')           \n",
    "\n"
   ]
  },
  {
   "cell_type": "code",
   "execution_count": 10,
   "metadata": {},
   "outputs": [
    {
     "name": "stdout",
     "output_type": "stream",
     "text": [
      "Smallest number in the list is -5 which was found at index 2.\n",
      "Largest number in the list is 13 which was found at index 1\n"
     ]
    }
   ],
   "source": [
    "#Task 17\n",
    "\n",
    "list1 = []\n",
    "for i in range(5):\n",
    "    num = int(input(\"Please enter a number: \"))\n",
    "    list1.append(num)\n",
    "max = -9999\n",
    "min = 9999\n",
    "for i in range(len(list1)):\n",
    "    if list1[i] > max:\n",
    "        max = list1[i]\n",
    "        max_index = i\n",
    "    elif list1[i] < min:\n",
    "        min = list1[i]\n",
    "        min_index = i\n",
    "print(f'Smallest number in the list is {min} which was found at index {min_index}.')\n",
    "print(f'Largest number in the list is {max} which was found at index {max_index}')"
   ]
  },
  {
   "cell_type": "code",
   "execution_count": 18,
   "metadata": {},
   "outputs": [
    {
     "name": "stdout",
     "output_type": "stream",
     "text": [
      "['1', 'A']\n"
     ]
    }
   ],
   "source": [
    "#Task 18\n",
    " \n",
    "list1= input(\"Please enter a number: \").split(\",\")\n",
    "list2 = input(\"Please enter a number: \").split(\",\")\n",
    "new_list = []\n",
    "for i in list1:\n",
    "    if i in list2:\n",
    "        new_list.append(i)\n",
    "print(new_list)"
   ]
  },
  {
   "cell_type": "code",
   "execution_count": 28,
   "metadata": {},
   "outputs": [
    {
     "name": "stdout",
     "output_type": "stream",
     "text": [
      "[1, 2, 4, 5, 7, 99, 200, 303, 70, 3, 500, -5]\n"
     ]
    }
   ],
   "source": [
    "#Task 19\n",
    "\n",
    "list1 = [1, 2, 2, 4, 5, 5, 7, 99, 200, 303, 70]\n",
    "list2 = [1, 1, 2, 3, 3, 3, 4, 5, 200, 500, -5]\n",
    "new_list = [list1[0]]\n",
    "for i in list1:\n",
    "    if i not in new_list:\n",
    "        new_list.append(i)\n",
    "for i in list2:\n",
    "    if i not in new_list:\n",
    "        new_list.append(i)\n",
    "print(new_list)\n"
   ]
  },
  {
   "cell_type": "code",
   "execution_count": 41,
   "metadata": {},
   "outputs": [
    {
     "name": "stdout",
     "output_type": "stream",
     "text": [
      "[1, 2, 3, 50, 4]\n"
     ]
    }
   ],
   "source": [
    "#Task 20\n",
    "\n",
    "string = input(\"Please enter a string: \").strip()\n",
    "string = string[1:-1]\n",
    "string = string.split(\",\")\n",
    "new_list = []\n",
    "for i in string:\n",
    "    new_list.append(int(i))\n",
    "print(new_list)"
   ]
  },
  {
   "cell_type": "code",
   "execution_count": 42,
   "metadata": {},
   "outputs": [
    {
     "name": "stdout",
     "output_type": "stream",
     "text": [
      "Given numbers is list: [0, 0, 1, 2, 3, 4, 4, 5, 6, 6, 6, 7, 8, 9, 4, 4]\n",
      "List without anu duplicate values: [0, 1, 2, 3, 4, 5, 6, 7, 8, 9]\n"
     ]
    }
   ],
   "source": [
    "#Task 21\n",
    "\n",
    "string = input(\"Please enter a string: \").split(\",\")\n",
    "list1 = []\n",
    "for i in string:\n",
    "    list1.append(int(i))\n",
    "new_list = [list1[0]]\n",
    "for i in list1:\n",
    "    if i not in new_list:\n",
    "        new_list.append(i)\n",
    "print(f'Given numbers is list: {list1}')\n",
    "print(f'List without anu duplicate values: {new_list}')"
   ]
  }
 ],
 "metadata": {
  "kernelspec": {
   "display_name": "Python 3.11.0 64-bit",
   "language": "python",
   "name": "python3"
  },
  "language_info": {
   "codemirror_mode": {
    "name": "ipython",
    "version": 3
   },
   "file_extension": ".py",
   "mimetype": "text/x-python",
   "name": "python",
   "nbconvert_exporter": "python",
   "pygments_lexer": "ipython3",
   "version": "3.11.0 (main, Oct 24 2022, 18:26:48) [MSC v.1933 64 bit (AMD64)]"
  },
  "orig_nbformat": 4,
  "vscode": {
   "interpreter": {
    "hash": "498855faaa6f9836163d545070b42acc99cdc01841cba1b8d28d167406f7ff2b"
   }
  }
 },
 "nbformat": 4,
 "nbformat_minor": 2
}
