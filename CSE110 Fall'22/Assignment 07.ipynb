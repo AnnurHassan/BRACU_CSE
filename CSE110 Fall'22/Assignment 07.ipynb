{
 "cells": [
  {
   "cell_type": "code",
   "execution_count": 1,
   "metadata": {},
   "outputs": [
    {
     "name": "stdout",
     "output_type": "stream",
     "text": [
      "Even!!\n"
     ]
    }
   ],
   "source": [
    "#Task 01\n",
    "\n",
    "def even_checker(num):\n",
    "    if num % 2 == 0:\n",
    "        print(\"Even!!\")\n",
    "    elif num % 2 == 0:\n",
    "        print(\"Odd!!\")\n",
    "\n",
    "even_checker(2)"
   ]
  },
  {
   "cell_type": "code",
   "execution_count": 3,
   "metadata": {},
   "outputs": [
    {
     "name": "stdout",
     "output_type": "stream",
     "text": [
      "0 1 1 2 3 5 "
     ]
    }
   ],
   "source": [
    "#Task 02\n",
    "\n",
    "def fibonacci(num):\n",
    "    a = 0\n",
    "    b = 1\n",
    "    while a <= num:\n",
    "        print(a,end=\" \")\n",
    "        c = a + b\n",
    "        a = b\n",
    "        b = c\n",
    "\n",
    "fibonacci(5)"
   ]
  },
  {
   "cell_type": "code",
   "execution_count": 1,
   "metadata": {},
   "outputs": [
    {
     "name": "stdout",
     "output_type": "stream",
     "text": [
      "FooMoo\n"
     ]
    }
   ],
   "source": [
    "#Task 03\n",
    "\n",
    "def foo_moo(num):\n",
    "    if num % 2 == 0 and num % 3 == 0:\n",
    "        return \"FooMoo\"\n",
    "    elif num % 2 == 0:\n",
    "        return \"Foo\"\n",
    "    elif num % 3 == 0:\n",
    "        return \"Moo\"\n",
    "    else:\n",
    "        return \"Boo\"\n",
    "\n",
    "print(foo_moo(6))\n",
    "\n",
    "\n"
   ]
  },
  {
   "cell_type": "code",
   "execution_count": 7,
   "metadata": {},
   "outputs": [
    {
     "name": "stdout",
     "output_type": "stream",
     "text": [
      "No. of Uppercase Characters: 4\n",
      "No. of Lowercase Characters: 17\n"
     ]
    }
   ],
   "source": [
    "#Task 04\n",
    "\n",
    "def fuction_name(string):\n",
    "    lower_case = \"qwertyuioplkjhgfdsazxcvbnm\"\n",
    "    upper_case = \"QWERTYUIOPLKJHGFDSAZXCVBNM\"\n",
    "    upper_case_count = 0\n",
    "    lower_case_count = 0\n",
    "    for i in string:\n",
    "        if i in upper_case:\n",
    "            upper_case_count += 1\n",
    "        elif i in lower_case:\n",
    "            lower_case_count += 1\n",
    "    print(f'No. of Uppercase Characters: {upper_case_count}')\n",
    "    print(f'No. of Lowercase Characters: {lower_case_count}')\n",
    "\n",
    "fuction_name(\"The quick Sand Man\")\n"
   ]
  },
  {
   "cell_type": "code",
   "execution_count": 1,
   "metadata": {},
   "outputs": [
    {
     "name": "stdout",
     "output_type": "stream",
     "text": [
      "0\n"
     ]
    }
   ],
   "source": [
    "#Task 05        \n",
    "\n",
    "def calculate_tax(age,salary,designation):\n",
    "    if age < 18:\n",
    "        tax = 0\n",
    "    elif designation == \"president\":\n",
    "        tax = 0\n",
    "    elif salary < 10000:\n",
    "        tax = 0\n",
    "    elif salary >= 10000 and salary <= 20000:\n",
    "        tax = salary * 0.05\n",
    "    elif salary > 20000:\n",
    "        tax = salary * 0.10\n",
    "    return tax\n",
    "\n",
    "age = int(input(\"Please enter your age: \"))\n",
    "salary = int(input(\"Please enter your salary: \"))\n",
    "designation = input(\"Please enter your position: \")\n",
    "print(calculate_tax(age,salary,designation))"
   ]
  },
  {
   "cell_type": "code",
   "execution_count": 2,
   "metadata": {},
   "outputs": [
    {
     "name": "stdout",
     "output_type": "stream",
     "text": [
      "6 years, 2 months and 0 days\n"
     ]
    }
   ],
   "source": [
    "#Task 06\n",
    "\n",
    "def fuction_name(days):\n",
    "    year = days // 365\n",
    "    remaining_days = days - (year * 365)\n",
    "    months = remaining_days // 30\n",
    "    remaining_days = remaining_days - (months * 30)\n",
    "    print(f'{year} years, {months} months and {remaining_days} days')\n",
    "\n",
    "days = int(input(\"Please enter the number of days: \"))\n",
    "fuction_name(days)"
   ]
  },
  {
   "cell_type": "code",
   "execution_count": 12,
   "metadata": {},
   "outputs": [
    {
     "name": "stdout",
     "output_type": "stream",
     "text": [
      "123454321"
     ]
    }
   ],
   "source": [
    "#Task 07\n",
    "\n",
    "def show_palindrome(num):\n",
    "    for i in range(1,num+1):\n",
    "        print(i,end=\"\")\n",
    "    for i in range(num-1,0,-1):\n",
    "        print(i,end=\"\")\n",
    "\n",
    "show_palindrome(5)\n",
    "    "
   ]
  },
  {
   "cell_type": "code",
   "execution_count": 9,
   "metadata": {},
   "outputs": [
    {
     "name": "stdout",
     "output_type": "stream",
     "text": [
      "    1\n",
      "   121\n",
      "  12321\n",
      " 1234321\n",
      "123454321\n"
     ]
    }
   ],
   "source": [
    "#Task 08\n",
    "\n",
    "def show_palindrome(num):\n",
    "    for i in range(1,num+1):\n",
    "        print(i,end=\"\")\n",
    "    for i in range(num-1,0,-1):\n",
    "        print(i,end=\"\")\n",
    "\n",
    "def show_palindromic_triangle(n):\n",
    "    for i in range(1,n+1):\n",
    "        for space in range(n-i):\n",
    "            print(\"\",end=\" \")\n",
    "        show_palindrome(i)\n",
    "        print()\n",
    "\n",
    "show_palindromic_triangle(5)"
   ]
  },
  {
   "cell_type": "code",
   "execution_count": 36,
   "metadata": {},
   "outputs": [
    {
     "name": "stdout",
     "output_type": "stream",
     "text": [
      "(3.141592653589793, 6.283185307179586)\n",
      "Area of the circle is 3.141592653589793 and circumference is 6.283185307179586.\n"
     ]
    }
   ],
   "source": [
    "#Task 09\n",
    "import math\n",
    "\n",
    "def area_circumference_generator(radius):\n",
    "    area = math.pi * pow(radius,2)\n",
    "    circumference = 2 * math.pi * radius\n",
    "    return (area,circumference)\n",
    "\n",
    "val = area_circumference_generator(1)\n",
    "print(val)\n",
    "area,circumference = val\n",
    "print(f'Area of the circle is {area} and circumference is {circumference}.')\n",
    "    "
   ]
  },
  {
   "cell_type": "code",
   "execution_count": 14,
   "metadata": {},
   "outputs": [
    {
     "data": {
      "text/plain": [
       "{1: 1, 2: 4, 3: 9}"
      ]
     },
     "execution_count": 14,
     "metadata": {},
     "output_type": "execute_result"
    }
   ],
   "source": [
    "#Task 10\n",
    "\n",
    "def make_square(start,stop):\n",
    "    dict1 = {}\n",
    "    for i in range(start,stop+1):\n",
    "        dict1[i] = pow(i,2)\n",
    "    return dict1\n",
    "\n",
    "make_square(1,3)"
   ]
  },
  {
   "cell_type": "code",
   "execution_count": 17,
   "metadata": {},
   "outputs": [
    {
     "data": {
      "text/plain": [
       "(1, 2, 3, 4, 5, 6, 0)"
      ]
     },
     "execution_count": 17,
     "metadata": {},
     "output_type": "execute_result"
    }
   ],
   "source": [
    "#Task 11\n",
    "\n",
    "def rem_duplicate(*tuple1):\n",
    "    new_list = []\n",
    "    for i in tuple1:\n",
    "        if i not in new_list:\n",
    "            new_list.append(i)\n",
    "    return tuple(new_list)\n",
    "\n",
    "print(rem_duplicate(1,1,1,2,3,4,5,6,6,6,6,4,0,0,0))"
   ]
  },
  {
   "cell_type": "code",
   "execution_count": 20,
   "metadata": {},
   "outputs": [
    {
     "name": "stdout",
     "output_type": "stream",
     "text": [
      "[1, 2, 3, 3, 4, 5, 8, 8]\n"
     ]
    }
   ],
   "source": [
    "#Task 12\n",
    "\n",
    "def function_name(list1):\n",
    "    new_list = []\n",
    "    rem = []\n",
    "    for i in list1:\n",
    "        if i in new_list:\n",
    "            if i in rem:\n",
    "                continue\n",
    "            else:\n",
    "                rem.append(i) \n",
    "                new_list.append(i)\n",
    "        else:\n",
    "            new_list.append(i)\n",
    "    \n",
    "    return new_list\n",
    "\n",
    "print(function_name([1,2,3,3,3,3,3,4,5,8,8]))\n"
   ]
  },
  {
   "cell_type": "code",
   "execution_count": 32,
   "metadata": {},
   "outputs": [
    {
     "name": "stdout",
     "output_type": "stream",
     "text": [
      "30.0\n"
     ]
    }
   ],
   "source": [
    "#Task 13\n",
    "\n",
    "def function_name(operator,operand1,operand2):\n",
    "    if operator == \"+\":\n",
    "        return operand1 + operand2\n",
    "    elif operator == \"-\":\n",
    "        return operand1 - operand2\n",
    "    elif operator == \"*\":\n",
    "        return operand1 * operand2\n",
    "    elif operator == \"/\":\n",
    "        return operand1 / operand2\n",
    "\n",
    "operator = input(\"Please enter a operator: \")\n",
    "operand1 = float(input(\"Please enter a number: \"))\n",
    "operand2 = float(input(\"Please enter a number: \"))\n",
    "\n",
    "\n",
    "\n",
    "print(function_name(operator,operand1,operand2))"
   ]
  },
  {
   "cell_type": "code",
   "execution_count": 23,
   "metadata": {},
   "outputs": [
    {
     "name": "stdout",
     "output_type": "stream",
     "text": [
      "Pythonis eay to earn.I lov pythn sl eo\n"
     ]
    }
   ],
   "source": [
    "#Task 14\n",
    "\n",
    "def fuction_name(sentence,position):\n",
    "    rem = \"\"\n",
    "    new_string = sentence[0]\n",
    "    for i in range(1,len(sentence)):\n",
    "        if i % position == 0:\n",
    "            rem += sentence[i]\n",
    "        else:\n",
    "            new_string += sentence[i]\n",
    "    return new_string + rem\n",
    "\n",
    "sentence = input(\"Please enter a sentence: \")\n",
    "position = int(input(\"Please enter a positon: \"))\n",
    "print(fuction_name(sentence,position))"
   ]
  },
  {
   "cell_type": "code",
   "execution_count": 28,
   "metadata": {},
   "outputs": [
    {
     "data": {
      "text/plain": [
       "790"
      ]
     },
     "execution_count": 28,
     "metadata": {},
     "output_type": "execute_result"
    }
   ],
   "source": [
    "#Task 15\n",
    "\n",
    "def function_name(list1,location):\n",
    "    total = 0\n",
    "    for i in range(len(list1)):\n",
    "        if list1[i] == \"Rice\":\n",
    "            total += 105\n",
    "        elif list1[i] == \"Potato\":\n",
    "            total += 20\n",
    "        elif list1[i] == \"Chicken\":\n",
    "            total += 250\n",
    "        elif list1[i] == \"Beef\":\n",
    "            total += 510\n",
    "        elif list1[i] == \"Oil\":\n",
    "            total += 85\n",
    "    if location == \"Dhammondi\":\n",
    "        total += 30\n",
    "    else:\n",
    "        total += 70\n",
    "    return total \n",
    "\n",
    "list1 = []\n",
    "num_of_items = int(input(\"Please enter a number of items: \"))\n",
    "for i in range(num_of_items):\n",
    "    items = input(\"Please enter items: \")\n",
    "    list1.append(items)\n",
    "\n",
    "function_name(list1,\"Mohakhali\")\n",
    "\n"
   ]
  },
  {
   "attachments": {},
   "cell_type": "markdown",
   "metadata": {},
   "source": [
    "||| U N G R A D E D|||"
   ]
  },
  {
   "cell_type": "code",
   "execution_count": null,
   "metadata": {},
   "outputs": [],
   "source": [
    "#Task 16\n",
    "\n",
    "def splitting_money(amount):\n",
    "    if  500 "
   ]
  },
  {
   "cell_type": "code",
   "execution_count": null,
   "metadata": {},
   "outputs": [],
   "source": [
    "#Task 17\n",
    "\n",
    "def remove_odd():"
   ]
  }
 ],
 "metadata": {
  "kernelspec": {
   "display_name": "Python 3.11.0 64-bit",
   "language": "python",
   "name": "python3"
  },
  "language_info": {
   "codemirror_mode": {
    "name": "ipython",
    "version": 3
   },
   "file_extension": ".py",
   "mimetype": "text/x-python",
   "name": "python",
   "nbconvert_exporter": "python",
   "pygments_lexer": "ipython3",
   "version": "3.11.0 (main, Oct 24 2022, 18:26:48) [MSC v.1933 64 bit (AMD64)]"
  },
  "orig_nbformat": 4,
  "vscode": {
   "interpreter": {
    "hash": "498855faaa6f9836163d545070b42acc99cdc01841cba1b8d28d167406f7ff2b"
   }
  }
 },
 "nbformat": 4,
 "nbformat_minor": 2
}
