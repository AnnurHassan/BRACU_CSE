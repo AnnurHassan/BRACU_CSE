{
 "cells": [
  {
   "cell_type": "markdown",
   "metadata": {},
   "source": [
    "||| S T A R T ||| O F ||| A S S I G N M E N T - 3 |||"
   ]
  },
  {
   "cell_type": "code",
   "execution_count": 17,
   "metadata": {},
   "outputs": [
    {
     "name": "stdout",
     "output_type": "stream",
     "text": [
      "24,18,12,6,0,-6\n",
      "-------------------------------------\n",
      "-------------------------------------\n",
      "-10,-5,0,5,10,15,20\n",
      "-------------------------------------\n",
      "-------------------------------------\n",
      "18,27,36,45,54,63\n",
      "-------------------------------------\n",
      "-------------------------------------\n",
      "18,-27,36,-45,54,-63\n"
     ]
    }
   ],
   "source": [
    "#Task 01 (A)\n",
    "\n",
    "i = 24\n",
    "for x in range(5):\n",
    "    print(i, end = \",\")\n",
    "    i -= 6\n",
    "print(i)\n",
    "\n",
    "print(\"-------------------------------------\")\n",
    "print(\"-------------------------------------\")\n",
    "\n",
    "#Task 01 (B)\n",
    "\n",
    "i = -10\n",
    "for x in range(6):\n",
    "    print(i, end = \",\")\n",
    "    i += 5\n",
    "print(i)\n",
    "\n",
    "print(\"-------------------------------------\")\n",
    "print(\"-------------------------------------\")\n",
    "\n",
    "#Task 01 (C)\n",
    "\n",
    "i = 18\n",
    "for x in range(5):\n",
    "    print(i, end = \",\")\n",
    "    i += 9\n",
    "print(i)\n",
    "\n",
    "print(\"-------------------------------------\")\n",
    "print(\"-------------------------------------\")\n",
    "\n",
    "#Task 01 (D)\n",
    "\n",
    "i = 18\n",
    "for x in range(5):\n",
    "    if x % 2 == 0:\n",
    "        print(i, end = \",\")\n",
    "    else:\n",
    "        print(\"-\"+str(i), end = \",\")\n",
    "    i += 9\n",
    "print(\"-\"+str(i))\n",
    "\n",
    "\n"
   ]
  },
  {
   "cell_type": "code",
   "execution_count": 1,
   "metadata": {},
   "outputs": [
    {
     "name": "stdout",
     "output_type": "stream",
     "text": [
      "Veyron 5\n",
      "Veyron 5\n",
      "Veyron 5\n",
      "Veyron 5\n",
      "Veyron 5\n"
     ]
    }
   ],
   "source": [
    "#Task 2\n",
    "\n",
    "car_name = input(\"Please enter a car name: \")\n",
    "number = int(input(\"Please enter a number: \"))\n",
    "for i in range(number):\n",
    "    print(car_name)"
   ]
  },
  {
   "cell_type": "code",
   "execution_count": 2,
   "metadata": {},
   "outputs": [
    {
     "name": "stdout",
     "output_type": "stream",
     "text": [
      "2835\n"
     ]
    }
   ],
   "source": [
    "#Task 3\n",
    "sum = 0\n",
    "for i in range(601):\n",
    "    if i%7==0 and i%9==0:\n",
    "        sum += i\n",
    "print(sum)\n"
   ]
  },
  {
   "cell_type": "code",
   "execution_count": 3,
   "metadata": {},
   "outputs": [
    {
     "name": "stdout",
     "output_type": "stream",
     "text": [
      "39814\n"
     ]
    }
   ],
   "source": [
    "#Task 04\n",
    "\n",
    "sum = 0 \n",
    "for i in range(601):\n",
    "    if (i%7==0 and i%9!=0) or (i%7!=0 and i%9==0):\n",
    "        sum += i\n",
    "print(sum)"
   ]
  },
  {
   "cell_type": "code",
   "execution_count": 4,
   "metadata": {},
   "outputs": [
    {
     "name": "stdout",
     "output_type": "stream",
     "text": [
      "11 13 15 17 19 21 23 25 27 29 31 33 35 37 39 41 43 45 47 49 "
     ]
    }
   ],
   "source": [
    "#Task 05\n",
    "\n",
    "for i in range(10,50):\n",
    "    if i%2 != 0:\n",
    "        print(i, end = \" \")"
   ]
  },
  {
   "cell_type": "code",
   "execution_count": 5,
   "metadata": {},
   "outputs": [
    {
     "name": "stdout",
     "output_type": "stream",
     "text": [
      "15\n"
     ]
    }
   ],
   "source": [
    "#Task 06\n",
    "\n",
    "number = int(input(\"Please enter a number: \"))\n",
    "y = 0\n",
    "for i in range(1,number+1):\n",
    "    if i%2!=0:\n",
    "        y += pow(i,2)\n",
    "    else:\n",
    "        y -= pow(i,2)\n",
    "    \n",
    "print(y)"
   ]
  },
  {
   "cell_type": "code",
   "execution_count": 8,
   "metadata": {},
   "outputs": [
    {
     "name": "stdout",
     "output_type": "stream",
     "text": [
      "The total of the odd numbers is 90 and their average is 22.5\n"
     ]
    }
   ],
   "source": [
    "#Task 07\n",
    "\n",
    "sum = 0\n",
    "count = 0\n",
    "for i in range(10):\n",
    "    number = int(input(\"Please enter a number: \"))\n",
    "    if number%2 != 0:\n",
    "        sum += number\n",
    "        count += 1\n",
    "average = sum / count\n",
    "print(f'The total of the odd numbers is {sum} and their average is {average}')"
   ]
  },
  {
   "cell_type": "code",
   "execution_count": 9,
   "metadata": {},
   "outputs": [
    {
     "name": "stdout",
     "output_type": "stream",
     "text": [
      "196\n"
     ]
    }
   ],
   "source": [
    "#Task 08\n",
    "\n",
    "number = int(input(\"Please enter a number: \"))\n",
    "sum = 0\n",
    "for i in range(1,number):\n",
    "    if i%7==0:\n",
    "        sum += i\n",
    "print(sum)\n"
   ]
  },
  {
   "cell_type": "code",
   "execution_count": 16,
   "metadata": {},
   "outputs": [
    {
     "name": "stdout",
     "output_type": "stream",
     "text": [
      "1\n",
      "3\n",
      "6\n",
      "10\n",
      "15\n"
     ]
    }
   ],
   "source": [
    "#Task 9\n",
    "\n",
    "num = int(input(\"Please enter a number: \"))\n",
    "print(num)\n",
    "for i in range(4):\n",
    "    num1 = int(input(\"Please enter a number: \"))\n",
    "    result = num + num1\n",
    "    print(result)\n",
    "    num = result"
   ]
  },
  {
   "cell_type": "code",
   "execution_count": 10,
   "metadata": {},
   "outputs": [
    {
     "name": "stdout",
     "output_type": "stream",
     "text": [
      "1\n",
      "3\n",
      "6\n",
      "10\n",
      "15\n"
     ]
    }
   ],
   "source": [
    "#Task 09 (With While Loop)\n",
    "\n",
    "num = int(input(\"Please enter a number: \"))\n",
    "print(num)\n",
    "count = 0\n",
    "while count < 4:\n",
    "    num1 = int(input(\"Please enter a number: \"))\n",
    "    num = num + num1\n",
    "    print(num)\n",
    "    count += 1\n",
    "\n"
   ]
  },
  {
   "cell_type": "code",
   "execution_count": 11,
   "metadata": {},
   "outputs": [
    {
     "name": "stdout",
     "output_type": "stream",
     "text": [
      "8,6,7,2,3\n"
     ]
    }
   ],
   "source": [
    "#Task 10\n",
    "\n",
    "num = int(input(\"Please enter a number: \"))\n",
    "while num > 0:\n",
    "    result = num % 10\n",
    "    num = num // 10\n",
    "    if num == 0:\n",
    "        print(result)\n",
    "    else:\n",
    "        print(result, end = \",\")"
   ]
  },
  {
   "cell_type": "code",
   "execution_count": 12,
   "metadata": {},
   "outputs": [
    {
     "name": "stdout",
     "output_type": "stream",
     "text": [
      "4\n"
     ]
    }
   ],
   "source": [
    "#Task 11\n",
    "\n",
    "num = int(input(\"Please enter a number: \"))\n",
    "count = 0\n",
    "while num > 0:\n",
    "    num = num // 10\n",
    "    count += 1\n",
    "print(count)\n"
   ]
  },
  {
   "cell_type": "code",
   "execution_count": 4,
   "metadata": {},
   "outputs": [
    {
     "name": "stdout",
     "output_type": "stream",
     "text": [
      "3,2,6,7,8\n"
     ]
    }
   ],
   "source": [
    "#Task 12\n",
    "\n",
    "num = int(input(\"Please enter a number: \"))\n",
    "power = 0\n",
    "rem = num\n",
    "while num > 0:\n",
    "    num = num // 10\n",
    "    power += 1\n",
    "num = rem\n",
    "while num > 0:\n",
    "    number = num // pow(10,power-1)\n",
    "    num = num % pow(10,power-1)\n",
    "    power -= 1\n",
    "    if num == 0:\n",
    "        print(number)\n",
    "    else:\n",
    "        print(number, end = \",\")"
   ]
  },
  {
   "cell_type": "code",
   "execution_count": 13,
   "metadata": {},
   "outputs": [
    {
     "name": "stdout",
     "output_type": "stream",
     "text": [
      "1,2,3,6\n",
      "Total 4 divisors.\n"
     ]
    }
   ],
   "source": [
    "#Task 13\n",
    " \n",
    "num = int(input(\"Please enter a number: \"))\n",
    "count = 0\n",
    "for i in range(1,num+1):\n",
    "    if num % i == 0:\n",
    "        count += 1\n",
    "        if i == num:\n",
    "            print(i)\n",
    "        else:\n",
    "            print(i, end = \",\")\n",
    "print(f'Total {count} divisors.')\n"
   ]
  },
  {
   "cell_type": "code",
   "execution_count": 15,
   "metadata": {},
   "outputs": [
    {
     "name": "stdout",
     "output_type": "stream",
     "text": [
      "33 is a not a perfect number.\n"
     ]
    }
   ],
   "source": [
    "#Task 14\n",
    "\n",
    "num = int(input(\"Please enter a number: \"))\n",
    "sum = 0\n",
    "for i in range(1,num):\n",
    "    if num % i == 0:\n",
    "        sum += i\n",
    "if sum == num:\n",
    "    print(f'{num} is a perfect number.')\n",
    "else:\n",
    "    print(f'{num} is a not a perfect number.')"
   ]
  },
  {
   "cell_type": "code",
   "execution_count": 3,
   "metadata": {},
   "outputs": [
    {
     "name": "stdout",
     "output_type": "stream",
     "text": [
      "5 is a prime number.\n"
     ]
    }
   ],
   "source": [
    "#Task 15\n",
    "\n",
    "num = int(input(\"Please enter a number: \"))\n",
    "sum = 0\n",
    "for i in range(1,num+1):\n",
    "    if num % i == 0:\n",
    "        sum += i\n",
    "if sum == num+1:\n",
    "    print(f'{num} is a prime number.')\n",
    "else:\n",
    "    print(f'{num} is not a prime number.')"
   ]
  },
  {
   "cell_type": "code",
   "execution_count": 19,
   "metadata": {},
   "outputs": [
    {
     "name": "stdout",
     "output_type": "stream",
     "text": [
      "Maximum 10\n",
      "Minimum -100\n",
      "Average is -17.2\n"
     ]
    }
   ],
   "source": [
    "#Task 16\n",
    "\n",
    "quantity = int(input(\"Please enter a quantity: \"))\n",
    "max = -9999\n",
    "min = 9999\n",
    "sum = 0\n",
    "for i in range(quantity):\n",
    "    num = int(input(\"Please enter a number: \"))\n",
    "    sum += num\n",
    "    if num > max:\n",
    "        max = num\n",
    "    elif num < min:\n",
    "        min = num\n",
    "print(f'Maximum {max}')\n",
    "print(f'Minimum {min}')\n",
    "average = sum / quantity\n",
    "print(f'Average is {average}')\n"
   ]
  },
  {
   "cell_type": "code",
   "execution_count": 20,
   "metadata": {},
   "outputs": [
    {
     "name": "stdout",
     "output_type": "stream",
     "text": [
      "+++++\n",
      "+++++\n",
      "+++++\n",
      "+++++\n",
      "+++++\n"
     ]
    }
   ],
   "source": [
    "#Task 17\n",
    "\n",
    "num = int(input(\"Please enter a number: \"))\n",
    "for i in range(num):\n",
    "    for i in range(num):\n",
    "        print(\"+\", end = \"\")\n",
    "    print()\n",
    "    "
   ]
  },
  {
   "cell_type": "code",
   "execution_count": 21,
   "metadata": {},
   "outputs": [
    {
     "name": "stdout",
     "output_type": "stream",
     "text": [
      "123456\n",
      "123456\n",
      "123456\n",
      "123456\n"
     ]
    }
   ],
   "source": [
    "#Task 18\n",
    "\n",
    "value_M = int(input(\"Please enter a number: \"))\n",
    "value_N = int(input(\"Please enter a number: \"))\n",
    "for i in range(value_M):\n",
    "    for i in range(1,value_N+1):\n",
    "        print(i, end = \"\") \n",
    "    print()"
   ]
  },
  {
   "cell_type": "code",
   "execution_count": 22,
   "metadata": {},
   "outputs": [
    {
     "name": "stdout",
     "output_type": "stream",
     "text": [
      "\n",
      "1\n",
      "12\n",
      "123\n",
      "1234\n"
     ]
    }
   ],
   "source": [
    "#Task 19\n",
    "\n",
    "num = int(input(\"Please enter a number: \"))\n",
    "for i in range(num+1):\n",
    "    for i in range(1,i + 1):\n",
    "        print(i, end = \"\")\n",
    "    print()"
   ]
  },
  {
   "cell_type": "markdown",
   "metadata": {},
   "source": [
    "T R A C I N G || P R O B L E M S     "
   ]
  },
  {
   "cell_type": "code",
   "execution_count": 1,
   "metadata": {},
   "outputs": [
    {
     "name": "stdout",
     "output_type": "stream",
     "text": [
      "4\n",
      "10\n",
      "18\n",
      "28\n",
      "42\n",
      "60\n",
      "82\n",
      "108\n",
      "138\n",
      "151\n"
     ]
    }
   ],
   "source": [
    "#Task 20\n",
    "\n",
    "x = 0\n",
    "p =0\n",
    "sum = 0\n",
    "p = 1\n",
    "x = 2\n",
    "q = None\n",
    "sum = 0\n",
    "while p < 12:\n",
    "    q = x + p - (sum + 7 / 3) / 3.0 % 2\n",
    "    sum = sum + x + int(q)\n",
    "    x += 1\n",
    "    print(sum)\n",
    "    if x > 5:\n",
    "        p += 4 / 2\n",
    "    else:\n",
    "        p += (3 % 1)\n",
    "sum = int(sum + p)\n",
    "print(sum)"
   ]
  },
  {
   "cell_type": "code",
   "execution_count": 2,
   "metadata": {},
   "outputs": [
    {
     "name": "stdout",
     "output_type": "stream",
     "text": [
      "4\n",
      "9\n",
      "16\n",
      "25\n",
      "39\n",
      "56\n",
      "78\n",
      "104\n",
      "115\n"
     ]
    }
   ],
   "source": [
    "#Task 21\n",
    "\n",
    "sum = 0\n",
    "p = 1\n",
    "x = 2\n",
    "q = 0.0\n",
    "sum = 0\n",
    "while (p < 10) :\n",
    "  q = x + p - (sum + int(5 / 3)) / 3.0 % 2\n",
    "  sum = sum + x + int(q)\n",
    "  x += 1\n",
    "  print(sum)\n",
    "  if (x > 5) :\n",
    "    p += int(4 / 2)\n",
    "  else :\n",
    "    p += 3 % 1\n",
    "sum = sum + p\n",
    "print(sum)"
   ]
  },
  {
   "cell_type": "code",
   "execution_count": 3,
   "metadata": {},
   "outputs": [
    {
     "name": "stdout",
     "output_type": "stream",
     "text": [
      "6\n",
      "4\n",
      "2\n",
      "0\n",
      "-2\n",
      "-4\n",
      "3\n",
      "1\n",
      "-1\n",
      "-2\n"
     ]
    }
   ],
   "source": [
    "#Task 22\n",
    "\n",
    "x = y = 0 \n",
    "sum = 0\n",
    "while (x < 10):\n",
    "  y = x - 3\n",
    "  while (y < 3):\n",
    "    sum = x - y * 2 \n",
    "    print(sum)\n",
    "    y = y + 1\n",
    "  if (x > 7): \n",
    "    x += 1\n",
    "  else: \n",
    "    x += 3\n",
    "sum = x - y * 2\n",
    "print(sum)"
   ]
  },
  {
   "cell_type": "code",
   "execution_count": 4,
   "metadata": {},
   "outputs": [
    {
     "name": "stdout",
     "output_type": "stream",
     "text": [
      "6\n",
      "7\n",
      "9\n",
      "5\n",
      "10\n",
      "5\n",
      "10\n",
      "5\n",
      "11\n",
      "7\n",
      "3\n"
     ]
    }
   ],
   "source": [
    "#Task 23\n",
    "\n",
    "x = 0\n",
    "y = 0\n",
    "sum = 0\n",
    "p = 0.0\n",
    "while (x < 10):\n",
    "    y = x // 2\n",
    "    while (y < x):\n",
    "        p = (x + 10.0) / 2\n",
    "        sum = (sum % 2) + x - y * 2 + int(p)\n",
    "        print(sum)\n",
    "        y = y + 2\n",
    "    if (x > 5):\n",
    "        x += 1\n",
    "    else:\n",
    "        x += 2"
   ]
  },
  {
   "cell_type": "code",
   "execution_count": 5,
   "metadata": {},
   "outputs": [
    {
     "name": "stdout",
     "output_type": "stream",
     "text": [
      "40\n",
      "45\n",
      "50\n",
      "55\n",
      "60\n",
      "65\n",
      "70\n",
      "75\n",
      "80\n",
      "85\n"
     ]
    }
   ],
   "source": [
    "#Task 24\n",
    "\n",
    "test = 1\n",
    "j = 0\n",
    "k = 100\n",
    "while (k > 0):\n",
    "  while ( j < k ):\n",
    "    test = k + j -21\n",
    "    print(str(1 + int (test / 2)))\n",
    "    j += 10\n",
    "  k -= 10\n",
    "test = 1\n",
    "j = 0\n",
    "k = 100"
   ]
  },
  {
   "cell_type": "markdown",
   "metadata": {},
   "source": [
    "U G R A D E D || O P T I O N A L || T A S K S"
   ]
  },
  {
   "cell_type": "code",
   "execution_count": 1,
   "metadata": {},
   "outputs": [
    {
     "name": "stdout",
     "output_type": "stream",
     "text": [
      "0 1 1 2 3 5 8 "
     ]
    }
   ],
   "source": [
    "#Task 25\n",
    "\n",
    "num = int(input(\"Please enter a number: \"))\n",
    "a = 0\n",
    "b = 1\n",
    "while a < num:\n",
    "    print(a, end = \" \")\n",
    "    c = a + b\n",
    "    a = b\n",
    "    b = c\n",
    "    \n",
    "    "
   ]
  },
  {
   "cell_type": "code",
   "execution_count": 8,
   "metadata": {},
   "outputs": [
    {
     "name": "stdout",
     "output_type": "stream",
     "text": [
      "1101101101001111010010000001100\n"
     ]
    }
   ],
   "source": [
    "#Task 26\n",
    "\n",
    "num = int(input(\"Please enter a number: \"))\n",
    "binary = \"\"\n",
    "while num != 0:\n",
    "    binary += str(num % 2)\n",
    "    num = num // 2\n",
    "print(binary[::-1])\n",
    "    "
   ]
  },
  {
   "cell_type": "code",
   "execution_count": 14,
   "metadata": {},
   "outputs": [
    {
     "name": "stdout",
     "output_type": "stream",
     "text": [
      "1839703052\n"
     ]
    }
   ],
   "source": [
    "#Task 27\n",
    "\n",
    "num = int(input(\"Please enter a number: \"))\n",
    "decimal = 0\n",
    "index = len(str(num))\n",
    "for i in str(num):\n",
    "    index -= 1\n",
    "    decimal += int(i) * pow(2,index)\n",
    "print(decimal)\n",
    "\n",
    "    "
   ]
  },
  {
   "cell_type": "code",
   "execution_count": 26,
   "metadata": {},
   "outputs": [
    {
     "name": "stdout",
     "output_type": "stream",
     "text": [
      "Between 1 and 10\n",
      "Found 4 numbers\n",
      "Found 1 numbers\n",
      "Prime Numbers: 2,3,5,7\n",
      "Perfect Numbers: 6\n"
     ]
    }
   ],
   "source": [
    "#Task 28\n",
    "\n",
    "start = int(input(\"Please enter the starting range: \"))\n",
    "stop = int(input(\"Please enter the stopping range: \"))\n",
    "sum = 0\n",
    "prime_num = \"\"\n",
    "perfect_num = \"\"\n",
    "prime_count = 0\n",
    "perfect_count = 0\n",
    "for i in range(start,stop+1):\n",
    "    for j in range(1,i+1):\n",
    "        if i % j == 0:\n",
    "            sum += j\n",
    "    if i == sum - i:\n",
    "        if perfect_num == \"\":\n",
    "            perfect_num = perfect_num + str(i)\n",
    "        else:\n",
    "            perfect_num = perfect_num +\",\"+ str(i)\n",
    "        perfect_count += 1\n",
    "    elif sum == i+1:\n",
    "        if prime_num == \"\":\n",
    "            prime_num = prime_num + str(i)\n",
    "        else:\n",
    "            prime_num = prime_num +\",\"+ str(i)\n",
    "        prime_count += 1\n",
    "    sum = 0\n",
    "print(f'Between {start} and {stop}')\n",
    "print(f'Found {prime_count} numbers')\n",
    "print(f'Found {perfect_count} numbers')\n",
    "print(f'Prime Numbers: {prime_num}')\n",
    "print(f'Perfect Numbers: {perfect_num}')\n",
    "        \n",
    "            \n"
   ]
  },
  {
   "cell_type": "code",
   "execution_count": 37,
   "metadata": {},
   "outputs": [
    {
     "name": "stdout",
     "output_type": "stream",
     "text": [
      "45 90 "
     ]
    }
   ],
   "source": [
    "#Task 29\n",
    "\n",
    "start = int(input(\"Please enter a number: \"))\n",
    "stop = int(input(\"Please enter a number: \"))\n",
    "checker = int(input(\"Please enter a number: \"))\n",
    "product = []\n",
    "rem = 1\n",
    "for i in range(start,stop+1):\n",
    "    num = str(i)\n",
    "    for j in num:\n",
    "        rem = rem * int(j)\n",
    "    product.append(rem)\n",
    "    rem = 1\n",
    "for i in product:\n",
    "    if i % checker == 0:\n",
    "        print(i, end = \" \")"
   ]
  },
  {
   "cell_type": "markdown",
   "metadata": {},
   "source": [
    "||| E N D ||| O F ||| A S S I G N M E N T - 3 |||"
   ]
  }
 ],
 "metadata": {
  "kernelspec": {
   "display_name": "Python 3.11.0 64-bit",
   "language": "python",
   "name": "python3"
  },
  "language_info": {
   "codemirror_mode": {
    "name": "ipython",
    "version": 3
   },
   "file_extension": ".py",
   "mimetype": "text/x-python",
   "name": "python",
   "nbconvert_exporter": "python",
   "pygments_lexer": "ipython3",
   "version": "3.11.0 (main, Oct 24 2022, 18:26:48) [MSC v.1933 64 bit (AMD64)]"
  },
  "orig_nbformat": 4,
  "vscode": {
   "interpreter": {
    "hash": "498855faaa6f9836163d545070b42acc99cdc01841cba1b8d28d167406f7ff2b"
   }
  }
 },
 "nbformat": 4,
 "nbformat_minor": 2
}
