{
 "cells": [
  {
   "cell_type": "markdown",
   "metadata": {},
   "source": [
    "||| S T A R T ||| O F ||| A S S I G N M E N T - 2 |||"
   ]
  },
  {
   "cell_type": "code",
   "execution_count": 2,
   "metadata": {},
   "outputs": [
    {
     "name": "stdout",
     "output_type": "stream",
     "text": [
      "Sum = 7\n",
      "Product = 10\n",
      "Difference = -3\n"
     ]
    }
   ],
   "source": [
    "#Task 01\n",
    "\n",
    "num1 = int(input(\"Please enter a number : \"))\n",
    "num2 = int(input(\"Please enter a number : \"))\n",
    "sum = num1 + num2\n",
    "product = num1 * num2\n",
    "difference = num1 - num2\n",
    "print(f'Sum = {sum}')\n",
    "print(f'Product = {product}')\n",
    "print(f'Difference = {difference}')"
   ]
  },
  {
   "cell_type": "code",
   "execution_count": 7,
   "metadata": {},
   "outputs": [
    {
     "name": "stdout",
     "output_type": "stream",
     "text": [
      "Area is 50.26548245743669.\n",
      "Circumference is 25.132741228718345.\n"
     ]
    }
   ],
   "source": [
    "#Task 02\n",
    "\n",
    "import math\n",
    "radius = int(input(\"Please enter a radius : \"))\n",
    "area = math.pi * radius**2\n",
    "circumference = 2 * math.pi * radius\n",
    "print(f'Area is {area}.')\n",
    "print(f'Circumference is {circumference}.') "
   ]
  },
  {
   "cell_type": "code",
   "execution_count": 1,
   "metadata": {},
   "outputs": [
    {
     "name": "stdout",
     "output_type": "stream",
     "text": [
      "Second is greater.\n"
     ]
    }
   ],
   "source": [
    "#Task 03\n",
    "\n",
    "num1 = int(input(\"Please enter a number: \"))\n",
    "num2 = int(input(\"Please enter a number: \"))\n",
    "if num1 > num2:\n",
    "    print(\"First is greater.\")\n",
    "elif num2 > num1:\n",
    "    print(\"Second is greater.\")\n",
    "else:\n",
    "    print(\"The numbers are equal.\")"
   ]
  },
  {
   "cell_type": "code",
   "execution_count": 3,
   "metadata": {},
   "outputs": [
    {
     "name": "stdout",
     "output_type": "stream",
     "text": [
      "0\n"
     ]
    }
   ],
   "source": [
    "#Task 04\n",
    "\n",
    "num1 = int(input(\"Please enter a number: \"))\n",
    "num2 = int(input(\"Please enter a number: \"))\n",
    "if num1 > num2:\n",
    "    difference = num1 - num2\n",
    "    print(difference)\n",
    "else:\n",
    "    difference = num2 - num1\n",
    "    print(difference)"
   ]
  },
  {
   "cell_type": "code",
   "execution_count": 5,
   "metadata": {},
   "outputs": [
    {
     "name": "stdout",
     "output_type": "stream",
     "text": [
      "The number is even.\n"
     ]
    }
   ],
   "source": [
    "#Task 05\n",
    "\n",
    "number = int(input(\"Please enter a number: \"))\n",
    "if number % 2 == 0:\n",
    "    print(\"The number is even.\")\n",
    "else:\n",
    "    print(\"The number is odd.\")"
   ]
  },
  {
   "cell_type": "code",
   "execution_count": 8,
   "metadata": {},
   "outputs": [
    {
     "name": "stdout",
     "output_type": "stream",
     "text": [
      "Not a multiple of 2 OR 5\n"
     ]
    }
   ],
   "source": [
    "#Task 06\n",
    "\n",
    "number = int(input(\"Please enter a number: \"))\n",
    "if number % 2 == 0 or number % 5 == 0:\n",
    "    print(number)\n",
    "else:\n",
    "    print(\"Not a multiple of 2 OR 5\")"
   ]
  },
  {
   "cell_type": "code",
   "execution_count": 12,
   "metadata": {},
   "outputs": [
    {
     "name": "stdout",
     "output_type": "stream",
     "text": [
      "Not a multiple we want.\n"
     ]
    }
   ],
   "source": [
    "#Task 07\n",
    "\n",
    "number = int(input(\"Please enter a number: \"))\n",
    "if number%2==0 and number%5==0:\n",
    "    print(\"Multiple of 2 and 5 both.\")\n",
    "elif number%2==0 or number%5==0:\n",
    "    print(number)\n",
    "else:\n",
    "    print(\"Not a multiple we want.\")"
   ]
  },
  {
   "cell_type": "code",
   "execution_count": 15,
   "metadata": {},
   "outputs": [
    {
     "name": "stdout",
     "output_type": "stream",
     "text": [
      "Not a multiple of 2 and 5 both.\n"
     ]
    }
   ],
   "source": [
    "#Task 08\n",
    "\n",
    "number = int(input(\"Please enter a number: \"))\n",
    "if number%2==0 and number%5==0:\n",
    "    print(number)\n",
    "else:\n",
    "    print(\"Not a multiple of 2 and 5 both.\")"
   ]
  },
  {
   "cell_type": "code",
   "execution_count": 17,
   "metadata": {},
   "outputs": [
    {
     "name": "stdout",
     "output_type": "stream",
     "text": [
      "Hours: 0 Minutes: 8 Seconds: 20\n"
     ]
    }
   ],
   "source": [
    "#Task 09\n",
    "\n",
    "seconds = int(input(\"Please enter the number of seconds: \"))\n",
    "hours = seconds // 3600\n",
    "seconds = seconds % 3600\n",
    "minutes = seconds // 60\n",
    "seconds = seconds % 60\n",
    "print(f'Hours: {hours} Minutes: {minutes} Seconds: {seconds}')"
   ]
  },
  {
   "cell_type": "code",
   "execution_count": 22,
   "metadata": {},
   "outputs": [
    {
     "name": "stdout",
     "output_type": "stream",
     "text": [
      "Impossible to work more than 168 hours weekly.\n"
     ]
    }
   ],
   "source": [
    "#Task 10\n",
    "\n",
    "hours = int(input(\"Please enter the number of hours: \"))\n",
    "if hours < 0:\n",
    "    print(\"Hours cannot be negative.\")\n",
    "elif hours > 168:\n",
    "    print(\"Impossible to work more than 168 hours weekly.\")\n",
    "elif hours <= 40:\n",
    "    print(hours * 200)\n",
    "else:\n",
    "    if hours > 40:\n",
    "        print(8000 + (hours - 40)*300)\n",
    "\n"
   ]
  },
  {
   "cell_type": "code",
   "execution_count": 24,
   "metadata": {},
   "outputs": [
    {
     "name": "stdout",
     "output_type": "stream",
     "text": [
      "1875\n"
     ]
    }
   ],
   "source": [
    "#Task 11\n",
    "value_S = int(input(\"Please enter a number:\"))\n",
    "if value_S < 100:\n",
    "    l = 3000 - 125 * pow(value_S,2)\n",
    "else:\n",
    "    if value_S >= 100:\n",
    "        l = 12000 / (4 + pow(value_S,2) / 14900) \n",
    "print(l)"
   ]
  },
  {
   "cell_type": "code",
   "execution_count": 29,
   "metadata": {},
   "outputs": [
    {
     "name": "stdout",
     "output_type": "stream",
     "text": [
      "Patience is an virtue.\n"
     ]
    }
   ],
   "source": [
    "#Task 12\n",
    "\n",
    "hour = int(input(\"Please enter the hour:\"))\n",
    "if hour >= 0 and hour <= 23:\n",
    "    if hour >= 4 and hour <= 6:\n",
    "        print(\"Breakfast.\")\n",
    "    elif hour >= 12 and hour <= 13:\n",
    "        print(\"Lunch.\")\n",
    "    elif hour >= 16 and hour <= 17:\n",
    "        print(\"Snacks.\")\n",
    "    elif hour >= 19 and hour <= 20:\n",
    "        print(\"Dinner.\")\n",
    "    else:\n",
    "        print(\"Patience is an virtue.\")\n",
    "else:\n",
    "    print(\"Wrong Time.\")"
   ]
  },
  {
   "cell_type": "code",
   "execution_count": 35,
   "metadata": {},
   "outputs": [
    {
     "name": "stdout",
     "output_type": "stream",
     "text": [
      "Grade F\n"
     ]
    }
   ],
   "source": [
    "#Task 13\n",
    "\n",
    "number = int(input(\"Please enter your marks: \"))\n",
    "if number <0 or number >100:\n",
    "    print(\"Not valid\")\n",
    "elif number >= 90:\n",
    "    print(\"Grade A\")\n",
    "elif number >= 80 and number <= 89:\n",
    "    print(\"Grade B\")\n",
    "elif number >= 70 and number <= 79:\n",
    "    print(\"Grade C\")\n",
    "elif number >= 60 and number <= 69:\n",
    "    print(\"Grade D\")\n",
    "elif number >= 50 and number <= 59:\n",
    "    print(\"Grade E\")\n",
    "else:\n",
    "    print(\"Grade F\")"
   ]
  },
  {
   "cell_type": "code",
   "execution_count": 37,
   "metadata": {},
   "outputs": [
    {
     "name": "stdout",
     "output_type": "stream",
     "text": [
      "25.0 km/h\n",
      "Too slow. Need more changes.\n"
     ]
    }
   ],
   "source": [
    "#Task 14\n",
    "\n",
    "distance = int(input(\"Please enter the distance: \")) // 1000\n",
    "time = int(input(\"Please enter the time: \")) // 3600\n",
    "velocity = distance / time\n",
    "print(f'{velocity} km/h')\n",
    "if velocity < 60:\n",
    "    print(\"Too slow. Need more changes.\")\n",
    "elif velocity >= 60 and velocity <= 90:\n",
    "    print(\"velocity is okay. The car is ready!\")\n",
    "else:\n",
    "    if velocity > 90:\n",
    "        print(\"Too fast. Only a few changes should suffice.\")"
   ]
  },
  {
   "cell_type": "code",
   "execution_count": 40,
   "metadata": {},
   "outputs": [
    {
     "name": "stdout",
     "output_type": "stream",
     "text": [
      "The student is not eligible for a waiver.\n"
     ]
    }
   ],
   "source": [
    "#Task 15\n",
    "\n",
    "cgpa = float(input(\"Please enter your CGPA : \"))\n",
    "credits = int(input(\"Please enter your credits : \"))\n",
    "if cgpa >= 3.80 and credits >= 30:\n",
    "    if cgpa >= 3.80 and cgpa < 3.90:\n",
    "        print(\"The student is eligible for a waiver of 25 percent.\")\n",
    "    elif cgpa >= 3.90 and cgpa < 3.95:\n",
    "        print(\"The student is eligible for a waiver of 50 percent.\")\n",
    "    elif cgpa >= 3.95 and cgpa < 4.00:\n",
    "        print(\"The student is eligible for a waiver of 75 percent.\")\n",
    "    else:\n",
    "        if cgpa <= 4.00:\n",
    "            print(\"The student is eligible for a waiver of 100 percent.\")\n",
    "else:\n",
    "    print(\"The student is not eligible for a waiver.\")"
   ]
  },
  {
   "cell_type": "markdown",
   "metadata": {},
   "source": [
    "||| T R A C I N G |||"
   ]
  },
  {
   "cell_type": "code",
   "execution_count": 1,
   "metadata": {},
   "outputs": [
    {
     "name": "stdout",
     "output_type": "stream",
     "text": [
      "11\n",
      "9\n",
      "5\n",
      "32\n",
      "14\n"
     ]
    }
   ],
   "source": [
    "#Task 16\n",
    "\n",
    "p = 5\n",
    "q = 6\n",
    "r = 9\n",
    "sum = 0\n",
    "if (p < 12):\n",
    "    print(r + 2)\n",
    "else:\n",
    "    print(r + p)\n",
    "if (q > 20):\n",
    "    print(r + 19)\n",
    "elif (q <= 6):\n",
    "    print(q + 3)\n",
    "else:\n",
    "    print(p + q + r)\n",
    "if (r > 15):\n",
    "    print(r)\n",
    "elif (r == 0):\n",
    "    print(p + q)\n",
    "else:\n",
    "    print(p)\n",
    "if (sum != 0):\n",
    "    print(3)\n",
    "else:\n",
    "    print(sum + 32)\n",
    "if (p>0 and r<10):\n",
    "    print(p+r)\n",
    "else:\n",
    "    print(p-r)\n"
   ]
  },
  {
   "cell_type": "code",
   "execution_count": 3,
   "metadata": {},
   "outputs": [
    {
     "name": "stdout",
     "output_type": "stream",
     "text": [
      "True\n",
      "False\n",
      "True\n",
      "True\n",
      "False\n",
      "True\n",
      "False\n",
      "True\n",
      "False\n",
      "False\n"
     ]
    }
   ],
   "source": [
    "#Task 17\n",
    "\n",
    "var1 = var2 = var3 = var4 = var5 = var6 = False\n",
    "result1 = False\n",
    "result2 = False\n",
    "result3 = False\n",
    "result4 = False\n",
    "result5 = False\n",
    "result6 = False\n",
    "result7 = False\n",
    "result8 = False\n",
    "result9 = False\n",
    "result10 = False\n",
    "var1 = 4 > 3 - 1\n",
    "var2 = var1 and False\n",
    "var3 = True\n",
    "var4 = False\n",
    "var5 = True\n",
    "var6 = var3 and False\n",
    "result1 = (var1 or var2) and (8 * 10 > 45)\n",
    "result2 = (var1 or var2) and (result1 and False)\n",
    "result3 = (var1 and result1) or result2\n",
    "result4 = (var1 or var2) or ((var3 and var1) and False)\n",
    "result5 = (var1 and var2) and (result3 or var1)\n",
    "result6 = ((var3 or var2) and not(result5)) or True\n",
    "result7 = (var4 and result1) and ((result1 and False) or True)\n",
    "result8 = ((var1 and result3) and (var5 or var6)) and True\n",
    "result9 = ((result2 and var2) or (result7 and var1)) and False\n",
    "result10 = not(var1 and True)\n",
    "print(result1)\n",
    "print(result2)\n",
    "print(result3)\n",
    "print(result4)\n",
    "print(result5)\n",
    "print(result6)\n",
    "print(result7)\n",
    "print(result8)\n",
    "print(result9)\n",
    "print(result10)"
   ]
  },
  {
   "cell_type": "code",
   "execution_count": 4,
   "metadata": {},
   "outputs": [
    {
     "name": "stdout",
     "output_type": "stream",
     "text": [
      "False\n",
      "False\n",
      "True\n",
      "False\n",
      "False\n",
      "True\n",
      "False\n",
      "False\n",
      "False\n",
      "True\n"
     ]
    }
   ],
   "source": [
    "#Task 18\n",
    "\n",
    "var1 = False\n",
    "var2 = False\n",
    "var3 = False\n",
    "var4 = False\n",
    "var5 = False\n",
    "var6 = False\n",
    "result1 = False\n",
    "result2 = False\n",
    "result3 = False\n",
    "result4 = False\n",
    "result5 = False\n",
    "result6 = False\n",
    "result7 = False\n",
    "result8 = False\n",
    "result9 = False\n",
    "result10 = False\n",
    "var1 = ((not True) or True) and False\n",
    "var2 = var1 and False\n",
    "var3 = True and not False\n",
    "var4 = False\n",
    "var5 = True\n",
    "var6 = var3 and False\n",
    "result1 = (var1 and var2) and (40 % 3) > 45 or (var5 and var6)\n",
    "result2 = (var1 or var2) or (result1 and False)\n",
    "result3 = (var1 and result1) or result2 or var5\n",
    "result4 = (var1 or var2) or ((var3 and var1) and False)\n",
    "result5 = (var1 and var2) and (result3 or var1)\n",
    "result6 = ((var3 or (not var2)) and (result5)) or True\n",
    "result7 = (var4 and result1) and ((result1 and False) or True)\n",
    "result8 = ((var1 and result3) and ((not var5) or var6)) and True\n",
    "result9 = ((result2 and var2) or ((not result7) and var1)) and not False\n",
    "result10 = not(var1 and True)\n",
    "print(result1)\n",
    "print(result2)\n",
    "print(result3)\n",
    "print(result4)\n",
    "print(result5)\n",
    "print(result6)\n",
    "print(result7)\n",
    "print(result8)\n",
    "print(result9)\n",
    "print(result10)"
   ]
  },
  {
   "cell_type": "code",
   "execution_count": null,
   "metadata": {},
   "outputs": [],
   "source": [
    "#Task 19\n",
    "\n",
    "var1 = var2 = var3 = var4 = var5 = var6 = False \n",
    "result1 = result2 = result3 = result4 = result5 = result6 = False\n",
    "result7 = result8 = result9 = result10 = False\n",
    "var1 = (not False or False) and True\n",
    "var2 = var1 and True\n",
    "var3 = False and not True\n",
    "var4 = True\n",
    "var5 = False\n",
    "var6 = var3 and True\n",
    "result1 = (var1 and var2) and ( 40 % 3 > 45) or (var5 and var6)\n",
    "result2 = (var1 or var2) or (result1 and False)\n",
    "result3 = (var1 and result1) or result2 or var5\n",
    "result4 = (var1 or var2) or ((var3 and var1) and False)\n",
    "result5 = (var1 and var2) and (result3 or var1)\n",
    "result6 = ((var3 or not var2) and (result5)) or True\n",
    "result7 = (var4 and result1) and ((result1 and False) or True)\n",
    "result8 = ((var1 and result3) and (not var5 or var6)) and True\n",
    "result9 = ((result2 and var2) or (not result7 and var1)) and not False\n",
    "result10 = not (var1 and True)\n",
    "print(result1)\n",
    "print(result2)\n",
    "print(result3)\n",
    "print(result4)\n",
    "print(result5)\n",
    "print(result6)\n",
    "print(result7)\n",
    "print(result8)\n",
    "print(result9)\n",
    "print(result10)"
   ]
  },
  {
   "cell_type": "markdown",
   "metadata": {},
   "source": [
    "||| U N G R A D E D |||"
   ]
  },
  {
   "cell_type": "code",
   "execution_count": 9,
   "metadata": {},
   "outputs": [
    {
     "name": "stdout",
     "output_type": "stream",
     "text": [
      "No\n"
     ]
    }
   ],
   "source": [
    "#Task 20\n",
    "\n",
    "num = int(input(\"Please enter a number: \"))\n",
    "if num % 2 == 0 or num % 5 == 0:\n",
    "    print(\"No\")\n",
    "else:\n",
    "    print(num)"
   ]
  },
  {
   "cell_type": "code",
   "execution_count": 12,
   "metadata": {},
   "outputs": [
    {
     "name": "stdout",
     "output_type": "stream",
     "text": [
      "17\n"
     ]
    }
   ],
   "source": [
    "#Task 21\n",
    "\n",
    "num = int(input(\"Please enter a number: \"))\n",
    "if num % 2 != 0 or num % 5 != 0:\n",
    "    print(num)\n",
    "else:\n",
    "    print(\"No\")"
   ]
  },
  {
   "cell_type": "code",
   "execution_count": 14,
   "metadata": {},
   "outputs": [
    {
     "name": "stdout",
     "output_type": "stream",
     "text": [
      "Previous total: 225\n",
      "New total after discount: 225\n"
     ]
    }
   ],
   "source": [
    "#Task 22\n",
    "\n",
    "canvas = int(input(\"Please enter a number: \"))\n",
    "paint = int(input(\"Please enter a number: \"))\n",
    "price_canvas = canvas * 120\n",
    "price_paint = paint * 75\n",
    "total = price_canvas + price_paint\n",
    "if total >= 0 and total < 300:\n",
    "    new_total = total\n",
    "elif total >= 300 and total < 500:\n",
    "    new_total = total - 10\n",
    "elif total >= 500 and total < 750:\n",
    "    new_total = total - 20\n",
    "elif total >= 750 and total < 1000:\n",
    "    new_total = total - 50\n",
    "else:\n",
    "    new_total = total - 150\n",
    "print(f'Previous total: {total}')\n",
    "print(f'New total after discount: {new_total}')\n"
   ]
  },
  {
   "cell_type": "code",
   "execution_count": 21,
   "metadata": {},
   "outputs": [
    {
     "name": "stdout",
     "output_type": "stream",
     "text": [
      "25 degrees C\n",
      "Spring\n"
     ]
    }
   ],
   "source": [
    "#Task 23\n",
    "\n",
    "temparature_fahrenheit = int(input(\"Please enter a temparature is fahrenheit: \"))\n",
    "temparature_celcius = (temparature_fahrenheit-32)*0.56\n",
    "if temparature_celcius < 20:\n",
    "    season = \"Winter\"\n",
    "elif temparature_celcius >= 20 and temparature_celcius <= 25:\n",
    "    season = \"Autumn\"\n",
    "elif temparature_celcius > 25 and temparature_celcius < 30:\n",
    "    season = \"Spring\"\n",
    "elif temparature_celcius >= 30:\n",
    "    season = \"Summer\"\n",
    "print(f'{int(temparature_celcius)} degrees C')\n",
    "print(season)"
   ]
  },
  {
   "cell_type": "markdown",
   "metadata": {},
   "source": [
    "||| E N D ||| O F ||| A S S I G N M E N T - 2 |||"
   ]
  }
 ],
 "metadata": {
  "kernelspec": {
   "display_name": "Python 3.11.0 64-bit",
   "language": "python",
   "name": "python3"
  },
  "language_info": {
   "codemirror_mode": {
    "name": "ipython",
    "version": 3
   },
   "file_extension": ".py",
   "mimetype": "text/x-python",
   "name": "python",
   "nbconvert_exporter": "python",
   "pygments_lexer": "ipython3",
   "version": "3.11.3"
  },
  "orig_nbformat": 4,
  "vscode": {
   "interpreter": {
    "hash": "498855faaa6f9836163d545070b42acc99cdc01841cba1b8d28d167406f7ff2b"
   }
  }
 },
 "nbformat": 4,
 "nbformat_minor": 2
}
