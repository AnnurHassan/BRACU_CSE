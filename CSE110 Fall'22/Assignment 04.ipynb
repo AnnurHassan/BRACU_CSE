{
 "cells": [
  {
   "cell_type": "markdown",
   "metadata": {},
   "source": [
    "||| S T A R T ||| O F ||| A S S I G N M E N T |||"
   ]
  },
  {
   "cell_type": "code",
   "execution_count": 1,
   "metadata": {},
   "outputs": [
    {
     "name": "stdout",
     "output_type": "stream",
     "text": [
      "011ESC\n"
     ]
    }
   ],
   "source": [
    "#Task 01\n",
    "\n",
    "string = input(\"Please enter a string: \")\n",
    "print(string[::-1])"
   ]
  },
  {
   "cell_type": "code",
   "execution_count": 9,
   "metadata": {},
   "outputs": [
    {
     "name": "stdout",
     "output_type": "stream",
     "text": [
      "21dcBa34defg\n"
     ]
    }
   ],
   "source": [
    "#Task 02\n",
    "\n",
    "string = input(\"Please enter a string: \")\n",
    "num = int(input(\"Please enter a number: \"))\n",
    "print(string[num::-1],end=\"\")\n",
    "print(string[num+1::])"
   ]
  },
  {
   "cell_type": "code",
   "execution_count": 15,
   "metadata": {},
   "outputs": [
    {
     "name": "stdout",
     "output_type": "stream",
     "text": [
      "Not a Binary Number\n"
     ]
    }
   ],
   "source": [
    "#Task 03\n",
    "\n",
    "string = input(\"Please enter a string: \")\n",
    "for i in string:\n",
    "    if i == \"1\" or i == \"0\":\n",
    "        flag = True\n",
    "    else:\n",
    "        flag = False\n",
    "        break\n",
    "if flag:\n",
    "    print(\"Binary Number\")\n",
    "else:\n",
    "    print(\"Not a Binary Number\")"
   ]
  },
  {
   "cell_type": "code",
   "execution_count": 28,
   "metadata": {},
   "outputs": [
    {
     "name": "stdout",
     "output_type": "stream",
     "text": [
      "abc\n"
     ]
    }
   ],
   "source": [
    "#Task 04\n",
    "\n",
    "string = input(\"Please enter a string: \")\n",
    "if string[len(string)-3::] == \"est\":\n",
    "    print(string)\n",
    "elif string[len(string)-2::] == \"er\":\n",
    "    print(string[:len(string)-2]+\"est\")\n",
    "elif len(string) < 4:\n",
    "    print(string)\n",
    "elif len(string) > 3:\n",
    "    print(string + \"er\")"
   ]
  },
  {
   "cell_type": "code",
   "execution_count": 4,
   "metadata": {},
   "outputs": [
    {
     "name": "stdout",
     "output_type": "stream",
     "text": [
      "B\n",
      "BA\n",
      "BAN\n",
      "BANG\n",
      "BANGL\n",
      "BANGLA\n"
     ]
    }
   ],
   "source": [
    "#Task 05\n",
    "\n",
    "string = input(\"Please enter a string: \")\n",
    "for i in range(len(string)):\n",
    "    for n in range(i+1):\n",
    "        print(string[n],end=\"\")\n",
    "    print()\n"
   ]
  },
  {
   "cell_type": "code",
   "execution_count": 5,
   "metadata": {},
   "outputs": [
    {
     "name": "stdout",
     "output_type": "stream",
     "text": [
      "P : 80\n",
      "r : 114\n",
      "o : 111\n",
      "g : 103\n",
      "r : 114\n",
      "a : 97\n",
      "m : 109\n",
      "m : 109\n",
      "i : 105\n",
      "n : 110\n",
      "g : 103\n"
     ]
    }
   ],
   "source": [
    "#Task 06\n",
    "\n",
    "string = input(\"Please enter a string: \")\n",
    "for i in string:\n",
    "    print(f'{i} : {ord(i)}')"
   ]
  },
  {
   "cell_type": "code",
   "execution_count": 9,
   "metadata": {},
   "outputs": [
    {
     "name": "stdout",
     "output_type": "stream",
     "text": [
      "yzabcd\n"
     ]
    }
   ],
   "source": [
    "#Task 07\n",
    "\n",
    "string = input(\"Please enter a string: \")\n",
    "new_string = \"\"\n",
    "for i in string:\n",
    "    if i == \"z\":\n",
    "        ascii = 97\n",
    "    else:\n",
    "        ascii = ord(i) + 1\n",
    "    new_string += chr(ascii)\n",
    "print(new_string)\n"
   ]
  },
  {
   "cell_type": "code",
   "execution_count": 17,
   "metadata": {},
   "outputs": [
    {
     "name": "stdout",
     "output_type": "stream",
     "text": [
      "BD\n"
     ]
    }
   ],
   "source": [
    "#Task 08\n",
    "\n",
    "string = input(\"Please enter a string: \")\n",
    "new_string = \"\"\n",
    "uppercase_string = \"\"\n",
    "for i in range(len(string)):\n",
    "    if i % 2 == 0:\n",
    "        continue\n",
    "    else:\n",
    "        new_string += string[i]\n",
    "for i in new_string:\n",
    "    if ord(i) >= 97 and ord(i) <= 122:\n",
    "        ascii = ord(i) - 32\n",
    "        uppercase_string += chr(ascii)\n",
    "    else:\n",
    "        uppercase_string += i\n",
    "print(uppercase_string)\n"
   ]
  },
  {
   "cell_type": "code",
   "execution_count": 19,
   "metadata": {},
   "outputs": [
    {
     "name": "stdout",
     "output_type": "stream",
     "text": [
      "ABCDE\n"
     ]
    }
   ],
   "source": [
    "#Task 09\n",
    "\n",
    "string = input(\"Please enter a string: \")\n",
    "rem = \"\"\n",
    "new_string = \"\"\n",
    "for i in string:\n",
    "    if i in rem:\n",
    "        continue\n",
    "    else:\n",
    "        rem += i\n",
    "        new_string += i\n",
    "\n",
    "print(new_string)\n"
   ]
  },
  {
   "cell_type": "markdown",
   "metadata": {},
   "source": [
    "T R A C I N G || P R O B L E M S     "
   ]
  },
  {
   "cell_type": "code",
   "execution_count": 1,
   "metadata": {},
   "outputs": [
    {
     "name": "stdout",
     "output_type": "stream",
     "text": [
      "5 == 5\n",
      "2 == 2\n",
      "0 == 0\n",
      "-3 != -2\n",
      "-5 != -5\n",
      "-8 != -7\n",
      "-10 != -10\n"
     ]
    }
   ],
   "source": [
    "#Task 11\n",
    "\n",
    "i = 10\n",
    "while(i >= -20):\n",
    "    if(i < 0):\n",
    "        test = \" != \"\n",
    "        test = str(i//2) + test + str(int(i/2))\n",
    "    else:\n",
    "        test = \" == \"\n",
    "        test = str(i//2) + test + str(int(i/2))\n",
    "    print(test)\n",
    "    i -= 5\n",
    "\n"
   ]
  },
  {
   "cell_type": "code",
   "execution_count": 2,
   "metadata": {},
   "outputs": [
    {
     "name": "stdout",
     "output_type": "stream",
     "text": [
      "14-->-->\n",
      "13-->14-->-->\n",
      "12-->13-->14-->-->\n",
      "11-->12-->13-->14-->-->\n",
      "14-->11-->12-->13-->14-->-->\n",
      "13-->14-->11-->12-->13-->14-->-->\n",
      "12-->13-->14-->11-->12-->13-->14-->-->\n",
      "14-->12-->13-->14-->11-->12-->13-->14-->-->\n",
      "13-->14-->12-->13-->14-->11-->12-->13-->14-->-->\n",
      "14-->13-->14-->12-->13-->14-->11-->12-->13-->14-->-->\n"
     ]
    }
   ],
   "source": [
    "#Task 12\n",
    "\n",
    "test = \"\"\n",
    "i = 0\n",
    "j = 0\n",
    "k = 15\n",
    "test = \"-->\"\n",
    "while i < 5:\n",
    "    j = k - 1\n",
    "    k -= 1\n",
    "    while j > 10:\n",
    "        test = str(i + j) + \"-->\" + test\n",
    "        print(test)\n",
    "        j -= 1\n",
    "    i += 1\n",
    "\n"
   ]
  },
  {
   "cell_type": "code",
   "execution_count": 3,
   "metadata": {},
   "outputs": [
    {
     "name": "stdout",
     "output_type": "stream",
     "text": [
      "<--52-->7\n",
      "-->2-->13\n",
      "<--52-->6\n",
      "-->2-->11\n",
      "-->3-->13\n",
      "<--62-->6\n",
      "-->3-->11\n",
      "<--72-->6\n",
      "-->3-->11\n",
      "-->4-->11\n"
     ]
    }
   ],
   "source": [
    "#Task 13\n",
    "\n",
    "test = \"\"\n",
    "i = 5\n",
    "j = 0\n",
    "k = 15\n",
    "while i< 10:\n",
    "    k-=1\n",
    "    j = k\n",
    "    while j > 10:\n",
    "        if (j % 2) == 0:\n",
    "            test = \"<--\"\n",
    "            test = str(test) + str(i) + str(2) + \"-->\" + str(int(j / 2))  \n",
    "        else:\n",
    "            test = \"-->\"\n",
    "            test = \"-->\" + str(int(i / 2)) + str(test) + str(j)\n",
    "        print(test)\n",
    "        j = j-1\n",
    "    i+=1"
   ]
  },
  {
   "cell_type": "code",
   "execution_count": 4,
   "metadata": {},
   "outputs": [
    {
     "name": "stdout",
     "output_type": "stream",
     "text": [
      "<--53-->4\n",
      "-->1-->13\n",
      "<--53-->4\n",
      "-->1-->11\n",
      "-->2-->13\n",
      "<--63-->4\n",
      "-->2-->11\n",
      "<--73-->4\n",
      "-->2-->11\n",
      "-->2-->11\n"
     ]
    }
   ],
   "source": [
    "#Task 14\n",
    "\n",
    "test = \"\"\n",
    "i = 5\n",
    "j = 0\n",
    "k = 15\n",
    "while (i< 10): \n",
    "    k-=1\n",
    "    j = k\n",
    "    while (j > 10 ):\n",
    "        if j % 2 == 0:\n",
    "            test = \"<--\"\n",
    "            test = test + str( i) + '3' + \"-->\" + str(j // 3)\n",
    "        else:\n",
    "            test = \"-->\"\n",
    "            test = \"-->\" + str((i // 3)) + test + str(j)\n",
    "        print(test)\n",
    "        j -=1\n",
    "    i+=1"
   ]
  },
  {
   "cell_type": "code",
   "execution_count": 5,
   "metadata": {},
   "outputs": [
    {
     "name": "stdout",
     "output_type": "stream",
     "text": [
      "<--cat-->07\n",
      "<--cat-->07<--013\n",
      "<--cat-->07<--013-->06\n",
      "<--cat-->07<--013-->06<--011\n",
      "<--cat-->07<--013-->06<--011<--013\n",
      "<--cat-->07<--013-->06<--011<--013-->16\n",
      "<--cat-->07<--013-->06<--011<--013-->16<--011\n",
      "<--cat-->07<--013-->06<--011<--013-->16<--011-->26\n",
      "<--cat-->07<--013-->06<--011<--013-->16<--011-->26<--111\n",
      "<--cat-->07<--013-->06<--011<--013-->16<--011-->26<--111<--111\n"
     ]
    }
   ],
   "source": [
    "#Task 15\n",
    "\n",
    "i=0\n",
    "j=0\n",
    "k=15\n",
    "test = '<--cat'\n",
    "while i < 5:\n",
    "    k -= 1\n",
    "    j = k\n",
    "    while j > 10:\n",
    "        if j % 2 == 0:\n",
    "            test += '-->'\n",
    "            test = test + str(i) + str(j // 2)\n",
    "        else:\n",
    "            test += '<--'\n",
    "            test = test + str(i // 2) + str(j)\n",
    "        print(test)\n",
    "        j-=1\n",
    "    i+=1"
   ]
  },
  {
   "cell_type": "markdown",
   "metadata": {},
   "source": [
    "U G R A D E D || O P T I O N A L || T A S K S"
   ]
  },
  {
   "cell_type": "code",
   "execution_count": 11,
   "metadata": {},
   "outputs": [
    {
     "name": "stdout",
     "output_type": "stream",
     "text": [
      "tnjiro kmdo\n"
     ]
    }
   ],
   "source": [
    "#Task 16\n",
    "\n",
    "string = input(\"Please enter a string: \")\n",
    "letter = input(\"Please enter a letter: \")\n",
    "new_string = \"\"\n",
    "if letter in string:\n",
    "    for i in string:\n",
    "        if i != letter:\n",
    "            new_string += i\n",
    "    print(new_string)\n",
    "elif len(string) > 3:\n",
    "    print(string[1:-1])\n",
    "else:\n",
    "    print(string)\n",
    "\n",
    "\n",
    "        \n"
   ]
  },
  {
   "cell_type": "code",
   "execution_count": 26,
   "metadata": {},
   "outputs": [
    {
     "name": "stdout",
     "output_type": "stream",
     "text": [
      "tom@gmail\n",
      "harry@yahoo\n",
      "bob@gmail\n",
      "mary@gmail\n"
     ]
    }
   ],
   "source": [
    "#Task 17\n",
    "\n",
    "string = input(\"Please enter a string: \")\n",
    "character = input(\"Please enter a string: \")\n",
    "split_string = \"\"\n",
    "list1 = []\n",
    "for i in string:\n",
    "    if i == character:\n",
    "        list1.append(split_string)\n",
    "        split_string = \"\"\n",
    "    else:\n",
    "        split_string += i\n",
    "list1.append(split_string)\n",
    "for i in list1:\n",
    "    print(i)\n",
    "\n",
    "\n",
    "        \n",
    "\n",
    "\n"
   ]
  },
  {
   "cell_type": "code",
   "execution_count": 31,
   "metadata": {},
   "outputs": [
    {
     "name": "stdout",
     "output_type": "stream",
     "text": [
      "CSE110CSE110CSE110CSE110CSE110CSE110CSE110CSE110"
     ]
    }
   ],
   "source": [
    "#Task 18\n",
    "\n",
    "string = input(\"Please enter a string: \")\n",
    "num = int(input(\"Please enter a number: \"))\n",
    "if num % 2 == 0:\n",
    "    for i in range(num*2):\n",
    "        print(string,end = \"\")\n",
    "else:\n",
    "    for i in range(num*3):\n",
    "        print(string, end = \"\")"
   ]
  },
  {
   "cell_type": "code",
   "execution_count": 41,
   "metadata": {},
   "outputs": [
    {
     "name": "stdout",
     "output_type": "stream",
     "text": [
      "C"
     ]
    }
   ],
   "source": [
    "#Task 19\n",
    "\n",
    "str = input(\"Please enter a string: \")\n",
    "for i in range(len(str)):\n",
    "    if i == 0:\n",
    "        if ord(str[i])>= 97 and ord(str[i])<= 122:\n",
    "            print(chr(ord(str[i]) - 32), end = \"\")\n",
    "        else:\n",
    "            print(str[i], end = \"\")\n",
    "    elif str[i] == \" \":\n",
    "        print(str[i], end = \"\")\n",
    "    elif i % 2 == 0:\n",
    "        if ord(str[i])>= 97 and ord(str[i])<= 122:\n",
    "            print(chr(ord(str[i]) - 32), end = \"\")\n",
    "        else:\n",
    "            print(str[i], end = \"\")\n",
    "    elif i % 2 != 0:\n",
    "        if ord(str[i])>= 65 and ord(str[i])<= 90:\n",
    "            print(chr(ord(str[i]) + 32), end = \"\")\n",
    "        else:\n",
    "            print(str[i], end = \"\")\n",
    "       \n"
   ]
  },
  {
   "cell_type": "code",
   "execution_count": 46,
   "metadata": {},
   "outputs": [
    {
     "name": "stdout",
     "output_type": "stream",
     "text": [
      "PyThOn pRoGrAmMiNg iS VeRy eAsY"
     ]
    }
   ],
   "source": [
    "#Task 19 (Cleaner)\n",
    "\n",
    "str = input(\"Please enter a string: \")\n",
    "for i in range(len(str)):\n",
    "    x = str[i]\n",
    "    y = ord(x)\n",
    "    if i == 0:\n",
    "        if y>= 97 and y<= 122:\n",
    "            print(chr(y - 32), end = \"\")\n",
    "        else:\n",
    "            print(x, end = \"\")\n",
    "    elif x == \" \":\n",
    "        print(x, end = \"\")\n",
    "    elif i % 2 == 0:\n",
    "        if y>= 97 and y<= 122:\n",
    "            print(chr(y - 32), end = \"\")\n",
    "        else:\n",
    "            print(x, end = \"\")\n",
    "    elif i % 2 != 0:\n",
    "        if y>= 65 and y<= 90:\n",
    "            print(chr(y + 32), end = \"\")\n",
    "        else:\n",
    "            print(x, end = \"\")\n",
    "       "
   ]
  }
 ],
 "metadata": {
  "kernelspec": {
   "display_name": "Python 3.11.0 64-bit",
   "language": "python",
   "name": "python3"
  },
  "language_info": {
   "codemirror_mode": {
    "name": "ipython",
    "version": 3
   },
   "file_extension": ".py",
   "mimetype": "text/x-python",
   "name": "python",
   "nbconvert_exporter": "python",
   "pygments_lexer": "ipython3",
   "version": "3.11.0 (main, Oct 24 2022, 18:26:48) [MSC v.1933 64 bit (AMD64)]"
  },
  "orig_nbformat": 4,
  "vscode": {
   "interpreter": {
    "hash": "498855faaa6f9836163d545070b42acc99cdc01841cba1b8d28d167406f7ff2b"
   }
  }
 },
 "nbformat": 4,
 "nbformat_minor": 2
}
