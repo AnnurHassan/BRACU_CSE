{
 "cells": [
  {
   "cell_type": "markdown",
   "metadata": {},
   "source": [
    "||| S T A R T ||| O F ||| A S S I G N M E N T - 1 |||"
   ]
  },
  {
   "cell_type": "code",
   "execution_count": 12,
   "metadata": {},
   "outputs": [
    {
     "name": "stdout",
     "output_type": "stream",
     "text": [
      "hello world\n"
     ]
    }
   ],
   "source": [
    "#Task 1\n",
    "\n",
    "print(\"hello world\")"
   ]
  },
  {
   "cell_type": "code",
   "execution_count": 13,
   "metadata": {},
   "outputs": [
    {
     "name": "stdout",
     "output_type": "stream",
     "text": [
      "110\n"
     ]
    }
   ],
   "source": [
    "#Task 2\n",
    "\n",
    "print(54 + 56)"
   ]
  },
  {
   "cell_type": "code",
   "execution_count": 14,
   "metadata": {},
   "outputs": [
    {
     "name": "stdout",
     "output_type": "stream",
     "text": [
      "Fall\n",
      "2022\n"
     ]
    }
   ],
   "source": [
    "#Task 3\n",
    "\n",
    "season = \"Fall\"\n",
    "year = 2022\n",
    "print(season)\n",
    "print(year)"
   ]
  },
  {
   "cell_type": "code",
   "execution_count": 16,
   "metadata": {},
   "outputs": [
    {
     "name": "stdout",
     "output_type": "stream",
     "text": [
      "Your name is John\n"
     ]
    }
   ],
   "source": [
    "#Task 4\n",
    "\n",
    "name = input(\"Please enter a name :\")\n",
    "print(f'Your name is {name}')\n"
   ]
  },
  {
   "cell_type": "code",
   "execution_count": 18,
   "metadata": {},
   "outputs": [
    {
     "name": "stdout",
     "output_type": "stream",
     "text": [
      "10^3:1000\n"
     ]
    }
   ],
   "source": [
    "#Task 5\n",
    "\n",
    "value_M = int(input(\"Enter the value of M: \"))\n",
    "value_N = int(input(\"Enter the value of N: \"))\n",
    "result = pow(value_M,value_N)\n",
    "print(f'{value_M}^{value_N}:{result}')"
   ]
  },
  {
   "cell_type": "code",
   "execution_count": 21,
   "metadata": {},
   "outputs": [
    {
     "name": "stdout",
     "output_type": "stream",
     "text": [
      "20\n"
     ]
    }
   ],
   "source": [
    "#Task 6\n",
    "\n",
    "weight = int(input(\"Please enter a weight: \"))\n",
    "maximum_load = (weight//4)*4\n",
    "print(maximum_load)"
   ]
  },
  {
   "cell_type": "code",
   "execution_count": 23,
   "metadata": {},
   "outputs": [
    {
     "name": "stdout",
     "output_type": "stream",
     "text": [
      "2022\n"
     ]
    }
   ],
   "source": [
    "#Task 7\n",
    "\n",
    "num_A = int(input(\"Please enter a value: \"))\n",
    "num_B = int(input(\"Please enter a value: \"))\n",
    "num_C = int(input(\"Please enter a value: \"))\n",
    "num_D = float(input(\"Please enter a value: \"))\n",
    "result = (num_A**num_C) + num_B*num_A - num_D / 3\n",
    "print(int(result)) "
   ]
  },
  {
   "cell_type": "code",
   "execution_count": 25,
   "metadata": {},
   "outputs": [
    {
     "name": "stdout",
     "output_type": "stream",
     "text": [
      "Each friend will get 30 chocolates\n",
      "The number of remaining chocolates is 0.\n"
     ]
    }
   ],
   "source": [
    "#Task 8\n",
    "\n",
    "number = int(input(\"Please enter the number of chocolates : \"))\n",
    "result = number // 3\n",
    "remaining_chocolates = number - result*3\n",
    "print(f'Each friend will get {result} chocolates')\n",
    "print(f'The number of remaining chocolates is {remaining_chocolates}.')"
   ]
  },
  {
   "cell_type": "code",
   "execution_count": 28,
   "metadata": {},
   "outputs": [
    {
     "name": "stdout",
     "output_type": "stream",
     "text": [
      "3Python\n"
     ]
    }
   ],
   "source": [
    "#Task 9\n",
    "\n",
    "value_M = input(\"Enter the value of M: \")\n",
    "value_N = input(\"Enter the value of N: \")\n",
    "result = value_N + value_M\n",
    "print(result)"
   ]
  },
  {
   "cell_type": "code",
   "execution_count": 30,
   "metadata": {},
   "outputs": [
    {
     "name": "stdout",
     "output_type": "stream",
     "text": [
      "P\n"
     ]
    }
   ],
   "source": [
    "#Task 10\n",
    "\n",
    "line = input(\"Please enter a line: \")\n",
    "print(line[0])"
   ]
  },
  {
   "cell_type": "code",
   "execution_count": 35,
   "metadata": {},
   "outputs": [
    {
     "name": "stdout",
     "output_type": "stream",
     "text": [
      "True\n"
     ]
    }
   ],
   "source": [
    "#Task 11\n",
    "num = int(input(\"Please enter a number : \"))\n",
    "print(num % 2 == 0)"
   ]
  },
  {
   "cell_type": "markdown",
   "metadata": {},
   "source": [
    "||| E N D ||| O F ||| A S S I G N M E N T - 1 |||"
   ]
  }
 ],
 "metadata": {
  "kernelspec": {
   "display_name": "Python 3.11.0 64-bit",
   "language": "python",
   "name": "python3"
  },
  "language_info": {
   "codemirror_mode": {
    "name": "ipython",
    "version": 3
   },
   "file_extension": ".py",
   "mimetype": "text/x-python",
   "name": "python",
   "nbconvert_exporter": "python",
   "pygments_lexer": "ipython3",
   "version": "3.11.0 (main, Oct 24 2022, 18:26:48) [MSC v.1933 64 bit (AMD64)]"
  },
  "orig_nbformat": 4,
  "vscode": {
   "interpreter": {
    "hash": "498855faaa6f9836163d545070b42acc99cdc01841cba1b8d28d167406f7ff2b"
   }
  }
 },
 "nbformat": 4,
 "nbformat_minor": 2
}
